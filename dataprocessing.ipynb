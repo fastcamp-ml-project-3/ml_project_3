{
 "cells": [
  {
   "cell_type": "markdown",
   "metadata": {},
   "source": [
    "# Final Data Processing"
   ]
  },
  {
   "cell_type": "code",
   "execution_count": 61,
   "metadata": {},
   "outputs": [],
   "source": [
    "import numpy as np\n",
    "import pandas as pd\n",
    "\n",
    "import warnings\n",
    "pd.set_option('display.max_columns', None)\n",
    "pd.options.display.float_format = '{:.3f}'.format\n",
    "warnings.filterwarnings('ignore')"
   ]
  },
  {
   "cell_type": "code",
   "execution_count": 62,
   "metadata": {},
   "outputs": [],
   "source": [
    "train = pd.read_csv(\"../data/train.csv\")\n",
    "train['date'] = pd.to_datetime(train['date'])"
   ]
  },
  {
   "cell_type": "code",
   "execution_count": 63,
   "metadata": {},
   "outputs": [],
   "source": [
    "family_rank = train.groupby(\"family\").sales.mean().sort_values(ascending = False).reset_index()"
   ]
  },
  {
   "cell_type": "code",
   "execution_count": 64,
   "metadata": {},
   "outputs": [
    {
     "data": {
      "text/html": [
       "<div>\n",
       "<style scoped>\n",
       "    .dataframe tbody tr th:only-of-type {\n",
       "        vertical-align: middle;\n",
       "    }\n",
       "\n",
       "    .dataframe tbody tr th {\n",
       "        vertical-align: top;\n",
       "    }\n",
       "\n",
       "    .dataframe thead th {\n",
       "        text-align: right;\n",
       "    }\n",
       "</style>\n",
       "<table border=\"1\" class=\"dataframe\">\n",
       "  <thead>\n",
       "    <tr style=\"text-align: right;\">\n",
       "      <th></th>\n",
       "      <th>family</th>\n",
       "      <th>sales</th>\n",
       "    </tr>\n",
       "  </thead>\n",
       "  <tbody>\n",
       "    <tr>\n",
       "      <th>0</th>\n",
       "      <td>GROCERY I</td>\n",
       "      <td>3776.972</td>\n",
       "    </tr>\n",
       "    <tr>\n",
       "      <th>1</th>\n",
       "      <td>BEVERAGES</td>\n",
       "      <td>2385.793</td>\n",
       "    </tr>\n",
       "    <tr>\n",
       "      <th>2</th>\n",
       "      <td>PRODUCE</td>\n",
       "      <td>1349.352</td>\n",
       "    </tr>\n",
       "    <tr>\n",
       "      <th>3</th>\n",
       "      <td>CLEANING</td>\n",
       "      <td>1072.417</td>\n",
       "    </tr>\n",
       "    <tr>\n",
       "      <th>4</th>\n",
       "      <td>DAIRY</td>\n",
       "      <td>709.155</td>\n",
       "    </tr>\n",
       "    <tr>\n",
       "      <th>5</th>\n",
       "      <td>BREAD/BAKERY</td>\n",
       "      <td>463.336</td>\n",
       "    </tr>\n",
       "    <tr>\n",
       "      <th>6</th>\n",
       "      <td>POULTRY</td>\n",
       "      <td>350.532</td>\n",
       "    </tr>\n",
       "    <tr>\n",
       "      <th>7</th>\n",
       "      <td>MEATS</td>\n",
       "      <td>341.850</td>\n",
       "    </tr>\n",
       "    <tr>\n",
       "      <th>8</th>\n",
       "      <td>PERSONAL CARE</td>\n",
       "      <td>270.433</td>\n",
       "    </tr>\n",
       "    <tr>\n",
       "      <th>9</th>\n",
       "      <td>DELI</td>\n",
       "      <td>265.135</td>\n",
       "    </tr>\n",
       "    <tr>\n",
       "      <th>10</th>\n",
       "      <td>HOME CARE</td>\n",
       "      <td>176.198</td>\n",
       "    </tr>\n",
       "    <tr>\n",
       "      <th>11</th>\n",
       "      <td>EGGS</td>\n",
       "      <td>171.421</td>\n",
       "    </tr>\n",
       "    <tr>\n",
       "      <th>12</th>\n",
       "      <td>FROZEN FOODS</td>\n",
       "      <td>154.767</td>\n",
       "    </tr>\n",
       "    <tr>\n",
       "      <th>13</th>\n",
       "      <td>PREPARED FOODS</td>\n",
       "      <td>96.770</td>\n",
       "    </tr>\n",
       "    <tr>\n",
       "      <th>14</th>\n",
       "      <td>LIQUOR,WINE,BEER</td>\n",
       "      <td>85.188</td>\n",
       "    </tr>\n",
       "    <tr>\n",
       "      <th>15</th>\n",
       "      <td>OTHERS</td>\n",
       "      <td>137.281</td>\n",
       "    </tr>\n",
       "  </tbody>\n",
       "</table>\n",
       "</div>"
      ],
      "text/plain": [
       "              family    sales\n",
       "0          GROCERY I 3776.972\n",
       "1          BEVERAGES 2385.793\n",
       "2            PRODUCE 1349.352\n",
       "3           CLEANING 1072.417\n",
       "4              DAIRY  709.155\n",
       "5       BREAD/BAKERY  463.336\n",
       "6            POULTRY  350.532\n",
       "7              MEATS  341.850\n",
       "8      PERSONAL CARE  270.433\n",
       "9               DELI  265.135\n",
       "10         HOME CARE  176.198\n",
       "11              EGGS  171.421\n",
       "12      FROZEN FOODS  154.767\n",
       "13    PREPARED FOODS   96.770\n",
       "14  LIQUOR,WINE,BEER   85.188\n",
       "15            OTHERS  137.281"
      ]
     },
     "execution_count": 64,
     "metadata": {},
     "output_type": "execute_result"
    }
   ],
   "source": [
    "# 전체 sales의 99% 기준 계산\n",
    "total_sales = family_rank['sales'].sum()\n",
    "cumulative_sales = family_rank['sales'].cumsum()\n",
    "threshold = total_sales * 0.99\n",
    "\n",
    "# 95%를 차지하는 품목 식별\n",
    "family_rank['cumulative_sales'] = cumulative_sales\n",
    "top_99 = family_rank[family_rank['cumulative_sales'] <= threshold]\n",
    "top_99_families = top_99['family'].unique()\n",
    "\n",
    "# 나머지 품목 합산하여 OTHERS로 처리\n",
    "others = family_rank[family_rank['cumulative_sales'] > threshold]\n",
    "others_sum = others['sales'].sum()\n",
    "\n",
    "# 결과 데이터프레임 생성\n",
    "result = top_99[['family', 'sales']].copy()\n",
    "others_row = pd.DataFrame([{'family': 'OTHERS', 'sales': others_sum}])\n",
    "result = pd.concat([result, others_row], ignore_index=True)\n",
    "\n",
    "result"
   ]
  },
  {
   "cell_type": "code",
   "execution_count": 65,
   "metadata": {},
   "outputs": [],
   "source": [
    "# family가 top_95 목록에 없으면 'OTHERS'로 변경\n",
    "train['family'] = train['family'].apply(lambda x: x if x in top_99_families else 'OTHERS')"
   ]
  },
  {
   "cell_type": "code",
   "execution_count": 66,
   "metadata": {},
   "outputs": [
    {
     "name": "stdout",
     "output_type": "stream",
     "text": [
      "<class 'pandas.core.frame.DataFrame'>\n",
      "RangeIndex: 3000888 entries, 0 to 3000887\n",
      "Data columns (total 6 columns):\n",
      " #   Column       Dtype         \n",
      "---  ------       -----         \n",
      " 0   id           int64         \n",
      " 1   date         datetime64[ns]\n",
      " 2   store_nbr    int64         \n",
      " 3   family       object        \n",
      " 4   sales        float64       \n",
      " 5   onpromotion  int64         \n",
      "dtypes: datetime64[ns](1), float64(1), int64(3), object(1)\n",
      "memory usage: 137.4+ MB\n"
     ]
    }
   ],
   "source": [
    "train.info()"
   ]
  },
  {
   "cell_type": "code",
   "execution_count": 67,
   "metadata": {},
   "outputs": [
    {
     "name": "stdout",
     "output_type": "stream",
     "text": [
      "<class 'pandas.core.frame.DataFrame'>\n",
      "RangeIndex: 1454976 entries, 0 to 1454975\n",
      "Data columns (total 6 columns):\n",
      " #   Column       Non-Null Count    Dtype         \n",
      "---  ------       --------------    -----         \n",
      " 0   id           1454976 non-null  int64         \n",
      " 1   date         1454976 non-null  datetime64[ns]\n",
      " 2   store_nbr    1454976 non-null  int64         \n",
      " 3   family       1454976 non-null  object        \n",
      " 4   sales        1454976 non-null  float64       \n",
      " 5   onpromotion  1454976 non-null  int64         \n",
      "dtypes: datetime64[ns](1), float64(1), int64(3), object(1)\n",
      "memory usage: 66.6+ MB\n"
     ]
    }
   ],
   "source": [
    "# 'date'와 'store_nbr'로 그룹화하고, 'family'가 'OTHERS'인 경우를 처리\n",
    "def process_group(group):\n",
    "    if 'OTHERS' in group['family'].values:\n",
    "        # 'OTHERS'에 해당하는 'sales'와 'onpromotion' 값 합산\n",
    "        others_sales_sum = group[group['family'] == 'OTHERS']['sales'].sum()\n",
    "        others_onpromotion_sum = group[group['family'] == 'OTHERS']['onpromotion'].sum()\n",
    "        # 'OTHERS' 중 첫 번째 항목만 남기고 나머지는 삭제\n",
    "        first_others_idx = group[group['family'] == 'OTHERS'].index[0]\n",
    "        group = group.drop(group[group['family'] == 'OTHERS'].index[1:])\n",
    "        # 남은 'OTHERS'의 'sales'와 'onpromotion' 값을 합산된 값으로 업데이트\n",
    "        group.loc[first_others_idx, 'sales'] = others_sales_sum\n",
    "        group.loc[first_others_idx, 'onpromotion'] = others_onpromotion_sum\n",
    "    return group\n",
    "\n",
    "# 그룹별로 처리\n",
    "train_pre = train.groupby(['date', 'store_nbr']).apply(process_group).reset_index(drop=True)\n",
    "train_pre.info()"
   ]
  },
  {
   "cell_type": "code",
   "execution_count": 68,
   "metadata": {},
   "outputs": [
    {
     "name": "stdout",
     "output_type": "stream",
     "text": [
      "<class 'pandas.core.frame.DataFrame'>\n",
      "RangeIndex: 1454976 entries, 0 to 1454975\n",
      "Data columns (total 6 columns):\n",
      " #   Column       Non-Null Count    Dtype         \n",
      "---  ------       --------------    -----         \n",
      " 0   id           1454976 non-null  int64         \n",
      " 1   date         1454976 non-null  datetime64[ns]\n",
      " 2   store_nbr    1454976 non-null  int64         \n",
      " 3   family       1454976 non-null  object        \n",
      " 4   sales        1454976 non-null  float64       \n",
      " 5   onpromotion  1454976 non-null  int64         \n",
      "dtypes: datetime64[ns](1), float64(1), int64(3), object(1)\n",
      "memory usage: 66.6+ MB\n"
     ]
    }
   ],
   "source": [
    "train_pre.info()"
   ]
  },
  {
   "cell_type": "markdown",
   "metadata": {},
   "source": [
    "##### transaction 처리"
   ]
  },
  {
   "cell_type": "code",
   "execution_count": 69,
   "metadata": {},
   "outputs": [
    {
     "name": "stdout",
     "output_type": "stream",
     "text": [
      "<class 'pandas.core.frame.DataFrame'>\n",
      "RangeIndex: 83488 entries, 0 to 83487\n",
      "Data columns (total 3 columns):\n",
      " #   Column        Non-Null Count  Dtype         \n",
      "---  ------        --------------  -----         \n",
      " 0   date          83488 non-null  datetime64[ns]\n",
      " 1   store_nbr     83488 non-null  int64         \n",
      " 2   transactions  83488 non-null  int64         \n",
      "dtypes: datetime64[ns](1), int64(2)\n",
      "memory usage: 1.9 MB\n"
     ]
    }
   ],
   "source": [
    "transactions = pd.read_csv(\"../data//transactions.csv\")\n",
    "transactions['date'] = pd.to_datetime(transactions['date'])\n",
    "transactions.info()"
   ]
  },
  {
   "cell_type": "code",
   "execution_count": 70,
   "metadata": {},
   "outputs": [
    {
     "data": {
      "text/html": [
       "<div>\n",
       "<style scoped>\n",
       "    .dataframe tbody tr th:only-of-type {\n",
       "        vertical-align: middle;\n",
       "    }\n",
       "\n",
       "    .dataframe tbody tr th {\n",
       "        vertical-align: top;\n",
       "    }\n",
       "\n",
       "    .dataframe thead th {\n",
       "        text-align: right;\n",
       "    }\n",
       "</style>\n",
       "<table border=\"1\" class=\"dataframe\">\n",
       "  <thead>\n",
       "    <tr style=\"text-align: right;\">\n",
       "      <th></th>\n",
       "      <th>id</th>\n",
       "      <th>date</th>\n",
       "      <th>store_nbr</th>\n",
       "      <th>family</th>\n",
       "      <th>sales</th>\n",
       "      <th>onpromotion</th>\n",
       "      <th>transactions</th>\n",
       "    </tr>\n",
       "  </thead>\n",
       "  <tbody>\n",
       "    <tr>\n",
       "      <th>0</th>\n",
       "      <td>0</td>\n",
       "      <td>2013-01-01</td>\n",
       "      <td>1</td>\n",
       "      <td>OTHERS</td>\n",
       "      <td>0.000</td>\n",
       "      <td>0</td>\n",
       "      <td>NaN</td>\n",
       "    </tr>\n",
       "    <tr>\n",
       "      <th>1</th>\n",
       "      <td>3</td>\n",
       "      <td>2013-01-01</td>\n",
       "      <td>1</td>\n",
       "      <td>BEVERAGES</td>\n",
       "      <td>0.000</td>\n",
       "      <td>0</td>\n",
       "      <td>NaN</td>\n",
       "    </tr>\n",
       "    <tr>\n",
       "      <th>2</th>\n",
       "      <td>5</td>\n",
       "      <td>2013-01-01</td>\n",
       "      <td>1</td>\n",
       "      <td>BREAD/BAKERY</td>\n",
       "      <td>0.000</td>\n",
       "      <td>0</td>\n",
       "      <td>NaN</td>\n",
       "    </tr>\n",
       "    <tr>\n",
       "      <th>3</th>\n",
       "      <td>7</td>\n",
       "      <td>2013-01-01</td>\n",
       "      <td>1</td>\n",
       "      <td>CLEANING</td>\n",
       "      <td>0.000</td>\n",
       "      <td>0</td>\n",
       "      <td>NaN</td>\n",
       "    </tr>\n",
       "    <tr>\n",
       "      <th>4</th>\n",
       "      <td>8</td>\n",
       "      <td>2013-01-01</td>\n",
       "      <td>1</td>\n",
       "      <td>DAIRY</td>\n",
       "      <td>0.000</td>\n",
       "      <td>0</td>\n",
       "      <td>NaN</td>\n",
       "    </tr>\n",
       "    <tr>\n",
       "      <th>...</th>\n",
       "      <td>...</td>\n",
       "      <td>...</td>\n",
       "      <td>...</td>\n",
       "      <td>...</td>\n",
       "      <td>...</td>\n",
       "      <td>...</td>\n",
       "      <td>...</td>\n",
       "    </tr>\n",
       "    <tr>\n",
       "      <th>1454971</th>\n",
       "      <td>3000747</td>\n",
       "      <td>2017-08-15</td>\n",
       "      <td>54</td>\n",
       "      <td>MEATS</td>\n",
       "      <td>57.842</td>\n",
       "      <td>0</td>\n",
       "      <td>802.000</td>\n",
       "    </tr>\n",
       "    <tr>\n",
       "      <th>1454972</th>\n",
       "      <td>3000748</td>\n",
       "      <td>2017-08-15</td>\n",
       "      <td>54</td>\n",
       "      <td>PERSONAL CARE</td>\n",
       "      <td>169.000</td>\n",
       "      <td>5</td>\n",
       "      <td>802.000</td>\n",
       "    </tr>\n",
       "    <tr>\n",
       "      <th>1454973</th>\n",
       "      <td>3000751</td>\n",
       "      <td>2017-08-15</td>\n",
       "      <td>54</td>\n",
       "      <td>POULTRY</td>\n",
       "      <td>59.619</td>\n",
       "      <td>0</td>\n",
       "      <td>802.000</td>\n",
       "    </tr>\n",
       "    <tr>\n",
       "      <th>1454974</th>\n",
       "      <td>3000752</td>\n",
       "      <td>2017-08-15</td>\n",
       "      <td>54</td>\n",
       "      <td>PREPARED FOODS</td>\n",
       "      <td>94.000</td>\n",
       "      <td>0</td>\n",
       "      <td>802.000</td>\n",
       "    </tr>\n",
       "    <tr>\n",
       "      <th>1454975</th>\n",
       "      <td>3000753</td>\n",
       "      <td>2017-08-15</td>\n",
       "      <td>54</td>\n",
       "      <td>PRODUCE</td>\n",
       "      <td>915.371</td>\n",
       "      <td>76</td>\n",
       "      <td>802.000</td>\n",
       "    </tr>\n",
       "  </tbody>\n",
       "</table>\n",
       "<p>1454976 rows × 7 columns</p>\n",
       "</div>"
      ],
      "text/plain": [
       "              id       date  store_nbr          family   sales  onpromotion  \\\n",
       "0              0 2013-01-01          1          OTHERS   0.000            0   \n",
       "1              3 2013-01-01          1       BEVERAGES   0.000            0   \n",
       "2              5 2013-01-01          1    BREAD/BAKERY   0.000            0   \n",
       "3              7 2013-01-01          1        CLEANING   0.000            0   \n",
       "4              8 2013-01-01          1           DAIRY   0.000            0   \n",
       "...          ...        ...        ...             ...     ...          ...   \n",
       "1454971  3000747 2017-08-15         54           MEATS  57.842            0   \n",
       "1454972  3000748 2017-08-15         54   PERSONAL CARE 169.000            5   \n",
       "1454973  3000751 2017-08-15         54         POULTRY  59.619            0   \n",
       "1454974  3000752 2017-08-15         54  PREPARED FOODS  94.000            0   \n",
       "1454975  3000753 2017-08-15         54         PRODUCE 915.371           76   \n",
       "\n",
       "         transactions  \n",
       "0                 NaN  \n",
       "1                 NaN  \n",
       "2                 NaN  \n",
       "3                 NaN  \n",
       "4                 NaN  \n",
       "...               ...  \n",
       "1454971       802.000  \n",
       "1454972       802.000  \n",
       "1454973       802.000  \n",
       "1454974       802.000  \n",
       "1454975       802.000  \n",
       "\n",
       "[1454976 rows x 7 columns]"
      ]
     },
     "execution_count": 70,
     "metadata": {},
     "output_type": "execute_result"
    }
   ],
   "source": [
    "# 데이터프레임 병합\n",
    "train_transactions = pd.merge(train_pre, transactions, on=['date', 'store_nbr'], how='left')\n",
    "\n",
    "# 결과 출력\n",
    "train_transactions"
   ]
  },
  {
   "cell_type": "code",
   "execution_count": 71,
   "metadata": {},
   "outputs": [
    {
     "name": "stdout",
     "output_type": "stream",
     "text": [
      "Missing sales : 0, Number of rows with sales value of 0: 174603\n",
      "Missing transactions : 119168, Number of rows with sales value of 0: 0\n"
     ]
    }
   ],
   "source": [
    "missing_sales = train_transactions['sales'].isnull().sum()\n",
    "sales_zero_count = train_transactions[train_transactions['sales'] == 0.0].shape[0]\n",
    "\n",
    "missing_transactions = train_transactions['transactions'].isnull().sum()\n",
    "transactions_zero_count = train_transactions[train_transactions['transactions'] == 0.0].shape[0]\n",
    "\n",
    "print(f\"Missing sales : {missing_sales}, Number of rows with sales value of 0: {sales_zero_count}\")\n",
    "print(f\"Missing transactions : {missing_transactions}, Number of rows with sales value of 0: {transactions_zero_count}\")\n"
   ]
  },
  {
   "cell_type": "code",
   "execution_count": 72,
   "metadata": {},
   "outputs": [
    {
     "name": "stdout",
     "output_type": "stream",
     "text": [
      "Missing sales : 0, Number of rows with sales value of 0: 0\n",
      "Missing transactions : 0, Number of rows with transactions value of 0: 1826\n"
     ]
    }
   ],
   "source": [
    "# sales 값이 0인 행 삭제\n",
    "train_transactions = train_transactions[train_transactions['sales'] != 0.0]\n",
    "\n",
    "# transactions의 null 값을 0으로 설정\n",
    "train_transactions['transactions'].fillna(0, inplace=True)\n",
    "\n",
    "# 결과 확인\n",
    "missing_sales = train_transactions['sales'].isnull().sum()\n",
    "sales_zero_count = train_transactions[train_transactions['sales'] == 0.0].shape[0]\n",
    "\n",
    "missing_transactions = train_transactions['transactions'].isnull().sum()\n",
    "transactions_zero_count = train_transactions[train_transactions['transactions'] == 0.0].shape[0]\n",
    "\n",
    "print(f\"Missing sales : {missing_sales}, Number of rows with sales value of 0: {sales_zero_count}\")\n",
    "print(f\"Missing transactions : {missing_transactions}, Number of rows with transactions value of 0: {transactions_zero_count}\")"
   ]
  },
  {
   "cell_type": "code",
   "execution_count": 73,
   "metadata": {},
   "outputs": [],
   "source": [
    "# 인덱스 재설정\n",
    "train_transactions.reset_index(drop=True, inplace=True)"
   ]
  },
  {
   "cell_type": "code",
   "execution_count": 74,
   "metadata": {},
   "outputs": [
    {
     "name": "stdout",
     "output_type": "stream",
     "text": [
      "<class 'pandas.core.frame.DataFrame'>\n",
      "RangeIndex: 1280373 entries, 0 to 1280372\n",
      "Data columns (total 7 columns):\n",
      " #   Column        Non-Null Count    Dtype         \n",
      "---  ------        --------------    -----         \n",
      " 0   id            1280373 non-null  int64         \n",
      " 1   date          1280373 non-null  datetime64[ns]\n",
      " 2   store_nbr     1280373 non-null  int64         \n",
      " 3   family        1280373 non-null  object        \n",
      " 4   sales         1280373 non-null  float64       \n",
      " 5   onpromotion   1280373 non-null  int64         \n",
      " 6   transactions  1280373 non-null  float64       \n",
      "dtypes: datetime64[ns](1), float64(2), int64(3), object(1)\n",
      "memory usage: 68.4+ MB\n"
     ]
    }
   ],
   "source": [
    "train_transactions.info()"
   ]
  },
  {
   "cell_type": "markdown",
   "metadata": {},
   "source": [
    "300만개 데이터를 128만개로 줄임"
   ]
  },
  {
   "cell_type": "markdown",
   "metadata": {},
   "source": [
    "##### holidays_events 처리"
   ]
  },
  {
   "cell_type": "code",
   "execution_count": 75,
   "metadata": {},
   "outputs": [
    {
     "name": "stdout",
     "output_type": "stream",
     "text": [
      "<class 'pandas.core.frame.DataFrame'>\n",
      "RangeIndex: 350 entries, 0 to 349\n",
      "Data columns (total 6 columns):\n",
      " #   Column       Non-Null Count  Dtype         \n",
      "---  ------       --------------  -----         \n",
      " 0   date         350 non-null    datetime64[ns]\n",
      " 1   type         350 non-null    object        \n",
      " 2   locale       350 non-null    object        \n",
      " 3   locale_name  350 non-null    object        \n",
      " 4   description  350 non-null    object        \n",
      " 5   transferred  350 non-null    bool          \n",
      "dtypes: bool(1), datetime64[ns](1), object(4)\n",
      "memory usage: 14.1+ KB\n"
     ]
    }
   ],
   "source": [
    "holidays_events = pd.read_csv(\"../data//holidays_events.csv\")\n",
    "holidays_events['date'] = pd.to_datetime(transactions['date'])\n",
    "holidays_events.info()"
   ]
  },
  {
   "cell_type": "markdown",
   "metadata": {},
   "source": [
    "preprocessing 결과 locale과 type에 다른 변수에 따라 영향을 받지 않으므로 단순히 holday 가 있는 날은 0, 없는 날을 1로 세팅"
   ]
  },
  {
   "cell_type": "code",
   "execution_count": 76,
   "metadata": {},
   "outputs": [],
   "source": [
    "train_transactions['is_holiday'] = train_transactions['date'].isin(holidays_events['date']).astype(int)"
   ]
  },
  {
   "cell_type": "code",
   "execution_count": 77,
   "metadata": {},
   "outputs": [
    {
     "name": "stdout",
     "output_type": "stream",
     "text": [
      "<class 'pandas.core.frame.DataFrame'>\n",
      "RangeIndex: 1280373 entries, 0 to 1280372\n",
      "Data columns (total 8 columns):\n",
      " #   Column        Non-Null Count    Dtype         \n",
      "---  ------        --------------    -----         \n",
      " 0   id            1280373 non-null  int64         \n",
      " 1   date          1280373 non-null  datetime64[ns]\n",
      " 2   store_nbr     1280373 non-null  int64         \n",
      " 3   family        1280373 non-null  object        \n",
      " 4   sales         1280373 non-null  float64       \n",
      " 5   onpromotion   1280373 non-null  int64         \n",
      " 6   transactions  1280373 non-null  float64       \n",
      " 7   is_holiday    1280373 non-null  int64         \n",
      "dtypes: datetime64[ns](1), float64(2), int64(4), object(1)\n",
      "memory usage: 78.1+ MB\n"
     ]
    }
   ],
   "source": [
    "train_transactions.info()"
   ]
  },
  {
   "cell_type": "markdown",
   "metadata": {},
   "source": [
    "##### store 데이터 처리"
   ]
  },
  {
   "cell_type": "code",
   "execution_count": 78,
   "metadata": {},
   "outputs": [
    {
     "name": "stdout",
     "output_type": "stream",
     "text": [
      "<class 'pandas.core.frame.DataFrame'>\n",
      "RangeIndex: 54 entries, 0 to 53\n",
      "Data columns (total 5 columns):\n",
      " #   Column     Non-Null Count  Dtype \n",
      "---  ------     --------------  ----- \n",
      " 0   store_nbr  54 non-null     int64 \n",
      " 1   city       54 non-null     object\n",
      " 2   state      54 non-null     object\n",
      " 3   type       54 non-null     object\n",
      " 4   cluster    54 non-null     int64 \n",
      "dtypes: int64(2), object(3)\n",
      "memory usage: 2.2+ KB\n"
     ]
    }
   ],
   "source": [
    "stores = pd.read_csv(\"../data//stores.csv\")\n",
    "stores.info()"
   ]
  },
  {
   "cell_type": "code",
   "execution_count": 79,
   "metadata": {},
   "outputs": [
    {
     "data": {
      "text/html": [
       "<div>\n",
       "<style scoped>\n",
       "    .dataframe tbody tr th:only-of-type {\n",
       "        vertical-align: middle;\n",
       "    }\n",
       "\n",
       "    .dataframe tbody tr th {\n",
       "        vertical-align: top;\n",
       "    }\n",
       "\n",
       "    .dataframe thead th {\n",
       "        text-align: right;\n",
       "    }\n",
       "</style>\n",
       "<table border=\"1\" class=\"dataframe\">\n",
       "  <thead>\n",
       "    <tr style=\"text-align: right;\">\n",
       "      <th></th>\n",
       "      <th>store_nbr</th>\n",
       "      <th>city</th>\n",
       "      <th>state</th>\n",
       "      <th>type</th>\n",
       "      <th>cluster</th>\n",
       "    </tr>\n",
       "  </thead>\n",
       "  <tbody>\n",
       "    <tr>\n",
       "      <th>0</th>\n",
       "      <td>1</td>\n",
       "      <td>Quito</td>\n",
       "      <td>Pichincha</td>\n",
       "      <td>D</td>\n",
       "      <td>13</td>\n",
       "    </tr>\n",
       "    <tr>\n",
       "      <th>1</th>\n",
       "      <td>2</td>\n",
       "      <td>Quito</td>\n",
       "      <td>Pichincha</td>\n",
       "      <td>D</td>\n",
       "      <td>13</td>\n",
       "    </tr>\n",
       "    <tr>\n",
       "      <th>2</th>\n",
       "      <td>3</td>\n",
       "      <td>Quito</td>\n",
       "      <td>Pichincha</td>\n",
       "      <td>D</td>\n",
       "      <td>8</td>\n",
       "    </tr>\n",
       "    <tr>\n",
       "      <th>3</th>\n",
       "      <td>4</td>\n",
       "      <td>Quito</td>\n",
       "      <td>Pichincha</td>\n",
       "      <td>D</td>\n",
       "      <td>9</td>\n",
       "    </tr>\n",
       "    <tr>\n",
       "      <th>4</th>\n",
       "      <td>5</td>\n",
       "      <td>Santo Domingo</td>\n",
       "      <td>Santo Domingo de los Tsachilas</td>\n",
       "      <td>D</td>\n",
       "      <td>4</td>\n",
       "    </tr>\n",
       "  </tbody>\n",
       "</table>\n",
       "</div>"
      ],
      "text/plain": [
       "   store_nbr           city                           state type  cluster\n",
       "0          1          Quito                       Pichincha    D       13\n",
       "1          2          Quito                       Pichincha    D       13\n",
       "2          3          Quito                       Pichincha    D        8\n",
       "3          4          Quito                       Pichincha    D        9\n",
       "4          5  Santo Domingo  Santo Domingo de los Tsachilas    D        4"
      ]
     },
     "execution_count": 79,
     "metadata": {},
     "output_type": "execute_result"
    }
   ],
   "source": [
    "stores.head()"
   ]
  },
  {
   "cell_type": "code",
   "execution_count": 80,
   "metadata": {},
   "outputs": [],
   "source": [
    "train_stores = pd.merge(train_transactions, stores, on='store_nbr', how='left')"
   ]
  },
  {
   "cell_type": "code",
   "execution_count": 81,
   "metadata": {},
   "outputs": [
    {
     "data": {
      "text/html": [
       "<div>\n",
       "<style scoped>\n",
       "    .dataframe tbody tr th:only-of-type {\n",
       "        vertical-align: middle;\n",
       "    }\n",
       "\n",
       "    .dataframe tbody tr th {\n",
       "        vertical-align: top;\n",
       "    }\n",
       "\n",
       "    .dataframe thead th {\n",
       "        text-align: right;\n",
       "    }\n",
       "</style>\n",
       "<table border=\"1\" class=\"dataframe\">\n",
       "  <thead>\n",
       "    <tr style=\"text-align: right;\">\n",
       "      <th></th>\n",
       "      <th>id</th>\n",
       "      <th>date</th>\n",
       "      <th>store_nbr</th>\n",
       "      <th>family</th>\n",
       "      <th>sales</th>\n",
       "      <th>onpromotion</th>\n",
       "      <th>transactions</th>\n",
       "      <th>is_holiday</th>\n",
       "      <th>city</th>\n",
       "      <th>state</th>\n",
       "      <th>type</th>\n",
       "      <th>cluster</th>\n",
       "    </tr>\n",
       "  </thead>\n",
       "  <tbody>\n",
       "    <tr>\n",
       "      <th>0</th>\n",
       "      <td>561</td>\n",
       "      <td>2013-01-01</td>\n",
       "      <td>25</td>\n",
       "      <td>OTHERS</td>\n",
       "      <td>24.000</td>\n",
       "      <td>0</td>\n",
       "      <td>770.000</td>\n",
       "      <td>1</td>\n",
       "      <td>Salinas</td>\n",
       "      <td>Santa Elena</td>\n",
       "      <td>D</td>\n",
       "      <td>1</td>\n",
       "    </tr>\n",
       "    <tr>\n",
       "      <th>1</th>\n",
       "      <td>564</td>\n",
       "      <td>2013-01-01</td>\n",
       "      <td>25</td>\n",
       "      <td>BEVERAGES</td>\n",
       "      <td>810.000</td>\n",
       "      <td>0</td>\n",
       "      <td>770.000</td>\n",
       "      <td>1</td>\n",
       "      <td>Salinas</td>\n",
       "      <td>Santa Elena</td>\n",
       "      <td>D</td>\n",
       "      <td>1</td>\n",
       "    </tr>\n",
       "    <tr>\n",
       "      <th>2</th>\n",
       "      <td>566</td>\n",
       "      <td>2013-01-01</td>\n",
       "      <td>25</td>\n",
       "      <td>BREAD/BAKERY</td>\n",
       "      <td>180.589</td>\n",
       "      <td>0</td>\n",
       "      <td>770.000</td>\n",
       "      <td>1</td>\n",
       "      <td>Salinas</td>\n",
       "      <td>Santa Elena</td>\n",
       "      <td>D</td>\n",
       "      <td>1</td>\n",
       "    </tr>\n",
       "    <tr>\n",
       "      <th>3</th>\n",
       "      <td>568</td>\n",
       "      <td>2013-01-01</td>\n",
       "      <td>25</td>\n",
       "      <td>CLEANING</td>\n",
       "      <td>186.000</td>\n",
       "      <td>0</td>\n",
       "      <td>770.000</td>\n",
       "      <td>1</td>\n",
       "      <td>Salinas</td>\n",
       "      <td>Santa Elena</td>\n",
       "      <td>D</td>\n",
       "      <td>1</td>\n",
       "    </tr>\n",
       "    <tr>\n",
       "      <th>4</th>\n",
       "      <td>569</td>\n",
       "      <td>2013-01-01</td>\n",
       "      <td>25</td>\n",
       "      <td>DAIRY</td>\n",
       "      <td>143.000</td>\n",
       "      <td>0</td>\n",
       "      <td>770.000</td>\n",
       "      <td>1</td>\n",
       "      <td>Salinas</td>\n",
       "      <td>Santa Elena</td>\n",
       "      <td>D</td>\n",
       "      <td>1</td>\n",
       "    </tr>\n",
       "    <tr>\n",
       "      <th>...</th>\n",
       "      <td>...</td>\n",
       "      <td>...</td>\n",
       "      <td>...</td>\n",
       "      <td>...</td>\n",
       "      <td>...</td>\n",
       "      <td>...</td>\n",
       "      <td>...</td>\n",
       "      <td>...</td>\n",
       "      <td>...</td>\n",
       "      <td>...</td>\n",
       "      <td>...</td>\n",
       "      <td>...</td>\n",
       "    </tr>\n",
       "    <tr>\n",
       "      <th>1280368</th>\n",
       "      <td>3000747</td>\n",
       "      <td>2017-08-15</td>\n",
       "      <td>54</td>\n",
       "      <td>MEATS</td>\n",
       "      <td>57.842</td>\n",
       "      <td>0</td>\n",
       "      <td>802.000</td>\n",
       "      <td>0</td>\n",
       "      <td>El Carmen</td>\n",
       "      <td>Manabi</td>\n",
       "      <td>C</td>\n",
       "      <td>3</td>\n",
       "    </tr>\n",
       "    <tr>\n",
       "      <th>1280369</th>\n",
       "      <td>3000748</td>\n",
       "      <td>2017-08-15</td>\n",
       "      <td>54</td>\n",
       "      <td>PERSONAL CARE</td>\n",
       "      <td>169.000</td>\n",
       "      <td>5</td>\n",
       "      <td>802.000</td>\n",
       "      <td>0</td>\n",
       "      <td>El Carmen</td>\n",
       "      <td>Manabi</td>\n",
       "      <td>C</td>\n",
       "      <td>3</td>\n",
       "    </tr>\n",
       "    <tr>\n",
       "      <th>1280370</th>\n",
       "      <td>3000751</td>\n",
       "      <td>2017-08-15</td>\n",
       "      <td>54</td>\n",
       "      <td>POULTRY</td>\n",
       "      <td>59.619</td>\n",
       "      <td>0</td>\n",
       "      <td>802.000</td>\n",
       "      <td>0</td>\n",
       "      <td>El Carmen</td>\n",
       "      <td>Manabi</td>\n",
       "      <td>C</td>\n",
       "      <td>3</td>\n",
       "    </tr>\n",
       "    <tr>\n",
       "      <th>1280371</th>\n",
       "      <td>3000752</td>\n",
       "      <td>2017-08-15</td>\n",
       "      <td>54</td>\n",
       "      <td>PREPARED FOODS</td>\n",
       "      <td>94.000</td>\n",
       "      <td>0</td>\n",
       "      <td>802.000</td>\n",
       "      <td>0</td>\n",
       "      <td>El Carmen</td>\n",
       "      <td>Manabi</td>\n",
       "      <td>C</td>\n",
       "      <td>3</td>\n",
       "    </tr>\n",
       "    <tr>\n",
       "      <th>1280372</th>\n",
       "      <td>3000753</td>\n",
       "      <td>2017-08-15</td>\n",
       "      <td>54</td>\n",
       "      <td>PRODUCE</td>\n",
       "      <td>915.371</td>\n",
       "      <td>76</td>\n",
       "      <td>802.000</td>\n",
       "      <td>0</td>\n",
       "      <td>El Carmen</td>\n",
       "      <td>Manabi</td>\n",
       "      <td>C</td>\n",
       "      <td>3</td>\n",
       "    </tr>\n",
       "  </tbody>\n",
       "</table>\n",
       "<p>1280373 rows × 12 columns</p>\n",
       "</div>"
      ],
      "text/plain": [
       "              id       date  store_nbr          family   sales  onpromotion  \\\n",
       "0            561 2013-01-01         25          OTHERS  24.000            0   \n",
       "1            564 2013-01-01         25       BEVERAGES 810.000            0   \n",
       "2            566 2013-01-01         25    BREAD/BAKERY 180.589            0   \n",
       "3            568 2013-01-01         25        CLEANING 186.000            0   \n",
       "4            569 2013-01-01         25           DAIRY 143.000            0   \n",
       "...          ...        ...        ...             ...     ...          ...   \n",
       "1280368  3000747 2017-08-15         54           MEATS  57.842            0   \n",
       "1280369  3000748 2017-08-15         54   PERSONAL CARE 169.000            5   \n",
       "1280370  3000751 2017-08-15         54         POULTRY  59.619            0   \n",
       "1280371  3000752 2017-08-15         54  PREPARED FOODS  94.000            0   \n",
       "1280372  3000753 2017-08-15         54         PRODUCE 915.371           76   \n",
       "\n",
       "         transactions  is_holiday       city        state type  cluster  \n",
       "0             770.000           1    Salinas  Santa Elena    D        1  \n",
       "1             770.000           1    Salinas  Santa Elena    D        1  \n",
       "2             770.000           1    Salinas  Santa Elena    D        1  \n",
       "3             770.000           1    Salinas  Santa Elena    D        1  \n",
       "4             770.000           1    Salinas  Santa Elena    D        1  \n",
       "...               ...         ...        ...          ...  ...      ...  \n",
       "1280368       802.000           0  El Carmen       Manabi    C        3  \n",
       "1280369       802.000           0  El Carmen       Manabi    C        3  \n",
       "1280370       802.000           0  El Carmen       Manabi    C        3  \n",
       "1280371       802.000           0  El Carmen       Manabi    C        3  \n",
       "1280372       802.000           0  El Carmen       Manabi    C        3  \n",
       "\n",
       "[1280373 rows x 12 columns]"
      ]
     },
     "execution_count": 81,
     "metadata": {},
     "output_type": "execute_result"
    }
   ],
   "source": [
    "train_stores"
   ]
  },
  {
   "cell_type": "markdown",
   "metadata": {},
   "source": [
    "#### oil data"
   ]
  },
  {
   "cell_type": "code",
   "execution_count": 82,
   "metadata": {},
   "outputs": [],
   "source": [
    "oil = pd.read_csv(\"../data/oil.csv\")\n",
    "oil['date'] = pd.to_datetime(oil['date'])"
   ]
  },
  {
   "cell_type": "code",
   "execution_count": 83,
   "metadata": {},
   "outputs": [
    {
     "name": "stdout",
     "output_type": "stream",
     "text": [
      "<class 'pandas.core.frame.DataFrame'>\n",
      "RangeIndex: 1218 entries, 0 to 1217\n",
      "Data columns (total 2 columns):\n",
      " #   Column      Non-Null Count  Dtype         \n",
      "---  ------      --------------  -----         \n",
      " 0   date        1218 non-null   datetime64[ns]\n",
      " 1   dcoilwtico  1175 non-null   float64       \n",
      "dtypes: datetime64[ns](1), float64(1)\n",
      "memory usage: 19.2 KB\n"
     ]
    }
   ],
   "source": [
    "oil.info()"
   ]
  },
  {
   "cell_type": "code",
   "execution_count": 84,
   "metadata": {},
   "outputs": [
    {
     "data": {
      "text/html": [
       "<div>\n",
       "<style scoped>\n",
       "    .dataframe tbody tr th:only-of-type {\n",
       "        vertical-align: middle;\n",
       "    }\n",
       "\n",
       "    .dataframe tbody tr th {\n",
       "        vertical-align: top;\n",
       "    }\n",
       "\n",
       "    .dataframe thead th {\n",
       "        text-align: right;\n",
       "    }\n",
       "</style>\n",
       "<table border=\"1\" class=\"dataframe\">\n",
       "  <thead>\n",
       "    <tr style=\"text-align: right;\">\n",
       "      <th></th>\n",
       "      <th>date</th>\n",
       "      <th>dcoilwtico_interpolated</th>\n",
       "    </tr>\n",
       "  </thead>\n",
       "  <tbody>\n",
       "    <tr>\n",
       "      <th>0</th>\n",
       "      <td>2013-01-01</td>\n",
       "      <td>93.140</td>\n",
       "    </tr>\n",
       "    <tr>\n",
       "      <th>1</th>\n",
       "      <td>2013-01-02</td>\n",
       "      <td>93.140</td>\n",
       "    </tr>\n",
       "    <tr>\n",
       "      <th>2</th>\n",
       "      <td>2013-01-03</td>\n",
       "      <td>92.970</td>\n",
       "    </tr>\n",
       "    <tr>\n",
       "      <th>3</th>\n",
       "      <td>2013-01-04</td>\n",
       "      <td>93.120</td>\n",
       "    </tr>\n",
       "    <tr>\n",
       "      <th>4</th>\n",
       "      <td>2013-01-05</td>\n",
       "      <td>93.147</td>\n",
       "    </tr>\n",
       "  </tbody>\n",
       "</table>\n",
       "</div>"
      ],
      "text/plain": [
       "        date  dcoilwtico_interpolated\n",
       "0 2013-01-01                   93.140\n",
       "1 2013-01-02                   93.140\n",
       "2 2013-01-03                   92.970\n",
       "3 2013-01-04                   93.120\n",
       "4 2013-01-05                   93.147"
      ]
     },
     "execution_count": 84,
     "metadata": {},
     "output_type": "execute_result"
    }
   ],
   "source": [
    "# Resample\n",
    "oil = oil.set_index(\"date\").dcoilwtico.resample(\"D\").sum().reset_index()\n",
    "# Interpolate\n",
    "oil[\"dcoilwtico\"] = np.where(oil[\"dcoilwtico\"] == 0, np.nan, oil[\"dcoilwtico\"])\n",
    "oil[\"dcoilwtico_interpolated\"] =oil.dcoilwtico.interpolate()\n",
    "oil.drop(columns=['dcoilwtico'], inplace=True)\n",
    "oil['dcoilwtico_interpolated'] = oil['dcoilwtico_interpolated'].fillna(method='bfill')\n",
    "oil.head()\n",
    "\n"
   ]
  },
  {
   "cell_type": "code",
   "execution_count": 85,
   "metadata": {},
   "outputs": [
    {
     "name": "stdout",
     "output_type": "stream",
     "text": [
      "<class 'pandas.core.frame.DataFrame'>\n",
      "RangeIndex: 1280373 entries, 0 to 1280372\n",
      "Data columns (total 13 columns):\n",
      " #   Column                   Non-Null Count    Dtype         \n",
      "---  ------                   --------------    -----         \n",
      " 0   id                       1280373 non-null  int64         \n",
      " 1   date                     1280373 non-null  datetime64[ns]\n",
      " 2   store_nbr                1280373 non-null  int64         \n",
      " 3   family                   1280373 non-null  object        \n",
      " 4   sales                    1280373 non-null  float64       \n",
      " 5   onpromotion              1280373 non-null  int64         \n",
      " 6   transactions             1280373 non-null  float64       \n",
      " 7   is_holiday               1280373 non-null  int64         \n",
      " 8   city                     1280373 non-null  object        \n",
      " 9   state                    1280373 non-null  object        \n",
      " 10  type                     1280373 non-null  object        \n",
      " 11  cluster                  1280373 non-null  int64         \n",
      " 12  dcoilwtico_interpolated  1280373 non-null  float64       \n",
      "dtypes: datetime64[ns](1), float64(3), int64(5), object(4)\n",
      "memory usage: 127.0+ MB\n"
     ]
    }
   ],
   "source": [
    "train_all = pd.merge(train_stores, oil, on='date', how='left')\n",
    "train_all.info()"
   ]
  },
  {
   "cell_type": "code",
   "execution_count": 86,
   "metadata": {},
   "outputs": [],
   "source": [
    "train_all['weekday'] = train_all['date'].dt.dayofweek + 1 # 1: 월요일, 7:일요일\n",
    "\n",
    "train_all['year'] = train_all['date'].dt.year\n",
    "train_all['month'] = train_all['date'].dt.month\n",
    "train_all['day'] = train_all['date'].dt.day"
   ]
  },
  {
   "cell_type": "code",
   "execution_count": 87,
   "metadata": {},
   "outputs": [],
   "source": [
    "# 이동 평균 및 이동 표준 편차 계산\n",
    "train_all['Rolling_Std_Sales_3d'] = train_all['sales'].rolling(window=3, min_periods=1).std()\n",
    "train_all['Rolling_Mean_Sales_7d'] = train_all['sales'].rolling(window=7, min_periods=1).mean()\n",
    "train_all['Rolling_Std_Sales_7d'] = train_all['sales'].rolling(window=7, min_periods=1).std()\n",
    "train_all['Rolling_Mean_Sales_14d'] = train_all['sales'].rolling(window=14, min_periods=1).mean()\n",
    "train_all['Rolling_Std_Sales_14d'] = train_all['sales'].rolling(window=14, min_periods=1).std()\n",
    "\n",
    "# 결측치를 다음 값으로 채우기\n",
    "train_all['Rolling_Std_Sales_3d'].fillna(method='bfill', inplace=True)\n",
    "train_all['Rolling_Mean_Sales_7d'].fillna(method='bfill', inplace=True)\n",
    "train_all['Rolling_Std_Sales_7d'].fillna(method='bfill', inplace=True)\n",
    "train_all['Rolling_Mean_Sales_14d'].fillna(method='bfill', inplace=True)\n",
    "train_all['Rolling_Std_Sales_14d'].fillna(method='bfill', inplace=True)"
   ]
  },
  {
   "cell_type": "code",
   "execution_count": 88,
   "metadata": {},
   "outputs": [
    {
     "name": "stdout",
     "output_type": "stream",
     "text": [
      "<class 'pandas.core.frame.DataFrame'>\n",
      "RangeIndex: 1280373 entries, 0 to 1280372\n",
      "Data columns (total 22 columns):\n",
      " #   Column                   Non-Null Count    Dtype         \n",
      "---  ------                   --------------    -----         \n",
      " 0   id                       1280373 non-null  int64         \n",
      " 1   date                     1280373 non-null  datetime64[ns]\n",
      " 2   store_nbr                1280373 non-null  int64         \n",
      " 3   family                   1280373 non-null  object        \n",
      " 4   sales                    1280373 non-null  float64       \n",
      " 5   onpromotion              1280373 non-null  int64         \n",
      " 6   transactions             1280373 non-null  float64       \n",
      " 7   is_holiday               1280373 non-null  int64         \n",
      " 8   city                     1280373 non-null  object        \n",
      " 9   state                    1280373 non-null  object        \n",
      " 10  type                     1280373 non-null  object        \n",
      " 11  cluster                  1280373 non-null  int64         \n",
      " 12  dcoilwtico_interpolated  1280373 non-null  float64       \n",
      " 13  weekday                  1280373 non-null  int64         \n",
      " 14  year                     1280373 non-null  int32         \n",
      " 15  month                    1280373 non-null  int32         \n",
      " 16  day                      1280373 non-null  int32         \n",
      " 17  Rolling_Std_Sales_3d     1280373 non-null  float64       \n",
      " 18  Rolling_Mean_Sales_7d    1280373 non-null  float64       \n",
      " 19  Rolling_Std_Sales_7d     1280373 non-null  float64       \n",
      " 20  Rolling_Mean_Sales_14d   1280373 non-null  float64       \n",
      " 21  Rolling_Std_Sales_14d    1280373 non-null  float64       \n",
      "dtypes: datetime64[ns](1), float64(8), int32(3), int64(6), object(4)\n",
      "memory usage: 200.3+ MB\n"
     ]
    }
   ],
   "source": [
    "train_all.info()"
   ]
  },
  {
   "cell_type": "code",
   "execution_count": 89,
   "metadata": {},
   "outputs": [],
   "source": [
    "train_all.to_csv('train_all.csv', index=False)"
   ]
  }
 ],
 "metadata": {
  "kernelspec": {
   "display_name": "base",
   "language": "python",
   "name": "python3"
  },
  "language_info": {
   "codemirror_mode": {
    "name": "ipython",
    "version": 3
   },
   "file_extension": ".py",
   "mimetype": "text/x-python",
   "name": "python",
   "nbconvert_exporter": "python",
   "pygments_lexer": "ipython3",
   "version": "3.11.7"
  }
 },
 "nbformat": 4,
 "nbformat_minor": 2
}
