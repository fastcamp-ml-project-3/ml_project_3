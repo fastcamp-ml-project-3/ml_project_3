{
 "cells": [
  {
   "cell_type": "markdown",
   "metadata": {},
   "source": [
    "# Final Data Processing"
   ]
  },
  {
   "cell_type": "markdown",
   "metadata": {},
   "source": [
    "### Main Data : train, test"
   ]
  },
  {
   "cell_type": "code",
   "execution_count": 311,
   "metadata": {},
   "outputs": [],
   "source": [
    "import numpy as np\n",
    "import pandas as pd\n",
    "\n",
    "import warnings\n",
    "pd.set_option('display.max_columns', None)\n",
    "pd.options.display.float_format = '{:.3f}'.format\n",
    "warnings.filterwarnings('ignore')"
   ]
  },
  {
   "cell_type": "code",
   "execution_count": 312,
   "metadata": {},
   "outputs": [],
   "source": [
    "train = pd.read_csv(\"../data/train.csv\")\n",
    "test = pd.read_csv(\"../data/test.csv\")\n",
    "\n",
    "train['date'] = pd.to_datetime(train['date'])\n",
    "test['date'] = pd.to_datetime(test['date'])"
   ]
  },
  {
   "cell_type": "code",
   "execution_count": 313,
   "metadata": {},
   "outputs": [
    {
     "data": {
      "text/html": [
       "<div>\n",
       "<style scoped>\n",
       "    .dataframe tbody tr th:only-of-type {\n",
       "        vertical-align: middle;\n",
       "    }\n",
       "\n",
       "    .dataframe tbody tr th {\n",
       "        vertical-align: top;\n",
       "    }\n",
       "\n",
       "    .dataframe thead th {\n",
       "        text-align: right;\n",
       "    }\n",
       "</style>\n",
       "<table border=\"1\" class=\"dataframe\">\n",
       "  <thead>\n",
       "    <tr style=\"text-align: right;\">\n",
       "      <th></th>\n",
       "      <th>id</th>\n",
       "      <th>date</th>\n",
       "      <th>store_nbr</th>\n",
       "      <th>family</th>\n",
       "      <th>onpromotion</th>\n",
       "    </tr>\n",
       "  </thead>\n",
       "  <tbody>\n",
       "    <tr>\n",
       "      <th>0</th>\n",
       "      <td>3000888</td>\n",
       "      <td>2017-08-16</td>\n",
       "      <td>1</td>\n",
       "      <td>AUTOMOTIVE</td>\n",
       "      <td>0</td>\n",
       "    </tr>\n",
       "    <tr>\n",
       "      <th>1</th>\n",
       "      <td>3000889</td>\n",
       "      <td>2017-08-16</td>\n",
       "      <td>1</td>\n",
       "      <td>BABY CARE</td>\n",
       "      <td>0</td>\n",
       "    </tr>\n",
       "    <tr>\n",
       "      <th>2</th>\n",
       "      <td>3000890</td>\n",
       "      <td>2017-08-16</td>\n",
       "      <td>1</td>\n",
       "      <td>BEAUTY</td>\n",
       "      <td>2</td>\n",
       "    </tr>\n",
       "    <tr>\n",
       "      <th>3</th>\n",
       "      <td>3000891</td>\n",
       "      <td>2017-08-16</td>\n",
       "      <td>1</td>\n",
       "      <td>BEVERAGES</td>\n",
       "      <td>20</td>\n",
       "    </tr>\n",
       "    <tr>\n",
       "      <th>4</th>\n",
       "      <td>3000892</td>\n",
       "      <td>2017-08-16</td>\n",
       "      <td>1</td>\n",
       "      <td>BOOKS</td>\n",
       "      <td>0</td>\n",
       "    </tr>\n",
       "  </tbody>\n",
       "</table>\n",
       "</div>"
      ],
      "text/plain": [
       "        id       date  store_nbr      family  onpromotion\n",
       "0  3000888 2017-08-16          1  AUTOMOTIVE            0\n",
       "1  3000889 2017-08-16          1   BABY CARE            0\n",
       "2  3000890 2017-08-16          1      BEAUTY            2\n",
       "3  3000891 2017-08-16          1   BEVERAGES           20\n",
       "4  3000892 2017-08-16          1       BOOKS            0"
      ]
     },
     "execution_count": 313,
     "metadata": {},
     "output_type": "execute_result"
    }
   ],
   "source": [
    "test.head()"
   ]
  },
  {
   "cell_type": "code",
   "execution_count": 314,
   "metadata": {},
   "outputs": [],
   "source": [
    "train['weekday'] = train['date'].dt.dayofweek + 1 # 1: 월요일, 7:일요일\n",
    "\n",
    "train['year'] = train['date'].dt.year\n",
    "train['month'] = train['date'].dt.month\n",
    "train['day'] = train['date'].dt.day\n",
    "\n",
    "test['weekday'] = test['date'].dt.dayofweek + 1 # 1: 월요일, 7:일요일\n",
    "\n",
    "test['year'] = test['date'].dt.year\n",
    "test['month'] = test['date'].dt.month\n",
    "test['day'] = test['date'].dt.day"
   ]
  },
  {
   "cell_type": "code",
   "execution_count": 315,
   "metadata": {},
   "outputs": [],
   "source": [
    "# store_nbr, weekday, month, day 열의 데이터 타입을 int8로 변환\n",
    "train['store_nbr'] = train['store_nbr'].astype('int8')\n",
    "train['weekday'] = train['weekday'].astype('int8')\n",
    "train['month'] = train['month'].astype('int8')\n",
    "train['day'] = train['day'].astype('int8')\n",
    "\n",
    "test['store_nbr'] = test['store_nbr'].astype('int8')\n",
    "test['weekday'] = test['weekday'].astype('int8')\n",
    "test['month'] = test['month'].astype('int8')\n",
    "test['day'] = test['day'].astype('int8')"
   ]
  },
  {
   "cell_type": "code",
   "execution_count": 316,
   "metadata": {},
   "outputs": [
    {
     "data": {
      "text/html": [
       "<div>\n",
       "<style scoped>\n",
       "    .dataframe tbody tr th:only-of-type {\n",
       "        vertical-align: middle;\n",
       "    }\n",
       "\n",
       "    .dataframe tbody tr th {\n",
       "        vertical-align: top;\n",
       "    }\n",
       "\n",
       "    .dataframe thead th {\n",
       "        text-align: right;\n",
       "    }\n",
       "</style>\n",
       "<table border=\"1\" class=\"dataframe\">\n",
       "  <thead>\n",
       "    <tr style=\"text-align: right;\">\n",
       "      <th></th>\n",
       "      <th>id</th>\n",
       "      <th>date</th>\n",
       "      <th>store_nbr</th>\n",
       "      <th>family</th>\n",
       "      <th>onpromotion</th>\n",
       "      <th>weekday</th>\n",
       "      <th>year</th>\n",
       "      <th>month</th>\n",
       "      <th>day</th>\n",
       "    </tr>\n",
       "  </thead>\n",
       "  <tbody>\n",
       "    <tr>\n",
       "      <th>0</th>\n",
       "      <td>3000888</td>\n",
       "      <td>2017-08-16</td>\n",
       "      <td>1</td>\n",
       "      <td>AUTOMOTIVE</td>\n",
       "      <td>0</td>\n",
       "      <td>3</td>\n",
       "      <td>2017</td>\n",
       "      <td>8</td>\n",
       "      <td>16</td>\n",
       "    </tr>\n",
       "    <tr>\n",
       "      <th>1</th>\n",
       "      <td>3000889</td>\n",
       "      <td>2017-08-16</td>\n",
       "      <td>1</td>\n",
       "      <td>BABY CARE</td>\n",
       "      <td>0</td>\n",
       "      <td>3</td>\n",
       "      <td>2017</td>\n",
       "      <td>8</td>\n",
       "      <td>16</td>\n",
       "    </tr>\n",
       "    <tr>\n",
       "      <th>2</th>\n",
       "      <td>3000890</td>\n",
       "      <td>2017-08-16</td>\n",
       "      <td>1</td>\n",
       "      <td>BEAUTY</td>\n",
       "      <td>2</td>\n",
       "      <td>3</td>\n",
       "      <td>2017</td>\n",
       "      <td>8</td>\n",
       "      <td>16</td>\n",
       "    </tr>\n",
       "    <tr>\n",
       "      <th>3</th>\n",
       "      <td>3000891</td>\n",
       "      <td>2017-08-16</td>\n",
       "      <td>1</td>\n",
       "      <td>BEVERAGES</td>\n",
       "      <td>20</td>\n",
       "      <td>3</td>\n",
       "      <td>2017</td>\n",
       "      <td>8</td>\n",
       "      <td>16</td>\n",
       "    </tr>\n",
       "    <tr>\n",
       "      <th>4</th>\n",
       "      <td>3000892</td>\n",
       "      <td>2017-08-16</td>\n",
       "      <td>1</td>\n",
       "      <td>BOOKS</td>\n",
       "      <td>0</td>\n",
       "      <td>3</td>\n",
       "      <td>2017</td>\n",
       "      <td>8</td>\n",
       "      <td>16</td>\n",
       "    </tr>\n",
       "  </tbody>\n",
       "</table>\n",
       "</div>"
      ],
      "text/plain": [
       "        id       date  store_nbr      family  onpromotion  weekday  year  \\\n",
       "0  3000888 2017-08-16          1  AUTOMOTIVE            0        3  2017   \n",
       "1  3000889 2017-08-16          1   BABY CARE            0        3  2017   \n",
       "2  3000890 2017-08-16          1      BEAUTY            2        3  2017   \n",
       "3  3000891 2017-08-16          1   BEVERAGES           20        3  2017   \n",
       "4  3000892 2017-08-16          1       BOOKS            0        3  2017   \n",
       "\n",
       "   month  day  \n",
       "0      8   16  \n",
       "1      8   16  \n",
       "2      8   16  \n",
       "3      8   16  \n",
       "4      8   16  "
      ]
     },
     "execution_count": 316,
     "metadata": {},
     "output_type": "execute_result"
    }
   ],
   "source": [
    "test.head()"
   ]
  },
  {
   "cell_type": "code",
   "execution_count": 317,
   "metadata": {},
   "outputs": [
    {
     "name": "stdout",
     "output_type": "stream",
     "text": [
      "<class 'pandas.core.frame.DataFrame'>\n",
      "RangeIndex: 28512 entries, 0 to 28511\n",
      "Data columns (total 9 columns):\n",
      " #   Column       Non-Null Count  Dtype         \n",
      "---  ------       --------------  -----         \n",
      " 0   id           28512 non-null  int64         \n",
      " 1   date         28512 non-null  datetime64[ns]\n",
      " 2   store_nbr    28512 non-null  int8          \n",
      " 3   family       28512 non-null  object        \n",
      " 4   onpromotion  28512 non-null  int64         \n",
      " 5   weekday      28512 non-null  int8          \n",
      " 6   year         28512 non-null  int32         \n",
      " 7   month        28512 non-null  int8          \n",
      " 8   day          28512 non-null  int8          \n",
      "dtypes: datetime64[ns](1), int32(1), int64(2), int8(4), object(1)\n",
      "memory usage: 1.1+ MB\n"
     ]
    }
   ],
   "source": [
    "test.info()"
   ]
  },
  {
   "cell_type": "code",
   "execution_count": 318,
   "metadata": {},
   "outputs": [
    {
     "name": "stdout",
     "output_type": "stream",
     "text": [
      "<class 'pandas.core.frame.DataFrame'>\n",
      "Index: 2061758 entries, 563 to 3000887\n",
      "Data columns (total 10 columns):\n",
      " #   Column       Dtype         \n",
      "---  ------       -----         \n",
      " 0   id           int64         \n",
      " 1   date         datetime64[ns]\n",
      " 2   store_nbr    int8          \n",
      " 3   family       object        \n",
      " 4   sales        float64       \n",
      " 5   onpromotion  int64         \n",
      " 6   weekday      int8          \n",
      " 7   year         int32         \n",
      " 8   month        int8          \n",
      " 9   day          int8          \n",
      "dtypes: datetime64[ns](1), float64(1), int32(1), int64(2), int8(4), object(1)\n",
      "memory usage: 110.1+ MB\n"
     ]
    }
   ],
   "source": [
    "train = train[train['sales']!=0.0]\n",
    "train.info()"
   ]
  },
  {
   "cell_type": "markdown",
   "metadata": {},
   "source": [
    "### transaction 처리"
   ]
  },
  {
   "cell_type": "code",
   "execution_count": 250,
   "metadata": {},
   "outputs": [
    {
     "name": "stdout",
     "output_type": "stream",
     "text": [
      "<class 'pandas.core.frame.DataFrame'>\n",
      "RangeIndex: 83488 entries, 0 to 83487\n",
      "Data columns (total 3 columns):\n",
      " #   Column        Non-Null Count  Dtype         \n",
      "---  ------        --------------  -----         \n",
      " 0   date          83488 non-null  datetime64[ns]\n",
      " 1   store_nbr     83488 non-null  int64         \n",
      " 2   transactions  83488 non-null  int64         \n",
      "dtypes: datetime64[ns](1), int64(2)\n",
      "memory usage: 1.9 MB\n"
     ]
    }
   ],
   "source": [
    "transactions = pd.read_csv(\"../data//transactions.csv\")\n",
    "transactions['date'] = pd.to_datetime(transactions['date'])\n",
    "transactions.info()"
   ]
  },
  {
   "cell_type": "code",
   "execution_count": 251,
   "metadata": {},
   "outputs": [
    {
     "data": {
      "text/html": [
       "<div>\n",
       "<style scoped>\n",
       "    .dataframe tbody tr th:only-of-type {\n",
       "        vertical-align: middle;\n",
       "    }\n",
       "\n",
       "    .dataframe tbody tr th {\n",
       "        vertical-align: top;\n",
       "    }\n",
       "\n",
       "    .dataframe thead th {\n",
       "        text-align: right;\n",
       "    }\n",
       "</style>\n",
       "<table border=\"1\" class=\"dataframe\">\n",
       "  <thead>\n",
       "    <tr style=\"text-align: right;\">\n",
       "      <th></th>\n",
       "      <th>id</th>\n",
       "      <th>date</th>\n",
       "      <th>store_nbr</th>\n",
       "      <th>family</th>\n",
       "      <th>sales</th>\n",
       "      <th>onpromotion</th>\n",
       "      <th>weekday</th>\n",
       "      <th>year</th>\n",
       "      <th>month</th>\n",
       "      <th>day</th>\n",
       "      <th>transactions</th>\n",
       "    </tr>\n",
       "  </thead>\n",
       "  <tbody>\n",
       "    <tr>\n",
       "      <th>0</th>\n",
       "      <td>563</td>\n",
       "      <td>2013-01-01</td>\n",
       "      <td>25</td>\n",
       "      <td>BEAUTY</td>\n",
       "      <td>2.000</td>\n",
       "      <td>0</td>\n",
       "      <td>2</td>\n",
       "      <td>2013</td>\n",
       "      <td>1</td>\n",
       "      <td>1</td>\n",
       "      <td>770.000</td>\n",
       "    </tr>\n",
       "    <tr>\n",
       "      <th>1</th>\n",
       "      <td>564</td>\n",
       "      <td>2013-01-01</td>\n",
       "      <td>25</td>\n",
       "      <td>BEVERAGES</td>\n",
       "      <td>810.000</td>\n",
       "      <td>0</td>\n",
       "      <td>2</td>\n",
       "      <td>2013</td>\n",
       "      <td>1</td>\n",
       "      <td>1</td>\n",
       "      <td>770.000</td>\n",
       "    </tr>\n",
       "    <tr>\n",
       "      <th>2</th>\n",
       "      <td>566</td>\n",
       "      <td>2013-01-01</td>\n",
       "      <td>25</td>\n",
       "      <td>BREAD/BAKERY</td>\n",
       "      <td>180.589</td>\n",
       "      <td>0</td>\n",
       "      <td>2</td>\n",
       "      <td>2013</td>\n",
       "      <td>1</td>\n",
       "      <td>1</td>\n",
       "      <td>770.000</td>\n",
       "    </tr>\n",
       "    <tr>\n",
       "      <th>3</th>\n",
       "      <td>568</td>\n",
       "      <td>2013-01-01</td>\n",
       "      <td>25</td>\n",
       "      <td>CLEANING</td>\n",
       "      <td>186.000</td>\n",
       "      <td>0</td>\n",
       "      <td>2</td>\n",
       "      <td>2013</td>\n",
       "      <td>1</td>\n",
       "      <td>1</td>\n",
       "      <td>770.000</td>\n",
       "    </tr>\n",
       "    <tr>\n",
       "      <th>4</th>\n",
       "      <td>569</td>\n",
       "      <td>2013-01-01</td>\n",
       "      <td>25</td>\n",
       "      <td>DAIRY</td>\n",
       "      <td>143.000</td>\n",
       "      <td>0</td>\n",
       "      <td>2</td>\n",
       "      <td>2013</td>\n",
       "      <td>1</td>\n",
       "      <td>1</td>\n",
       "      <td>770.000</td>\n",
       "    </tr>\n",
       "    <tr>\n",
       "      <th>...</th>\n",
       "      <td>...</td>\n",
       "      <td>...</td>\n",
       "      <td>...</td>\n",
       "      <td>...</td>\n",
       "      <td>...</td>\n",
       "      <td>...</td>\n",
       "      <td>...</td>\n",
       "      <td>...</td>\n",
       "      <td>...</td>\n",
       "      <td>...</td>\n",
       "      <td>...</td>\n",
       "    </tr>\n",
       "    <tr>\n",
       "      <th>2061753</th>\n",
       "      <td>3000883</td>\n",
       "      <td>2017-08-15</td>\n",
       "      <td>9</td>\n",
       "      <td>POULTRY</td>\n",
       "      <td>438.133</td>\n",
       "      <td>0</td>\n",
       "      <td>2</td>\n",
       "      <td>2017</td>\n",
       "      <td>8</td>\n",
       "      <td>15</td>\n",
       "      <td>2155.000</td>\n",
       "    </tr>\n",
       "    <tr>\n",
       "      <th>2061754</th>\n",
       "      <td>3000884</td>\n",
       "      <td>2017-08-15</td>\n",
       "      <td>9</td>\n",
       "      <td>PREPARED FOODS</td>\n",
       "      <td>154.553</td>\n",
       "      <td>1</td>\n",
       "      <td>2</td>\n",
       "      <td>2017</td>\n",
       "      <td>8</td>\n",
       "      <td>15</td>\n",
       "      <td>2155.000</td>\n",
       "    </tr>\n",
       "    <tr>\n",
       "      <th>2061755</th>\n",
       "      <td>3000885</td>\n",
       "      <td>2017-08-15</td>\n",
       "      <td>9</td>\n",
       "      <td>PRODUCE</td>\n",
       "      <td>2419.729</td>\n",
       "      <td>148</td>\n",
       "      <td>2</td>\n",
       "      <td>2017</td>\n",
       "      <td>8</td>\n",
       "      <td>15</td>\n",
       "      <td>2155.000</td>\n",
       "    </tr>\n",
       "    <tr>\n",
       "      <th>2061756</th>\n",
       "      <td>3000886</td>\n",
       "      <td>2017-08-15</td>\n",
       "      <td>9</td>\n",
       "      <td>SCHOOL AND OFFICE SUPPLIES</td>\n",
       "      <td>121.000</td>\n",
       "      <td>8</td>\n",
       "      <td>2</td>\n",
       "      <td>2017</td>\n",
       "      <td>8</td>\n",
       "      <td>15</td>\n",
       "      <td>2155.000</td>\n",
       "    </tr>\n",
       "    <tr>\n",
       "      <th>2061757</th>\n",
       "      <td>3000887</td>\n",
       "      <td>2017-08-15</td>\n",
       "      <td>9</td>\n",
       "      <td>SEAFOOD</td>\n",
       "      <td>16.000</td>\n",
       "      <td>0</td>\n",
       "      <td>2</td>\n",
       "      <td>2017</td>\n",
       "      <td>8</td>\n",
       "      <td>15</td>\n",
       "      <td>2155.000</td>\n",
       "    </tr>\n",
       "  </tbody>\n",
       "</table>\n",
       "<p>2061758 rows × 11 columns</p>\n",
       "</div>"
      ],
      "text/plain": [
       "              id       date  store_nbr                      family    sales  \\\n",
       "0            563 2013-01-01         25                      BEAUTY    2.000   \n",
       "1            564 2013-01-01         25                   BEVERAGES  810.000   \n",
       "2            566 2013-01-01         25                BREAD/BAKERY  180.589   \n",
       "3            568 2013-01-01         25                    CLEANING  186.000   \n",
       "4            569 2013-01-01         25                       DAIRY  143.000   \n",
       "...          ...        ...        ...                         ...      ...   \n",
       "2061753  3000883 2017-08-15          9                     POULTRY  438.133   \n",
       "2061754  3000884 2017-08-15          9              PREPARED FOODS  154.553   \n",
       "2061755  3000885 2017-08-15          9                     PRODUCE 2419.729   \n",
       "2061756  3000886 2017-08-15          9  SCHOOL AND OFFICE SUPPLIES  121.000   \n",
       "2061757  3000887 2017-08-15          9                     SEAFOOD   16.000   \n",
       "\n",
       "         onpromotion  weekday  year  month  day  transactions  \n",
       "0                  0        2  2013      1    1       770.000  \n",
       "1                  0        2  2013      1    1       770.000  \n",
       "2                  0        2  2013      1    1       770.000  \n",
       "3                  0        2  2013      1    1       770.000  \n",
       "4                  0        2  2013      1    1       770.000  \n",
       "...              ...      ...   ...    ...  ...           ...  \n",
       "2061753            0        2  2017      8   15      2155.000  \n",
       "2061754            1        2  2017      8   15      2155.000  \n",
       "2061755          148        2  2017      8   15      2155.000  \n",
       "2061756            8        2  2017      8   15      2155.000  \n",
       "2061757            0        2  2017      8   15      2155.000  \n",
       "\n",
       "[2061758 rows x 11 columns]"
      ]
     },
     "execution_count": 251,
     "metadata": {},
     "output_type": "execute_result"
    }
   ],
   "source": [
    "# 데이터프레임 병합\n",
    "train_transactions = pd.merge(train, transactions, on=['date', 'store_nbr'], how='left')\n",
    "\n",
    "# 결과 출력\n",
    "train_transactions"
   ]
  },
  {
   "cell_type": "code",
   "execution_count": 255,
   "metadata": {},
   "outputs": [
    {
     "name": "stdout",
     "output_type": "stream",
     "text": [
      "<class 'pandas.core.frame.DataFrame'>\n",
      "RangeIndex: 2061758 entries, 0 to 2061757\n",
      "Data columns (total 11 columns):\n",
      " #   Column        Dtype         \n",
      "---  ------        -----         \n",
      " 0   id            int64         \n",
      " 1   date          datetime64[ns]\n",
      " 2   store_nbr     int8          \n",
      " 3   family        object        \n",
      " 4   sales         float64       \n",
      " 5   onpromotion   int64         \n",
      " 6   weekday       int8          \n",
      " 7   year          int32         \n",
      " 8   month         int8          \n",
      " 9   day           int8          \n",
      " 10  transactions  float64       \n",
      "dtypes: datetime64[ns](1), float64(2), int32(1), int64(2), int8(4), object(1)\n",
      "memory usage: 110.1+ MB\n"
     ]
    }
   ],
   "source": [
    "train_transactions.info()"
   ]
  },
  {
   "cell_type": "code",
   "execution_count": 252,
   "metadata": {},
   "outputs": [
    {
     "name": "stdout",
     "output_type": "stream",
     "text": [
      "Missing sales : 0, Number of rows with sales value of 0: 0\n",
      "Missing transactions : 3248, Number of rows with transactions value of 0: 0\n"
     ]
    }
   ],
   "source": [
    "missing_sales = train_transactions['sales'].isnull().sum()\n",
    "sales_zero_count = train_transactions[train_transactions['sales'] == 0.0].shape[0]\n",
    "\n",
    "missing_transactions = train_transactions['transactions'].isnull().sum()\n",
    "transactions_zero_count = train_transactions[train_transactions['transactions'] == 0.0].shape[0]\n",
    "\n",
    "print(f\"Missing sales : {missing_sales}, Number of rows with sales value of 0: {sales_zero_count}\")\n",
    "print(f\"Missing transactions : {missing_transactions}, Number of rows with transactions value of 0: {transactions_zero_count}\")\n"
   ]
  },
  {
   "cell_type": "code",
   "execution_count": 257,
   "metadata": {},
   "outputs": [
    {
     "name": "stdout",
     "output_type": "stream",
     "text": [
      "<class 'pandas.core.frame.DataFrame'>\n",
      "RangeIndex: 83606 entries, 0 to 83605\n",
      "Data columns (total 3 columns):\n",
      " #   Column     Non-Null Count  Dtype         \n",
      "---  ------     --------------  -----         \n",
      " 0   date       83606 non-null  datetime64[ns]\n",
      " 1   store_nbr  83606 non-null  int8          \n",
      " 2   sales      83606 non-null  float64       \n",
      "dtypes: datetime64[ns](1), float64(1), int8(1)\n",
      "memory usage: 1.4 MB\n"
     ]
    }
   ],
   "source": [
    "# date와 store_nbr로 그룹화하여 sales 합계 계산\n",
    "grouped_sales = train_transactions.groupby(['date', 'store_nbr'])['sales'].sum().reset_index()\n",
    "\n",
    "# 결과 확인\n",
    "grouped_sales.info()"
   ]
  },
  {
   "cell_type": "code",
   "execution_count": 258,
   "metadata": {},
   "outputs": [
    {
     "name": "stdout",
     "output_type": "stream",
     "text": [
      "<class 'pandas.core.frame.DataFrame'>\n",
      "RangeIndex: 83606 entries, 0 to 83605\n",
      "Data columns (total 4 columns):\n",
      " #   Column        Non-Null Count  Dtype         \n",
      "---  ------        --------------  -----         \n",
      " 0   date          83606 non-null  datetime64[ns]\n",
      " 1   store_nbr     83606 non-null  int8          \n",
      " 2   sales         83606 non-null  float64       \n",
      " 3   transactions  83606 non-null  float64       \n",
      "dtypes: datetime64[ns](1), float64(2), int8(1)\n",
      "memory usage: 2.0 MB\n"
     ]
    }
   ],
   "source": [
    "# 데이터프레임 병합\n",
    "df_merged = pd.merge(grouped_sales, transactions, on=['date', 'store_nbr'], how='left')\n",
    "\n",
    "# transactions 값이 없는 경우 처리\n",
    "def fill_transactions(row):\n",
    "    if np.isnan(row['transactions']):\n",
    "        start_date = row['date'] - pd.Timedelta(days=3)\n",
    "        end_date = row['date'] + pd.Timedelta(days=3)\n",
    "        mask = (df_merged['date'] >= start_date) & (df_merged['date'] <= end_date) & (df_merged['store_nbr'] == row['store_nbr'])\n",
    "        relevant_rows = df_merged[mask]\n",
    "        if len(relevant_rows) > 0:\n",
    "            avg_ratio = (relevant_rows['transactions'] / relevant_rows['sales']).mean()\n",
    "            return row['sales'] * avg_ratio\n",
    "    return row['transactions']\n",
    "\n",
    "df_merged['transactions'] = df_merged.apply(fill_transactions, axis=1)\n",
    "\n",
    "# 결과 확인\n",
    "df_merged.info()"
   ]
  },
  {
   "cell_type": "code",
   "execution_count": 259,
   "metadata": {},
   "outputs": [
    {
     "data": {
      "text/html": [
       "<div>\n",
       "<style scoped>\n",
       "    .dataframe tbody tr th:only-of-type {\n",
       "        vertical-align: middle;\n",
       "    }\n",
       "\n",
       "    .dataframe tbody tr th {\n",
       "        vertical-align: top;\n",
       "    }\n",
       "\n",
       "    .dataframe thead th {\n",
       "        text-align: right;\n",
       "    }\n",
       "</style>\n",
       "<table border=\"1\" class=\"dataframe\">\n",
       "  <thead>\n",
       "    <tr style=\"text-align: right;\">\n",
       "      <th></th>\n",
       "      <th>id</th>\n",
       "      <th>date</th>\n",
       "      <th>store_nbr</th>\n",
       "      <th>family</th>\n",
       "      <th>sales_x</th>\n",
       "      <th>onpromotion</th>\n",
       "      <th>weekday</th>\n",
       "      <th>year</th>\n",
       "      <th>month</th>\n",
       "      <th>day</th>\n",
       "      <th>sales_y</th>\n",
       "      <th>transactions</th>\n",
       "    </tr>\n",
       "  </thead>\n",
       "  <tbody>\n",
       "    <tr>\n",
       "      <th>0</th>\n",
       "      <td>563</td>\n",
       "      <td>2013-01-01</td>\n",
       "      <td>25</td>\n",
       "      <td>BEAUTY</td>\n",
       "      <td>2.000</td>\n",
       "      <td>0</td>\n",
       "      <td>2</td>\n",
       "      <td>2013</td>\n",
       "      <td>1</td>\n",
       "      <td>1</td>\n",
       "      <td>2511.619</td>\n",
       "      <td>770.000</td>\n",
       "    </tr>\n",
       "    <tr>\n",
       "      <th>1</th>\n",
       "      <td>564</td>\n",
       "      <td>2013-01-01</td>\n",
       "      <td>25</td>\n",
       "      <td>BEVERAGES</td>\n",
       "      <td>810.000</td>\n",
       "      <td>0</td>\n",
       "      <td>2</td>\n",
       "      <td>2013</td>\n",
       "      <td>1</td>\n",
       "      <td>1</td>\n",
       "      <td>2511.619</td>\n",
       "      <td>770.000</td>\n",
       "    </tr>\n",
       "    <tr>\n",
       "      <th>2</th>\n",
       "      <td>566</td>\n",
       "      <td>2013-01-01</td>\n",
       "      <td>25</td>\n",
       "      <td>BREAD/BAKERY</td>\n",
       "      <td>180.589</td>\n",
       "      <td>0</td>\n",
       "      <td>2</td>\n",
       "      <td>2013</td>\n",
       "      <td>1</td>\n",
       "      <td>1</td>\n",
       "      <td>2511.619</td>\n",
       "      <td>770.000</td>\n",
       "    </tr>\n",
       "    <tr>\n",
       "      <th>3</th>\n",
       "      <td>568</td>\n",
       "      <td>2013-01-01</td>\n",
       "      <td>25</td>\n",
       "      <td>CLEANING</td>\n",
       "      <td>186.000</td>\n",
       "      <td>0</td>\n",
       "      <td>2</td>\n",
       "      <td>2013</td>\n",
       "      <td>1</td>\n",
       "      <td>1</td>\n",
       "      <td>2511.619</td>\n",
       "      <td>770.000</td>\n",
       "    </tr>\n",
       "    <tr>\n",
       "      <th>4</th>\n",
       "      <td>569</td>\n",
       "      <td>2013-01-01</td>\n",
       "      <td>25</td>\n",
       "      <td>DAIRY</td>\n",
       "      <td>143.000</td>\n",
       "      <td>0</td>\n",
       "      <td>2</td>\n",
       "      <td>2013</td>\n",
       "      <td>1</td>\n",
       "      <td>1</td>\n",
       "      <td>2511.619</td>\n",
       "      <td>770.000</td>\n",
       "    </tr>\n",
       "    <tr>\n",
       "      <th>...</th>\n",
       "      <td>...</td>\n",
       "      <td>...</td>\n",
       "      <td>...</td>\n",
       "      <td>...</td>\n",
       "      <td>...</td>\n",
       "      <td>...</td>\n",
       "      <td>...</td>\n",
       "      <td>...</td>\n",
       "      <td>...</td>\n",
       "      <td>...</td>\n",
       "      <td>...</td>\n",
       "      <td>...</td>\n",
       "    </tr>\n",
       "    <tr>\n",
       "      <th>2061753</th>\n",
       "      <td>3000883</td>\n",
       "      <td>2017-08-15</td>\n",
       "      <td>9</td>\n",
       "      <td>POULTRY</td>\n",
       "      <td>438.133</td>\n",
       "      <td>0</td>\n",
       "      <td>2</td>\n",
       "      <td>2017</td>\n",
       "      <td>8</td>\n",
       "      <td>15</td>\n",
       "      <td>18636.477</td>\n",
       "      <td>2155.000</td>\n",
       "    </tr>\n",
       "    <tr>\n",
       "      <th>2061754</th>\n",
       "      <td>3000884</td>\n",
       "      <td>2017-08-15</td>\n",
       "      <td>9</td>\n",
       "      <td>PREPARED FOODS</td>\n",
       "      <td>154.553</td>\n",
       "      <td>1</td>\n",
       "      <td>2</td>\n",
       "      <td>2017</td>\n",
       "      <td>8</td>\n",
       "      <td>15</td>\n",
       "      <td>18636.477</td>\n",
       "      <td>2155.000</td>\n",
       "    </tr>\n",
       "    <tr>\n",
       "      <th>2061755</th>\n",
       "      <td>3000885</td>\n",
       "      <td>2017-08-15</td>\n",
       "      <td>9</td>\n",
       "      <td>PRODUCE</td>\n",
       "      <td>2419.729</td>\n",
       "      <td>148</td>\n",
       "      <td>2</td>\n",
       "      <td>2017</td>\n",
       "      <td>8</td>\n",
       "      <td>15</td>\n",
       "      <td>18636.477</td>\n",
       "      <td>2155.000</td>\n",
       "    </tr>\n",
       "    <tr>\n",
       "      <th>2061756</th>\n",
       "      <td>3000886</td>\n",
       "      <td>2017-08-15</td>\n",
       "      <td>9</td>\n",
       "      <td>SCHOOL AND OFFICE SUPPLIES</td>\n",
       "      <td>121.000</td>\n",
       "      <td>8</td>\n",
       "      <td>2</td>\n",
       "      <td>2017</td>\n",
       "      <td>8</td>\n",
       "      <td>15</td>\n",
       "      <td>18636.477</td>\n",
       "      <td>2155.000</td>\n",
       "    </tr>\n",
       "    <tr>\n",
       "      <th>2061757</th>\n",
       "      <td>3000887</td>\n",
       "      <td>2017-08-15</td>\n",
       "      <td>9</td>\n",
       "      <td>SEAFOOD</td>\n",
       "      <td>16.000</td>\n",
       "      <td>0</td>\n",
       "      <td>2</td>\n",
       "      <td>2017</td>\n",
       "      <td>8</td>\n",
       "      <td>15</td>\n",
       "      <td>18636.477</td>\n",
       "      <td>2155.000</td>\n",
       "    </tr>\n",
       "  </tbody>\n",
       "</table>\n",
       "<p>2061758 rows × 12 columns</p>\n",
       "</div>"
      ],
      "text/plain": [
       "              id       date  store_nbr                      family  sales_x  \\\n",
       "0            563 2013-01-01         25                      BEAUTY    2.000   \n",
       "1            564 2013-01-01         25                   BEVERAGES  810.000   \n",
       "2            566 2013-01-01         25                BREAD/BAKERY  180.589   \n",
       "3            568 2013-01-01         25                    CLEANING  186.000   \n",
       "4            569 2013-01-01         25                       DAIRY  143.000   \n",
       "...          ...        ...        ...                         ...      ...   \n",
       "2061753  3000883 2017-08-15          9                     POULTRY  438.133   \n",
       "2061754  3000884 2017-08-15          9              PREPARED FOODS  154.553   \n",
       "2061755  3000885 2017-08-15          9                     PRODUCE 2419.729   \n",
       "2061756  3000886 2017-08-15          9  SCHOOL AND OFFICE SUPPLIES  121.000   \n",
       "2061757  3000887 2017-08-15          9                     SEAFOOD   16.000   \n",
       "\n",
       "         onpromotion  weekday  year  month  day   sales_y  transactions  \n",
       "0                  0        2  2013      1    1  2511.619       770.000  \n",
       "1                  0        2  2013      1    1  2511.619       770.000  \n",
       "2                  0        2  2013      1    1  2511.619       770.000  \n",
       "3                  0        2  2013      1    1  2511.619       770.000  \n",
       "4                  0        2  2013      1    1  2511.619       770.000  \n",
       "...              ...      ...   ...    ...  ...       ...           ...  \n",
       "2061753            0        2  2017      8   15 18636.477      2155.000  \n",
       "2061754            1        2  2017      8   15 18636.477      2155.000  \n",
       "2061755          148        2  2017      8   15 18636.477      2155.000  \n",
       "2061756            8        2  2017      8   15 18636.477      2155.000  \n",
       "2061757            0        2  2017      8   15 18636.477      2155.000  \n",
       "\n",
       "[2061758 rows x 12 columns]"
      ]
     },
     "execution_count": 259,
     "metadata": {},
     "output_type": "execute_result"
    }
   ],
   "source": [
    "# 데이터프레임 병합\n",
    "train_transact_appro = pd.merge(train, df_merged, on=['date', 'store_nbr'], how='left')\n",
    "\n",
    "# 결과 출력\n"
   ]
  },
  {
   "cell_type": "code",
   "execution_count": 260,
   "metadata": {},
   "outputs": [],
   "source": [
    "train_transact_appro.drop(columns=['sales_y'], inplace=True)\n",
    "train_transact_appro.rename(columns={'sales_x': 'sales'}, inplace=True)"
   ]
  },
  {
   "cell_type": "code",
   "execution_count": 262,
   "metadata": {},
   "outputs": [
    {
     "name": "stdout",
     "output_type": "stream",
     "text": [
      "Missing transactions : 0, Number of rows with transactions value of 0: 0\n"
     ]
    }
   ],
   "source": [
    "missing_transactions = train_transact_appro['transactions'].isnull().sum()\n",
    "transactions_zero_count = train_transact_appro[train_transact_appro['transactions'] == 0.0].shape[0]\n",
    "\n",
    "print(f\"Missing transactions : {missing_transactions}, Number of rows with transactions value of 0: {transactions_zero_count}\")"
   ]
  },
  {
   "cell_type": "code",
   "execution_count": 263,
   "metadata": {},
   "outputs": [
    {
     "data": {
      "text/html": [
       "<div>\n",
       "<style scoped>\n",
       "    .dataframe tbody tr th:only-of-type {\n",
       "        vertical-align: middle;\n",
       "    }\n",
       "\n",
       "    .dataframe tbody tr th {\n",
       "        vertical-align: top;\n",
       "    }\n",
       "\n",
       "    .dataframe thead th {\n",
       "        text-align: right;\n",
       "    }\n",
       "</style>\n",
       "<table border=\"1\" class=\"dataframe\">\n",
       "  <thead>\n",
       "    <tr style=\"text-align: right;\">\n",
       "      <th></th>\n",
       "      <th>id</th>\n",
       "      <th>date</th>\n",
       "      <th>store_nbr</th>\n",
       "      <th>family</th>\n",
       "      <th>sales</th>\n",
       "      <th>onpromotion</th>\n",
       "      <th>weekday</th>\n",
       "      <th>year</th>\n",
       "      <th>month</th>\n",
       "      <th>day</th>\n",
       "      <th>transactions</th>\n",
       "    </tr>\n",
       "  </thead>\n",
       "  <tbody>\n",
       "    <tr>\n",
       "      <th>0</th>\n",
       "      <td>563</td>\n",
       "      <td>2013-01-01</td>\n",
       "      <td>25</td>\n",
       "      <td>BEAUTY</td>\n",
       "      <td>2.000</td>\n",
       "      <td>0</td>\n",
       "      <td>2</td>\n",
       "      <td>2013</td>\n",
       "      <td>1</td>\n",
       "      <td>1</td>\n",
       "      <td>770.000</td>\n",
       "    </tr>\n",
       "    <tr>\n",
       "      <th>1</th>\n",
       "      <td>564</td>\n",
       "      <td>2013-01-01</td>\n",
       "      <td>25</td>\n",
       "      <td>BEVERAGES</td>\n",
       "      <td>810.000</td>\n",
       "      <td>0</td>\n",
       "      <td>2</td>\n",
       "      <td>2013</td>\n",
       "      <td>1</td>\n",
       "      <td>1</td>\n",
       "      <td>770.000</td>\n",
       "    </tr>\n",
       "    <tr>\n",
       "      <th>2</th>\n",
       "      <td>566</td>\n",
       "      <td>2013-01-01</td>\n",
       "      <td>25</td>\n",
       "      <td>BREAD/BAKERY</td>\n",
       "      <td>180.589</td>\n",
       "      <td>0</td>\n",
       "      <td>2</td>\n",
       "      <td>2013</td>\n",
       "      <td>1</td>\n",
       "      <td>1</td>\n",
       "      <td>770.000</td>\n",
       "    </tr>\n",
       "    <tr>\n",
       "      <th>3</th>\n",
       "      <td>568</td>\n",
       "      <td>2013-01-01</td>\n",
       "      <td>25</td>\n",
       "      <td>CLEANING</td>\n",
       "      <td>186.000</td>\n",
       "      <td>0</td>\n",
       "      <td>2</td>\n",
       "      <td>2013</td>\n",
       "      <td>1</td>\n",
       "      <td>1</td>\n",
       "      <td>770.000</td>\n",
       "    </tr>\n",
       "    <tr>\n",
       "      <th>4</th>\n",
       "      <td>569</td>\n",
       "      <td>2013-01-01</td>\n",
       "      <td>25</td>\n",
       "      <td>DAIRY</td>\n",
       "      <td>143.000</td>\n",
       "      <td>0</td>\n",
       "      <td>2</td>\n",
       "      <td>2013</td>\n",
       "      <td>1</td>\n",
       "      <td>1</td>\n",
       "      <td>770.000</td>\n",
       "    </tr>\n",
       "    <tr>\n",
       "      <th>...</th>\n",
       "      <td>...</td>\n",
       "      <td>...</td>\n",
       "      <td>...</td>\n",
       "      <td>...</td>\n",
       "      <td>...</td>\n",
       "      <td>...</td>\n",
       "      <td>...</td>\n",
       "      <td>...</td>\n",
       "      <td>...</td>\n",
       "      <td>...</td>\n",
       "      <td>...</td>\n",
       "    </tr>\n",
       "    <tr>\n",
       "      <th>2061743</th>\n",
       "      <td>3000873</td>\n",
       "      <td>2017-08-15</td>\n",
       "      <td>9</td>\n",
       "      <td>HOME CARE</td>\n",
       "      <td>373.000</td>\n",
       "      <td>6</td>\n",
       "      <td>2</td>\n",
       "      <td>2017</td>\n",
       "      <td>8</td>\n",
       "      <td>15</td>\n",
       "      <td>2155.000</td>\n",
       "    </tr>\n",
       "    <tr>\n",
       "      <th>2061744</th>\n",
       "      <td>3000874</td>\n",
       "      <td>2017-08-15</td>\n",
       "      <td>9</td>\n",
       "      <td>LADIESWEAR</td>\n",
       "      <td>10.000</td>\n",
       "      <td>0</td>\n",
       "      <td>2</td>\n",
       "      <td>2017</td>\n",
       "      <td>8</td>\n",
       "      <td>15</td>\n",
       "      <td>2155.000</td>\n",
       "    </tr>\n",
       "    <tr>\n",
       "      <th>2061745</th>\n",
       "      <td>3000875</td>\n",
       "      <td>2017-08-15</td>\n",
       "      <td>9</td>\n",
       "      <td>LAWN AND GARDEN</td>\n",
       "      <td>11.000</td>\n",
       "      <td>3</td>\n",
       "      <td>2</td>\n",
       "      <td>2017</td>\n",
       "      <td>8</td>\n",
       "      <td>15</td>\n",
       "      <td>2155.000</td>\n",
       "    </tr>\n",
       "    <tr>\n",
       "      <th>2061746</th>\n",
       "      <td>3000876</td>\n",
       "      <td>2017-08-15</td>\n",
       "      <td>9</td>\n",
       "      <td>LINGERIE</td>\n",
       "      <td>6.000</td>\n",
       "      <td>0</td>\n",
       "      <td>2</td>\n",
       "      <td>2017</td>\n",
       "      <td>8</td>\n",
       "      <td>15</td>\n",
       "      <td>2155.000</td>\n",
       "    </tr>\n",
       "    <tr>\n",
       "      <th>2061747</th>\n",
       "      <td>3000877</td>\n",
       "      <td>2017-08-15</td>\n",
       "      <td>9</td>\n",
       "      <td>LIQUOR,WINE,BEER</td>\n",
       "      <td>25.000</td>\n",
       "      <td>2</td>\n",
       "      <td>2</td>\n",
       "      <td>2017</td>\n",
       "      <td>8</td>\n",
       "      <td>15</td>\n",
       "      <td>2155.000</td>\n",
       "    </tr>\n",
       "  </tbody>\n",
       "</table>\n",
       "<p>2061748 rows × 11 columns</p>\n",
       "</div>"
      ],
      "text/plain": [
       "              id       date  store_nbr            family   sales  onpromotion  \\\n",
       "0            563 2013-01-01         25            BEAUTY   2.000            0   \n",
       "1            564 2013-01-01         25         BEVERAGES 810.000            0   \n",
       "2            566 2013-01-01         25      BREAD/BAKERY 180.589            0   \n",
       "3            568 2013-01-01         25          CLEANING 186.000            0   \n",
       "4            569 2013-01-01         25             DAIRY 143.000            0   \n",
       "...          ...        ...        ...               ...     ...          ...   \n",
       "2061743  3000873 2017-08-15          9         HOME CARE 373.000            6   \n",
       "2061744  3000874 2017-08-15          9        LADIESWEAR  10.000            0   \n",
       "2061745  3000875 2017-08-15          9   LAWN AND GARDEN  11.000            3   \n",
       "2061746  3000876 2017-08-15          9          LINGERIE   6.000            0   \n",
       "2061747  3000877 2017-08-15          9  LIQUOR,WINE,BEER  25.000            2   \n",
       "\n",
       "         weekday  year  month  day  transactions  \n",
       "0              2  2013      1    1       770.000  \n",
       "1              2  2013      1    1       770.000  \n",
       "2              2  2013      1    1       770.000  \n",
       "3              2  2013      1    1       770.000  \n",
       "4              2  2013      1    1       770.000  \n",
       "...          ...   ...    ...  ...           ...  \n",
       "2061743        2  2017      8   15      2155.000  \n",
       "2061744        2  2017      8   15      2155.000  \n",
       "2061745        2  2017      8   15      2155.000  \n",
       "2061746        2  2017      8   15      2155.000  \n",
       "2061747        2  2017      8   15      2155.000  \n",
       "\n",
       "[2061748 rows x 11 columns]"
      ]
     },
     "execution_count": 263,
     "metadata": {},
     "output_type": "execute_result"
    }
   ],
   "source": [
    "train_transact_appro.head(-10)"
   ]
  },
  {
   "cell_type": "markdown",
   "metadata": {},
   "source": [
    "### Family data\n",
    "Family를 Others 로 정리 : 필요가 없을시 실행하지 말것!!"
   ]
  },
  {
   "cell_type": "code",
   "execution_count": 110,
   "metadata": {},
   "outputs": [],
   "source": [
    "family_rank = train.groupby(\"family\").sales.mean().sort_values(ascending = False).reset_index()"
   ]
  },
  {
   "cell_type": "code",
   "execution_count": 117,
   "metadata": {},
   "outputs": [
    {
     "data": {
      "text/html": [
       "<div>\n",
       "<style scoped>\n",
       "    .dataframe tbody tr th:only-of-type {\n",
       "        vertical-align: middle;\n",
       "    }\n",
       "\n",
       "    .dataframe tbody tr th {\n",
       "        vertical-align: top;\n",
       "    }\n",
       "\n",
       "    .dataframe thead th {\n",
       "        text-align: right;\n",
       "    }\n",
       "</style>\n",
       "<table border=\"1\" class=\"dataframe\">\n",
       "  <thead>\n",
       "    <tr style=\"text-align: right;\">\n",
       "      <th></th>\n",
       "      <th>family</th>\n",
       "      <th>sales</th>\n",
       "    </tr>\n",
       "  </thead>\n",
       "  <tbody>\n",
       "    <tr>\n",
       "      <th>0</th>\n",
       "      <td>GROCERY I</td>\n",
       "      <td>4108.209</td>\n",
       "    </tr>\n",
       "    <tr>\n",
       "      <th>1</th>\n",
       "      <td>BEVERAGES</td>\n",
       "      <td>2594.994</td>\n",
       "    </tr>\n",
       "    <tr>\n",
       "      <th>2</th>\n",
       "      <td>PRODUCE</td>\n",
       "      <td>1883.389</td>\n",
       "    </tr>\n",
       "    <tr>\n",
       "      <th>3</th>\n",
       "      <td>CLEANING</td>\n",
       "      <td>1166.453</td>\n",
       "    </tr>\n",
       "    <tr>\n",
       "      <th>4</th>\n",
       "      <td>DAIRY</td>\n",
       "      <td>771.338</td>\n",
       "    </tr>\n",
       "    <tr>\n",
       "      <th>5</th>\n",
       "      <td>BREAD/BAKERY</td>\n",
       "      <td>503.958</td>\n",
       "    </tr>\n",
       "    <tr>\n",
       "      <th>6</th>\n",
       "      <td>POULTRY</td>\n",
       "      <td>381.328</td>\n",
       "    </tr>\n",
       "    <tr>\n",
       "      <th>7</th>\n",
       "      <td>MEATS</td>\n",
       "      <td>371.825</td>\n",
       "    </tr>\n",
       "    <tr>\n",
       "      <th>8</th>\n",
       "      <td>HOME CARE</td>\n",
       "      <td>298.181</td>\n",
       "    </tr>\n",
       "    <tr>\n",
       "      <th>9</th>\n",
       "      <td>PERSONAL CARE</td>\n",
       "      <td>294.156</td>\n",
       "    </tr>\n",
       "    <tr>\n",
       "      <th>10</th>\n",
       "      <td>DELI</td>\n",
       "      <td>288.384</td>\n",
       "    </tr>\n",
       "    <tr>\n",
       "      <th>11</th>\n",
       "      <td>EGGS</td>\n",
       "      <td>186.452</td>\n",
       "    </tr>\n",
       "    <tr>\n",
       "      <th>12</th>\n",
       "      <td>FROZEN FOODS</td>\n",
       "      <td>168.392</td>\n",
       "    </tr>\n",
       "    <tr>\n",
       "      <th>13</th>\n",
       "      <td>PREPARED FOODS</td>\n",
       "      <td>105.281</td>\n",
       "    </tr>\n",
       "    <tr>\n",
       "      <th>14</th>\n",
       "      <td>LIQUOR,WINE,BEER</td>\n",
       "      <td>103.717</td>\n",
       "    </tr>\n",
       "    <tr>\n",
       "      <th>15</th>\n",
       "      <td>HOME AND KITCHEN I</td>\n",
       "      <td>31.322</td>\n",
       "    </tr>\n",
       "    <tr>\n",
       "      <th>16</th>\n",
       "      <td>SEAFOOD</td>\n",
       "      <td>27.484</td>\n",
       "    </tr>\n",
       "    <tr>\n",
       "      <th>17</th>\n",
       "      <td>HOME AND KITCHEN II</td>\n",
       "      <td>25.614</td>\n",
       "    </tr>\n",
       "    <tr>\n",
       "      <th>18</th>\n",
       "      <td>OTHERS</td>\n",
       "      <td>135.325</td>\n",
       "    </tr>\n",
       "  </tbody>\n",
       "</table>\n",
       "</div>"
      ],
      "text/plain": [
       "                 family    sales\n",
       "0             GROCERY I 4108.209\n",
       "1             BEVERAGES 2594.994\n",
       "2               PRODUCE 1883.389\n",
       "3              CLEANING 1166.453\n",
       "4                 DAIRY  771.338\n",
       "5          BREAD/BAKERY  503.958\n",
       "6               POULTRY  381.328\n",
       "7                 MEATS  371.825\n",
       "8             HOME CARE  298.181\n",
       "9         PERSONAL CARE  294.156\n",
       "10                 DELI  288.384\n",
       "11                 EGGS  186.452\n",
       "12         FROZEN FOODS  168.392\n",
       "13       PREPARED FOODS  105.281\n",
       "14     LIQUOR,WINE,BEER  103.717\n",
       "15   HOME AND KITCHEN I   31.322\n",
       "16              SEAFOOD   27.484\n",
       "17  HOME AND KITCHEN II   25.614\n",
       "18               OTHERS  135.325"
      ]
     },
     "execution_count": 117,
     "metadata": {},
     "output_type": "execute_result"
    }
   ],
   "source": [
    "# 전체 sales의 99.9% 기준 계산\n",
    "total_sales = family_rank['sales'].sum()\n",
    "cumulative_sales = family_rank['sales'].cumsum()\n",
    "threshold = total_sales * 0.99 # 1: 전체 상품권, 0.99 : 99프로 판매 상품군\n",
    "\n",
    "# 95%를 차지하는 품목 식별\n",
    "family_rank['cumulative_sales'] = cumulative_sales\n",
    "top_99 = family_rank[family_rank['cumulative_sales'] <= threshold]\n",
    "top_99_families = top_99['family'].unique()\n",
    "\n",
    "# 나머지 품목 합산하여 OTHERS로 처리\n",
    "others = family_rank[family_rank['cumulative_sales'] > threshold]\n",
    "others_sum = others['sales'].sum()\n",
    "\n",
    "# 결과 데이터프레임 생성\n",
    "result = top_99[['family', 'sales']].copy()\n",
    "others_row = pd.DataFrame([{'family': 'OTHERS', 'sales': others_sum}])\n",
    "result = pd.concat([result, others_row], ignore_index=True)\n",
    "\n",
    "result"
   ]
  },
  {
   "cell_type": "code",
   "execution_count": 123,
   "metadata": {},
   "outputs": [
    {
     "name": "stdout",
     "output_type": "stream",
     "text": [
      "<class 'pandas.core.frame.DataFrame'>\n",
      "RangeIndex: 28512 entries, 0 to 28511\n",
      "Data columns (total 9 columns):\n",
      " #   Column       Non-Null Count  Dtype         \n",
      "---  ------       --------------  -----         \n",
      " 0   id           28512 non-null  int64         \n",
      " 1   date         28512 non-null  datetime64[ns]\n",
      " 2   store_nbr    28512 non-null  int8          \n",
      " 3   family       28512 non-null  object        \n",
      " 4   onpromotion  28512 non-null  int64         \n",
      " 5   weekday      28512 non-null  int8          \n",
      " 6   year         28512 non-null  int32         \n",
      " 7   month        28512 non-null  int8          \n",
      " 8   day          28512 non-null  int8          \n",
      "dtypes: datetime64[ns](1), int32(1), int64(2), int8(4), object(1)\n",
      "memory usage: 1.1+ MB\n"
     ]
    }
   ],
   "source": [
    "test.info()"
   ]
  },
  {
   "cell_type": "code",
   "execution_count": 122,
   "metadata": {},
   "outputs": [
    {
     "data": {
      "text/html": [
       "<div>\n",
       "<style scoped>\n",
       "    .dataframe tbody tr th:only-of-type {\n",
       "        vertical-align: middle;\n",
       "    }\n",
       "\n",
       "    .dataframe tbody tr th {\n",
       "        vertical-align: top;\n",
       "    }\n",
       "\n",
       "    .dataframe thead th {\n",
       "        text-align: right;\n",
       "    }\n",
       "</style>\n",
       "<table border=\"1\" class=\"dataframe\">\n",
       "  <thead>\n",
       "    <tr style=\"text-align: right;\">\n",
       "      <th></th>\n",
       "      <th>id</th>\n",
       "      <th>date</th>\n",
       "      <th>store_nbr</th>\n",
       "      <th>family</th>\n",
       "      <th>onpromotion</th>\n",
       "      <th>weekday</th>\n",
       "      <th>year</th>\n",
       "      <th>month</th>\n",
       "      <th>day</th>\n",
       "    </tr>\n",
       "  </thead>\n",
       "  <tbody>\n",
       "    <tr>\n",
       "      <th>0</th>\n",
       "      <td>3000888</td>\n",
       "      <td>2017-08-16</td>\n",
       "      <td>1</td>\n",
       "      <td>AUTOMOTIVE</td>\n",
       "      <td>0</td>\n",
       "      <td>3</td>\n",
       "      <td>2017</td>\n",
       "      <td>8</td>\n",
       "      <td>16</td>\n",
       "    </tr>\n",
       "    <tr>\n",
       "      <th>1</th>\n",
       "      <td>3000889</td>\n",
       "      <td>2017-08-16</td>\n",
       "      <td>1</td>\n",
       "      <td>BABY CARE</td>\n",
       "      <td>0</td>\n",
       "      <td>3</td>\n",
       "      <td>2017</td>\n",
       "      <td>8</td>\n",
       "      <td>16</td>\n",
       "    </tr>\n",
       "    <tr>\n",
       "      <th>2</th>\n",
       "      <td>3000890</td>\n",
       "      <td>2017-08-16</td>\n",
       "      <td>1</td>\n",
       "      <td>BEAUTY</td>\n",
       "      <td>2</td>\n",
       "      <td>3</td>\n",
       "      <td>2017</td>\n",
       "      <td>8</td>\n",
       "      <td>16</td>\n",
       "    </tr>\n",
       "    <tr>\n",
       "      <th>3</th>\n",
       "      <td>3000891</td>\n",
       "      <td>2017-08-16</td>\n",
       "      <td>1</td>\n",
       "      <td>BEVERAGES</td>\n",
       "      <td>20</td>\n",
       "      <td>3</td>\n",
       "      <td>2017</td>\n",
       "      <td>8</td>\n",
       "      <td>16</td>\n",
       "    </tr>\n",
       "    <tr>\n",
       "      <th>4</th>\n",
       "      <td>3000892</td>\n",
       "      <td>2017-08-16</td>\n",
       "      <td>1</td>\n",
       "      <td>BOOKS</td>\n",
       "      <td>0</td>\n",
       "      <td>3</td>\n",
       "      <td>2017</td>\n",
       "      <td>8</td>\n",
       "      <td>16</td>\n",
       "    </tr>\n",
       "  </tbody>\n",
       "</table>\n",
       "</div>"
      ],
      "text/plain": [
       "        id       date  store_nbr      family  onpromotion  weekday  year  \\\n",
       "0  3000888 2017-08-16          1  AUTOMOTIVE            0        3  2017   \n",
       "1  3000889 2017-08-16          1   BABY CARE            0        3  2017   \n",
       "2  3000890 2017-08-16          1      BEAUTY            2        3  2017   \n",
       "3  3000891 2017-08-16          1   BEVERAGES           20        3  2017   \n",
       "4  3000892 2017-08-16          1       BOOKS            0        3  2017   \n",
       "\n",
       "   month  day  \n",
       "0      8   16  \n",
       "1      8   16  \n",
       "2      8   16  \n",
       "3      8   16  \n",
       "4      8   16  "
      ]
     },
     "execution_count": 122,
     "metadata": {},
     "output_type": "execute_result"
    }
   ],
   "source": [
    "test.head()"
   ]
  },
  {
   "cell_type": "code",
   "execution_count": 120,
   "metadata": {},
   "outputs": [
    {
     "name": "stdout",
     "output_type": "stream",
     "text": [
      "        date  store_nbr  family_count\n",
      "0 2017-08-16          1            18\n",
      "1 2017-08-16          2            18\n",
      "2 2017-08-16          3            18\n",
      "3 2017-08-16          4            18\n",
      "4 2017-08-16          5            18\n",
      "Total number of entries with the specified families: 15552\n"
     ]
    }
   ],
   "source": [
    "# date와 store_nbr로 그룹화하여 family 항목 개수 계산\n",
    "grouped_df = test.groupby(['date', 'store_nbr'])['family'].apply(lambda x: x.isin(top_99_families).sum()).reset_index(name='family_count')\n",
    "\n",
    "# 결과 확인\n",
    "print(grouped_df.head())\n",
    "print(f\"Total number of entries with the specified families: {grouped_df['family_count'].sum()}\")"
   ]
  },
  {
   "cell_type": "code",
   "execution_count": 65,
   "metadata": {},
   "outputs": [],
   "source": [
    "# family가 top_95 목록에 없으면 'OTHERS'로 변경\n",
    "train['family'] = train['family'].apply(lambda x: x if x in top_99_families else 'OTHERS')"
   ]
  },
  {
   "cell_type": "code",
   "execution_count": 66,
   "metadata": {},
   "outputs": [
    {
     "name": "stdout",
     "output_type": "stream",
     "text": [
      "<class 'pandas.core.frame.DataFrame'>\n",
      "RangeIndex: 3000888 entries, 0 to 3000887\n",
      "Data columns (total 6 columns):\n",
      " #   Column       Dtype         \n",
      "---  ------       -----         \n",
      " 0   id           int64         \n",
      " 1   date         datetime64[ns]\n",
      " 2   store_nbr    int64         \n",
      " 3   family       object        \n",
      " 4   sales        float64       \n",
      " 5   onpromotion  int64         \n",
      "dtypes: datetime64[ns](1), float64(1), int64(3), object(1)\n",
      "memory usage: 137.4+ MB\n"
     ]
    }
   ],
   "source": [
    "train.info()"
   ]
  },
  {
   "cell_type": "code",
   "execution_count": 67,
   "metadata": {},
   "outputs": [
    {
     "name": "stdout",
     "output_type": "stream",
     "text": [
      "<class 'pandas.core.frame.DataFrame'>\n",
      "RangeIndex: 1454976 entries, 0 to 1454975\n",
      "Data columns (total 6 columns):\n",
      " #   Column       Non-Null Count    Dtype         \n",
      "---  ------       --------------    -----         \n",
      " 0   id           1454976 non-null  int64         \n",
      " 1   date         1454976 non-null  datetime64[ns]\n",
      " 2   store_nbr    1454976 non-null  int64         \n",
      " 3   family       1454976 non-null  object        \n",
      " 4   sales        1454976 non-null  float64       \n",
      " 5   onpromotion  1454976 non-null  int64         \n",
      "dtypes: datetime64[ns](1), float64(1), int64(3), object(1)\n",
      "memory usage: 66.6+ MB\n"
     ]
    }
   ],
   "source": [
    "# 'date'와 'store_nbr'로 그룹화하고, 'family'가 'OTHERS'인 경우를 처리\n",
    "def process_group(group):\n",
    "    if 'OTHERS' in group['family'].values:\n",
    "        # 'OTHERS'에 해당하는 'sales'와 'onpromotion' 값 합산\n",
    "        others_sales_sum = group[group['family'] == 'OTHERS']['sales'].sum()\n",
    "        others_onpromotion_sum = group[group['family'] == 'OTHERS']['onpromotion'].sum()\n",
    "        # 'OTHERS' 중 첫 번째 항목만 남기고 나머지는 삭제\n",
    "        first_others_idx = group[group['family'] == 'OTHERS'].index[0]\n",
    "        group = group.drop(group[group['family'] == 'OTHERS'].index[1:])\n",
    "        # 남은 'OTHERS'의 'sales'와 'onpromotion' 값을 합산된 값으로 업데이트\n",
    "        group.loc[first_others_idx, 'sales'] = others_sales_sum\n",
    "        group.loc[first_others_idx, 'onpromotion'] = others_onpromotion_sum\n",
    "    return group\n",
    "\n",
    "# 그룹별로 처리\n",
    "train_pre = train.groupby(['date', 'store_nbr']).apply(process_group).reset_index(drop=True)\n",
    "train_pre.info()"
   ]
  },
  {
   "cell_type": "code",
   "execution_count": 68,
   "metadata": {},
   "outputs": [
    {
     "name": "stdout",
     "output_type": "stream",
     "text": [
      "<class 'pandas.core.frame.DataFrame'>\n",
      "RangeIndex: 1454976 entries, 0 to 1454975\n",
      "Data columns (total 6 columns):\n",
      " #   Column       Non-Null Count    Dtype         \n",
      "---  ------       --------------    -----         \n",
      " 0   id           1454976 non-null  int64         \n",
      " 1   date         1454976 non-null  datetime64[ns]\n",
      " 2   store_nbr    1454976 non-null  int64         \n",
      " 3   family       1454976 non-null  object        \n",
      " 4   sales        1454976 non-null  float64       \n",
      " 5   onpromotion  1454976 non-null  int64         \n",
      "dtypes: datetime64[ns](1), float64(1), int64(3), object(1)\n",
      "memory usage: 66.6+ MB\n"
     ]
    }
   ],
   "source": [
    "train_pre.info()"
   ]
  },
  {
   "cell_type": "code",
   "execution_count": 72,
   "metadata": {},
   "outputs": [
    {
     "name": "stdout",
     "output_type": "stream",
     "text": [
      "Missing sales : 0, Number of rows with sales value of 0: 0\n",
      "Missing transactions : 0, Number of rows with transactions value of 0: 1826\n"
     ]
    }
   ],
   "source": [
    "# sales 값이 0인 행 삭제\n",
    "train_transactions = train_transactions[train_transactions['sales'] != 0.0]\n",
    "\n",
    "# transactions의 null 값을 0으로 설정\n",
    "train_transactions['transactions'].fillna(0, inplace=True)\n",
    "\n",
    "# 결과 확인\n",
    "missing_sales = train_transactions['sales'].isnull().sum()\n",
    "sales_zero_count = train_transactions[train_transactions['sales'] == 0.0].shape[0]\n",
    "\n",
    "missing_transactions = train_transactions['transactions'].isnull().sum()\n",
    "transactions_zero_count = train_transactions[train_transactions['transactions'] == 0.0].shape[0]\n",
    "\n",
    "print(f\"Missing sales : {missing_sales}, Number of rows with sales value of 0: {sales_zero_count}\")\n",
    "print(f\"Missing transactions : {missing_transactions}, Number of rows with transactions value of 0: {transactions_zero_count}\")"
   ]
  },
  {
   "cell_type": "code",
   "execution_count": 73,
   "metadata": {},
   "outputs": [],
   "source": [
    "# 인덱스 재설정\n",
    "train_transactions.reset_index(drop=True, inplace=True)"
   ]
  },
  {
   "cell_type": "code",
   "execution_count": 74,
   "metadata": {},
   "outputs": [
    {
     "name": "stdout",
     "output_type": "stream",
     "text": [
      "<class 'pandas.core.frame.DataFrame'>\n",
      "RangeIndex: 1280373 entries, 0 to 1280372\n",
      "Data columns (total 7 columns):\n",
      " #   Column        Non-Null Count    Dtype         \n",
      "---  ------        --------------    -----         \n",
      " 0   id            1280373 non-null  int64         \n",
      " 1   date          1280373 non-null  datetime64[ns]\n",
      " 2   store_nbr     1280373 non-null  int64         \n",
      " 3   family        1280373 non-null  object        \n",
      " 4   sales         1280373 non-null  float64       \n",
      " 5   onpromotion   1280373 non-null  int64         \n",
      " 6   transactions  1280373 non-null  float64       \n",
      "dtypes: datetime64[ns](1), float64(2), int64(3), object(1)\n",
      "memory usage: 68.4+ MB\n"
     ]
    }
   ],
   "source": [
    "train_transactions.info()"
   ]
  },
  {
   "cell_type": "markdown",
   "metadata": {},
   "source": [
    "300만개 데이터를 128만개로 줄임"
   ]
  },
  {
   "cell_type": "markdown",
   "metadata": {},
   "source": [
    "### holidays_events 처리"
   ]
  },
  {
   "cell_type": "code",
   "execution_count": 264,
   "metadata": {},
   "outputs": [
    {
     "name": "stdout",
     "output_type": "stream",
     "text": [
      "<class 'pandas.core.frame.DataFrame'>\n",
      "RangeIndex: 350 entries, 0 to 349\n",
      "Data columns (total 6 columns):\n",
      " #   Column       Non-Null Count  Dtype         \n",
      "---  ------       --------------  -----         \n",
      " 0   date         350 non-null    datetime64[ns]\n",
      " 1   type         350 non-null    object        \n",
      " 2   locale       350 non-null    object        \n",
      " 3   locale_name  350 non-null    object        \n",
      " 4   description  350 non-null    object        \n",
      " 5   transferred  350 non-null    bool          \n",
      "dtypes: bool(1), datetime64[ns](1), object(4)\n",
      "memory usage: 14.1+ KB\n"
     ]
    }
   ],
   "source": [
    "holidays_events = pd.read_csv(\"../data//holidays_events.csv\")\n",
    "holidays_events['date'] = pd.to_datetime(transactions['date'])\n",
    "holidays_events.info()"
   ]
  },
  {
   "cell_type": "markdown",
   "metadata": {},
   "source": [
    "##### preprocessing 결과 locale과 type에 다른 변수에 따라 영향을 받지 않으므로 단순히 holday 가 있는 날은 0, 없는 날을 1로 세팅"
   ]
  },
  {
   "cell_type": "code",
   "execution_count": 265,
   "metadata": {},
   "outputs": [],
   "source": [
    "train_transact_appro['is_holiday'] = train_transact_appro['date'].isin(holidays_events['date']).astype(int)"
   ]
  },
  {
   "cell_type": "code",
   "execution_count": 266,
   "metadata": {},
   "outputs": [
    {
     "name": "stdout",
     "output_type": "stream",
     "text": [
      "<class 'pandas.core.frame.DataFrame'>\n",
      "RangeIndex: 2061758 entries, 0 to 2061757\n",
      "Data columns (total 12 columns):\n",
      " #   Column        Dtype         \n",
      "---  ------        -----         \n",
      " 0   id            int64         \n",
      " 1   date          datetime64[ns]\n",
      " 2   store_nbr     int8          \n",
      " 3   family        object        \n",
      " 4   sales         float64       \n",
      " 5   onpromotion   int64         \n",
      " 6   weekday       int8          \n",
      " 7   year          int32         \n",
      " 8   month         int8          \n",
      " 9   day           int8          \n",
      " 10  transactions  float64       \n",
      " 11  is_holiday    int64         \n",
      "dtypes: datetime64[ns](1), float64(2), int32(1), int64(3), int8(4), object(1)\n",
      "memory usage: 125.8+ MB\n"
     ]
    }
   ],
   "source": [
    "train_transact_appro.info()"
   ]
  },
  {
   "cell_type": "markdown",
   "metadata": {},
   "source": [
    "### store 데이터 처리"
   ]
  },
  {
   "cell_type": "code",
   "execution_count": 267,
   "metadata": {},
   "outputs": [
    {
     "name": "stdout",
     "output_type": "stream",
     "text": [
      "<class 'pandas.core.frame.DataFrame'>\n",
      "RangeIndex: 54 entries, 0 to 53\n",
      "Data columns (total 5 columns):\n",
      " #   Column     Non-Null Count  Dtype \n",
      "---  ------     --------------  ----- \n",
      " 0   store_nbr  54 non-null     int64 \n",
      " 1   city       54 non-null     object\n",
      " 2   state      54 non-null     object\n",
      " 3   type       54 non-null     object\n",
      " 4   cluster    54 non-null     int64 \n",
      "dtypes: int64(2), object(3)\n",
      "memory usage: 2.2+ KB\n"
     ]
    }
   ],
   "source": [
    "stores = pd.read_csv(\"../data//stores.csv\")\n",
    "stores.info()"
   ]
  },
  {
   "cell_type": "code",
   "execution_count": 268,
   "metadata": {},
   "outputs": [
    {
     "data": {
      "text/html": [
       "<div>\n",
       "<style scoped>\n",
       "    .dataframe tbody tr th:only-of-type {\n",
       "        vertical-align: middle;\n",
       "    }\n",
       "\n",
       "    .dataframe tbody tr th {\n",
       "        vertical-align: top;\n",
       "    }\n",
       "\n",
       "    .dataframe thead th {\n",
       "        text-align: right;\n",
       "    }\n",
       "</style>\n",
       "<table border=\"1\" class=\"dataframe\">\n",
       "  <thead>\n",
       "    <tr style=\"text-align: right;\">\n",
       "      <th></th>\n",
       "      <th>store_nbr</th>\n",
       "      <th>city</th>\n",
       "      <th>state</th>\n",
       "      <th>type</th>\n",
       "      <th>cluster</th>\n",
       "    </tr>\n",
       "  </thead>\n",
       "  <tbody>\n",
       "    <tr>\n",
       "      <th>0</th>\n",
       "      <td>1</td>\n",
       "      <td>Quito</td>\n",
       "      <td>Pichincha</td>\n",
       "      <td>D</td>\n",
       "      <td>13</td>\n",
       "    </tr>\n",
       "    <tr>\n",
       "      <th>1</th>\n",
       "      <td>2</td>\n",
       "      <td>Quito</td>\n",
       "      <td>Pichincha</td>\n",
       "      <td>D</td>\n",
       "      <td>13</td>\n",
       "    </tr>\n",
       "    <tr>\n",
       "      <th>2</th>\n",
       "      <td>3</td>\n",
       "      <td>Quito</td>\n",
       "      <td>Pichincha</td>\n",
       "      <td>D</td>\n",
       "      <td>8</td>\n",
       "    </tr>\n",
       "    <tr>\n",
       "      <th>3</th>\n",
       "      <td>4</td>\n",
       "      <td>Quito</td>\n",
       "      <td>Pichincha</td>\n",
       "      <td>D</td>\n",
       "      <td>9</td>\n",
       "    </tr>\n",
       "    <tr>\n",
       "      <th>4</th>\n",
       "      <td>5</td>\n",
       "      <td>Santo Domingo</td>\n",
       "      <td>Santo Domingo de los Tsachilas</td>\n",
       "      <td>D</td>\n",
       "      <td>4</td>\n",
       "    </tr>\n",
       "  </tbody>\n",
       "</table>\n",
       "</div>"
      ],
      "text/plain": [
       "   store_nbr           city                           state type  cluster\n",
       "0          1          Quito                       Pichincha    D       13\n",
       "1          2          Quito                       Pichincha    D       13\n",
       "2          3          Quito                       Pichincha    D        8\n",
       "3          4          Quito                       Pichincha    D        9\n",
       "4          5  Santo Domingo  Santo Domingo de los Tsachilas    D        4"
      ]
     },
     "execution_count": 268,
     "metadata": {},
     "output_type": "execute_result"
    }
   ],
   "source": [
    "stores.head()"
   ]
  },
  {
   "cell_type": "code",
   "execution_count": 269,
   "metadata": {},
   "outputs": [],
   "source": [
    "train_stores = pd.merge(train_transact_appro, stores, on='store_nbr', how='left')"
   ]
  },
  {
   "cell_type": "code",
   "execution_count": 270,
   "metadata": {},
   "outputs": [
    {
     "data": {
      "text/html": [
       "<div>\n",
       "<style scoped>\n",
       "    .dataframe tbody tr th:only-of-type {\n",
       "        vertical-align: middle;\n",
       "    }\n",
       "\n",
       "    .dataframe tbody tr th {\n",
       "        vertical-align: top;\n",
       "    }\n",
       "\n",
       "    .dataframe thead th {\n",
       "        text-align: right;\n",
       "    }\n",
       "</style>\n",
       "<table border=\"1\" class=\"dataframe\">\n",
       "  <thead>\n",
       "    <tr style=\"text-align: right;\">\n",
       "      <th></th>\n",
       "      <th>id</th>\n",
       "      <th>date</th>\n",
       "      <th>store_nbr</th>\n",
       "      <th>family</th>\n",
       "      <th>sales</th>\n",
       "      <th>onpromotion</th>\n",
       "      <th>weekday</th>\n",
       "      <th>year</th>\n",
       "      <th>month</th>\n",
       "      <th>day</th>\n",
       "      <th>transactions</th>\n",
       "      <th>is_holiday</th>\n",
       "      <th>city</th>\n",
       "      <th>state</th>\n",
       "      <th>type</th>\n",
       "      <th>cluster</th>\n",
       "    </tr>\n",
       "  </thead>\n",
       "  <tbody>\n",
       "    <tr>\n",
       "      <th>0</th>\n",
       "      <td>563</td>\n",
       "      <td>2013-01-01</td>\n",
       "      <td>25</td>\n",
       "      <td>BEAUTY</td>\n",
       "      <td>2.000</td>\n",
       "      <td>0</td>\n",
       "      <td>2</td>\n",
       "      <td>2013</td>\n",
       "      <td>1</td>\n",
       "      <td>1</td>\n",
       "      <td>770.000</td>\n",
       "      <td>1</td>\n",
       "      <td>Salinas</td>\n",
       "      <td>Santa Elena</td>\n",
       "      <td>D</td>\n",
       "      <td>1</td>\n",
       "    </tr>\n",
       "    <tr>\n",
       "      <th>1</th>\n",
       "      <td>564</td>\n",
       "      <td>2013-01-01</td>\n",
       "      <td>25</td>\n",
       "      <td>BEVERAGES</td>\n",
       "      <td>810.000</td>\n",
       "      <td>0</td>\n",
       "      <td>2</td>\n",
       "      <td>2013</td>\n",
       "      <td>1</td>\n",
       "      <td>1</td>\n",
       "      <td>770.000</td>\n",
       "      <td>1</td>\n",
       "      <td>Salinas</td>\n",
       "      <td>Santa Elena</td>\n",
       "      <td>D</td>\n",
       "      <td>1</td>\n",
       "    </tr>\n",
       "    <tr>\n",
       "      <th>2</th>\n",
       "      <td>566</td>\n",
       "      <td>2013-01-01</td>\n",
       "      <td>25</td>\n",
       "      <td>BREAD/BAKERY</td>\n",
       "      <td>180.589</td>\n",
       "      <td>0</td>\n",
       "      <td>2</td>\n",
       "      <td>2013</td>\n",
       "      <td>1</td>\n",
       "      <td>1</td>\n",
       "      <td>770.000</td>\n",
       "      <td>1</td>\n",
       "      <td>Salinas</td>\n",
       "      <td>Santa Elena</td>\n",
       "      <td>D</td>\n",
       "      <td>1</td>\n",
       "    </tr>\n",
       "    <tr>\n",
       "      <th>3</th>\n",
       "      <td>568</td>\n",
       "      <td>2013-01-01</td>\n",
       "      <td>25</td>\n",
       "      <td>CLEANING</td>\n",
       "      <td>186.000</td>\n",
       "      <td>0</td>\n",
       "      <td>2</td>\n",
       "      <td>2013</td>\n",
       "      <td>1</td>\n",
       "      <td>1</td>\n",
       "      <td>770.000</td>\n",
       "      <td>1</td>\n",
       "      <td>Salinas</td>\n",
       "      <td>Santa Elena</td>\n",
       "      <td>D</td>\n",
       "      <td>1</td>\n",
       "    </tr>\n",
       "    <tr>\n",
       "      <th>4</th>\n",
       "      <td>569</td>\n",
       "      <td>2013-01-01</td>\n",
       "      <td>25</td>\n",
       "      <td>DAIRY</td>\n",
       "      <td>143.000</td>\n",
       "      <td>0</td>\n",
       "      <td>2</td>\n",
       "      <td>2013</td>\n",
       "      <td>1</td>\n",
       "      <td>1</td>\n",
       "      <td>770.000</td>\n",
       "      <td>1</td>\n",
       "      <td>Salinas</td>\n",
       "      <td>Santa Elena</td>\n",
       "      <td>D</td>\n",
       "      <td>1</td>\n",
       "    </tr>\n",
       "    <tr>\n",
       "      <th>...</th>\n",
       "      <td>...</td>\n",
       "      <td>...</td>\n",
       "      <td>...</td>\n",
       "      <td>...</td>\n",
       "      <td>...</td>\n",
       "      <td>...</td>\n",
       "      <td>...</td>\n",
       "      <td>...</td>\n",
       "      <td>...</td>\n",
       "      <td>...</td>\n",
       "      <td>...</td>\n",
       "      <td>...</td>\n",
       "      <td>...</td>\n",
       "      <td>...</td>\n",
       "      <td>...</td>\n",
       "      <td>...</td>\n",
       "    </tr>\n",
       "    <tr>\n",
       "      <th>2061753</th>\n",
       "      <td>3000883</td>\n",
       "      <td>2017-08-15</td>\n",
       "      <td>9</td>\n",
       "      <td>POULTRY</td>\n",
       "      <td>438.133</td>\n",
       "      <td>0</td>\n",
       "      <td>2</td>\n",
       "      <td>2017</td>\n",
       "      <td>8</td>\n",
       "      <td>15</td>\n",
       "      <td>2155.000</td>\n",
       "      <td>0</td>\n",
       "      <td>Quito</td>\n",
       "      <td>Pichincha</td>\n",
       "      <td>B</td>\n",
       "      <td>6</td>\n",
       "    </tr>\n",
       "    <tr>\n",
       "      <th>2061754</th>\n",
       "      <td>3000884</td>\n",
       "      <td>2017-08-15</td>\n",
       "      <td>9</td>\n",
       "      <td>PREPARED FOODS</td>\n",
       "      <td>154.553</td>\n",
       "      <td>1</td>\n",
       "      <td>2</td>\n",
       "      <td>2017</td>\n",
       "      <td>8</td>\n",
       "      <td>15</td>\n",
       "      <td>2155.000</td>\n",
       "      <td>0</td>\n",
       "      <td>Quito</td>\n",
       "      <td>Pichincha</td>\n",
       "      <td>B</td>\n",
       "      <td>6</td>\n",
       "    </tr>\n",
       "    <tr>\n",
       "      <th>2061755</th>\n",
       "      <td>3000885</td>\n",
       "      <td>2017-08-15</td>\n",
       "      <td>9</td>\n",
       "      <td>PRODUCE</td>\n",
       "      <td>2419.729</td>\n",
       "      <td>148</td>\n",
       "      <td>2</td>\n",
       "      <td>2017</td>\n",
       "      <td>8</td>\n",
       "      <td>15</td>\n",
       "      <td>2155.000</td>\n",
       "      <td>0</td>\n",
       "      <td>Quito</td>\n",
       "      <td>Pichincha</td>\n",
       "      <td>B</td>\n",
       "      <td>6</td>\n",
       "    </tr>\n",
       "    <tr>\n",
       "      <th>2061756</th>\n",
       "      <td>3000886</td>\n",
       "      <td>2017-08-15</td>\n",
       "      <td>9</td>\n",
       "      <td>SCHOOL AND OFFICE SUPPLIES</td>\n",
       "      <td>121.000</td>\n",
       "      <td>8</td>\n",
       "      <td>2</td>\n",
       "      <td>2017</td>\n",
       "      <td>8</td>\n",
       "      <td>15</td>\n",
       "      <td>2155.000</td>\n",
       "      <td>0</td>\n",
       "      <td>Quito</td>\n",
       "      <td>Pichincha</td>\n",
       "      <td>B</td>\n",
       "      <td>6</td>\n",
       "    </tr>\n",
       "    <tr>\n",
       "      <th>2061757</th>\n",
       "      <td>3000887</td>\n",
       "      <td>2017-08-15</td>\n",
       "      <td>9</td>\n",
       "      <td>SEAFOOD</td>\n",
       "      <td>16.000</td>\n",
       "      <td>0</td>\n",
       "      <td>2</td>\n",
       "      <td>2017</td>\n",
       "      <td>8</td>\n",
       "      <td>15</td>\n",
       "      <td>2155.000</td>\n",
       "      <td>0</td>\n",
       "      <td>Quito</td>\n",
       "      <td>Pichincha</td>\n",
       "      <td>B</td>\n",
       "      <td>6</td>\n",
       "    </tr>\n",
       "  </tbody>\n",
       "</table>\n",
       "<p>2061758 rows × 16 columns</p>\n",
       "</div>"
      ],
      "text/plain": [
       "              id       date  store_nbr                      family    sales  \\\n",
       "0            563 2013-01-01         25                      BEAUTY    2.000   \n",
       "1            564 2013-01-01         25                   BEVERAGES  810.000   \n",
       "2            566 2013-01-01         25                BREAD/BAKERY  180.589   \n",
       "3            568 2013-01-01         25                    CLEANING  186.000   \n",
       "4            569 2013-01-01         25                       DAIRY  143.000   \n",
       "...          ...        ...        ...                         ...      ...   \n",
       "2061753  3000883 2017-08-15          9                     POULTRY  438.133   \n",
       "2061754  3000884 2017-08-15          9              PREPARED FOODS  154.553   \n",
       "2061755  3000885 2017-08-15          9                     PRODUCE 2419.729   \n",
       "2061756  3000886 2017-08-15          9  SCHOOL AND OFFICE SUPPLIES  121.000   \n",
       "2061757  3000887 2017-08-15          9                     SEAFOOD   16.000   \n",
       "\n",
       "         onpromotion  weekday  year  month  day  transactions  is_holiday  \\\n",
       "0                  0        2  2013      1    1       770.000           1   \n",
       "1                  0        2  2013      1    1       770.000           1   \n",
       "2                  0        2  2013      1    1       770.000           1   \n",
       "3                  0        2  2013      1    1       770.000           1   \n",
       "4                  0        2  2013      1    1       770.000           1   \n",
       "...              ...      ...   ...    ...  ...           ...         ...   \n",
       "2061753            0        2  2017      8   15      2155.000           0   \n",
       "2061754            1        2  2017      8   15      2155.000           0   \n",
       "2061755          148        2  2017      8   15      2155.000           0   \n",
       "2061756            8        2  2017      8   15      2155.000           0   \n",
       "2061757            0        2  2017      8   15      2155.000           0   \n",
       "\n",
       "            city        state type  cluster  \n",
       "0        Salinas  Santa Elena    D        1  \n",
       "1        Salinas  Santa Elena    D        1  \n",
       "2        Salinas  Santa Elena    D        1  \n",
       "3        Salinas  Santa Elena    D        1  \n",
       "4        Salinas  Santa Elena    D        1  \n",
       "...          ...          ...  ...      ...  \n",
       "2061753    Quito    Pichincha    B        6  \n",
       "2061754    Quito    Pichincha    B        6  \n",
       "2061755    Quito    Pichincha    B        6  \n",
       "2061756    Quito    Pichincha    B        6  \n",
       "2061757    Quito    Pichincha    B        6  \n",
       "\n",
       "[2061758 rows x 16 columns]"
      ]
     },
     "execution_count": 270,
     "metadata": {},
     "output_type": "execute_result"
    }
   ],
   "source": [
    "train_stores"
   ]
  },
  {
   "cell_type": "code",
   "execution_count": 271,
   "metadata": {},
   "outputs": [
    {
     "data": {
      "text/html": [
       "<div>\n",
       "<style scoped>\n",
       "    .dataframe tbody tr th:only-of-type {\n",
       "        vertical-align: middle;\n",
       "    }\n",
       "\n",
       "    .dataframe tbody tr th {\n",
       "        vertical-align: top;\n",
       "    }\n",
       "\n",
       "    .dataframe thead th {\n",
       "        text-align: right;\n",
       "    }\n",
       "</style>\n",
       "<table border=\"1\" class=\"dataframe\">\n",
       "  <thead>\n",
       "    <tr style=\"text-align: right;\">\n",
       "      <th></th>\n",
       "      <th>id</th>\n",
       "      <th>date</th>\n",
       "      <th>store_nbr</th>\n",
       "      <th>family</th>\n",
       "      <th>sales</th>\n",
       "      <th>onpromotion</th>\n",
       "      <th>weekday</th>\n",
       "      <th>year</th>\n",
       "      <th>month</th>\n",
       "      <th>day</th>\n",
       "      <th>transactions</th>\n",
       "      <th>is_holiday</th>\n",
       "      <th>type</th>\n",
       "      <th>cluster</th>\n",
       "    </tr>\n",
       "  </thead>\n",
       "  <tbody>\n",
       "    <tr>\n",
       "      <th>0</th>\n",
       "      <td>563</td>\n",
       "      <td>2013-01-01</td>\n",
       "      <td>25</td>\n",
       "      <td>BEAUTY</td>\n",
       "      <td>2.000</td>\n",
       "      <td>0</td>\n",
       "      <td>2</td>\n",
       "      <td>2013</td>\n",
       "      <td>1</td>\n",
       "      <td>1</td>\n",
       "      <td>770.000</td>\n",
       "      <td>1</td>\n",
       "      <td>D</td>\n",
       "      <td>1</td>\n",
       "    </tr>\n",
       "    <tr>\n",
       "      <th>1</th>\n",
       "      <td>564</td>\n",
       "      <td>2013-01-01</td>\n",
       "      <td>25</td>\n",
       "      <td>BEVERAGES</td>\n",
       "      <td>810.000</td>\n",
       "      <td>0</td>\n",
       "      <td>2</td>\n",
       "      <td>2013</td>\n",
       "      <td>1</td>\n",
       "      <td>1</td>\n",
       "      <td>770.000</td>\n",
       "      <td>1</td>\n",
       "      <td>D</td>\n",
       "      <td>1</td>\n",
       "    </tr>\n",
       "    <tr>\n",
       "      <th>2</th>\n",
       "      <td>566</td>\n",
       "      <td>2013-01-01</td>\n",
       "      <td>25</td>\n",
       "      <td>BREAD/BAKERY</td>\n",
       "      <td>180.589</td>\n",
       "      <td>0</td>\n",
       "      <td>2</td>\n",
       "      <td>2013</td>\n",
       "      <td>1</td>\n",
       "      <td>1</td>\n",
       "      <td>770.000</td>\n",
       "      <td>1</td>\n",
       "      <td>D</td>\n",
       "      <td>1</td>\n",
       "    </tr>\n",
       "    <tr>\n",
       "      <th>3</th>\n",
       "      <td>568</td>\n",
       "      <td>2013-01-01</td>\n",
       "      <td>25</td>\n",
       "      <td>CLEANING</td>\n",
       "      <td>186.000</td>\n",
       "      <td>0</td>\n",
       "      <td>2</td>\n",
       "      <td>2013</td>\n",
       "      <td>1</td>\n",
       "      <td>1</td>\n",
       "      <td>770.000</td>\n",
       "      <td>1</td>\n",
       "      <td>D</td>\n",
       "      <td>1</td>\n",
       "    </tr>\n",
       "    <tr>\n",
       "      <th>4</th>\n",
       "      <td>569</td>\n",
       "      <td>2013-01-01</td>\n",
       "      <td>25</td>\n",
       "      <td>DAIRY</td>\n",
       "      <td>143.000</td>\n",
       "      <td>0</td>\n",
       "      <td>2</td>\n",
       "      <td>2013</td>\n",
       "      <td>1</td>\n",
       "      <td>1</td>\n",
       "      <td>770.000</td>\n",
       "      <td>1</td>\n",
       "      <td>D</td>\n",
       "      <td>1</td>\n",
       "    </tr>\n",
       "  </tbody>\n",
       "</table>\n",
       "</div>"
      ],
      "text/plain": [
       "    id       date  store_nbr        family   sales  onpromotion  weekday  \\\n",
       "0  563 2013-01-01         25        BEAUTY   2.000            0        2   \n",
       "1  564 2013-01-01         25     BEVERAGES 810.000            0        2   \n",
       "2  566 2013-01-01         25  BREAD/BAKERY 180.589            0        2   \n",
       "3  568 2013-01-01         25      CLEANING 186.000            0        2   \n",
       "4  569 2013-01-01         25         DAIRY 143.000            0        2   \n",
       "\n",
       "   year  month  day  transactions  is_holiday type  cluster  \n",
       "0  2013      1    1       770.000           1    D        1  \n",
       "1  2013      1    1       770.000           1    D        1  \n",
       "2  2013      1    1       770.000           1    D        1  \n",
       "3  2013      1    1       770.000           1    D        1  \n",
       "4  2013      1    1       770.000           1    D        1  "
      ]
     },
     "execution_count": 271,
     "metadata": {},
     "output_type": "execute_result"
    }
   ],
   "source": [
    "# city와 state 컬럼 삭제\n",
    "train_stores.drop(columns=['city', 'state'], inplace=True)\n",
    "\n",
    "train_stores.head()"
   ]
  },
  {
   "cell_type": "markdown",
   "metadata": {},
   "source": [
    "#### oil data"
   ]
  },
  {
   "cell_type": "code",
   "execution_count": 284,
   "metadata": {},
   "outputs": [],
   "source": [
    "oil = pd.read_csv(\"../data/oil.csv\")\n",
    "oil['date'] = pd.to_datetime(oil['date'])"
   ]
  },
  {
   "cell_type": "code",
   "execution_count": 273,
   "metadata": {},
   "outputs": [
    {
     "name": "stdout",
     "output_type": "stream",
     "text": [
      "<class 'pandas.core.frame.DataFrame'>\n",
      "RangeIndex: 1218 entries, 0 to 1217\n",
      "Data columns (total 2 columns):\n",
      " #   Column      Non-Null Count  Dtype         \n",
      "---  ------      --------------  -----         \n",
      " 0   date        1218 non-null   datetime64[ns]\n",
      " 1   dcoilwtico  1175 non-null   float64       \n",
      "dtypes: datetime64[ns](1), float64(1)\n",
      "memory usage: 19.2 KB\n"
     ]
    }
   ],
   "source": [
    "oil.info()"
   ]
  },
  {
   "cell_type": "code",
   "execution_count": 274,
   "metadata": {},
   "outputs": [
    {
     "data": {
      "text/html": [
       "<div>\n",
       "<style scoped>\n",
       "    .dataframe tbody tr th:only-of-type {\n",
       "        vertical-align: middle;\n",
       "    }\n",
       "\n",
       "    .dataframe tbody tr th {\n",
       "        vertical-align: top;\n",
       "    }\n",
       "\n",
       "    .dataframe thead th {\n",
       "        text-align: right;\n",
       "    }\n",
       "</style>\n",
       "<table border=\"1\" class=\"dataframe\">\n",
       "  <thead>\n",
       "    <tr style=\"text-align: right;\">\n",
       "      <th></th>\n",
       "      <th>date</th>\n",
       "      <th>dcoilwtico_interpolated</th>\n",
       "    </tr>\n",
       "  </thead>\n",
       "  <tbody>\n",
       "    <tr>\n",
       "      <th>0</th>\n",
       "      <td>2013-01-01</td>\n",
       "      <td>93.140</td>\n",
       "    </tr>\n",
       "    <tr>\n",
       "      <th>1</th>\n",
       "      <td>2013-01-02</td>\n",
       "      <td>93.140</td>\n",
       "    </tr>\n",
       "    <tr>\n",
       "      <th>2</th>\n",
       "      <td>2013-01-03</td>\n",
       "      <td>92.970</td>\n",
       "    </tr>\n",
       "    <tr>\n",
       "      <th>3</th>\n",
       "      <td>2013-01-04</td>\n",
       "      <td>93.120</td>\n",
       "    </tr>\n",
       "    <tr>\n",
       "      <th>4</th>\n",
       "      <td>2013-01-05</td>\n",
       "      <td>93.147</td>\n",
       "    </tr>\n",
       "  </tbody>\n",
       "</table>\n",
       "</div>"
      ],
      "text/plain": [
       "        date  dcoilwtico_interpolated\n",
       "0 2013-01-01                   93.140\n",
       "1 2013-01-02                   93.140\n",
       "2 2013-01-03                   92.970\n",
       "3 2013-01-04                   93.120\n",
       "4 2013-01-05                   93.147"
      ]
     },
     "execution_count": 274,
     "metadata": {},
     "output_type": "execute_result"
    }
   ],
   "source": [
    "# Resample\n",
    "oil = oil.set_index(\"date\").dcoilwtico.resample(\"D\").sum().reset_index()\n",
    "# Interpolate\n",
    "oil[\"dcoilwtico\"] = np.where(oil[\"dcoilwtico\"] == 0, np.nan, oil[\"dcoilwtico\"])\n",
    "oil[\"dcoilwtico_interpolated\"] =oil.dcoilwtico.interpolate()\n",
    "oil.drop(columns=['dcoilwtico'], inplace=True)\n",
    "oil['dcoilwtico_interpolated'] = oil['dcoilwtico_interpolated'].fillna(method='bfill')\n",
    "oil.head()\n",
    "\n"
   ]
  },
  {
   "cell_type": "code",
   "execution_count": 275,
   "metadata": {},
   "outputs": [
    {
     "name": "stdout",
     "output_type": "stream",
     "text": [
      "<class 'pandas.core.frame.DataFrame'>\n",
      "RangeIndex: 2061758 entries, 0 to 2061757\n",
      "Data columns (total 15 columns):\n",
      " #   Column                   Dtype         \n",
      "---  ------                   -----         \n",
      " 0   id                       int64         \n",
      " 1   date                     datetime64[ns]\n",
      " 2   store_nbr                int8          \n",
      " 3   family                   object        \n",
      " 4   sales                    float64       \n",
      " 5   onpromotion              int64         \n",
      " 6   weekday                  int8          \n",
      " 7   year                     int32         \n",
      " 8   month                    int8          \n",
      " 9   day                      int8          \n",
      " 10  transactions             float64       \n",
      " 11  is_holiday               int64         \n",
      " 12  type                     object        \n",
      " 13  cluster                  int64         \n",
      " 14  dcoilwtico_interpolated  float64       \n",
      "dtypes: datetime64[ns](1), float64(3), int32(1), int64(4), int8(4), object(2)\n",
      "memory usage: 173.0+ MB\n"
     ]
    }
   ],
   "source": [
    "train_all = pd.merge(train_stores, oil, on='date', how='left')\n",
    "train_all.info()"
   ]
  },
  {
   "cell_type": "code",
   "execution_count": 276,
   "metadata": {},
   "outputs": [],
   "source": [
    "# 이동 평균 및 이동 표준 편차 계산\n",
    "train_all['Rolling_Mean_Sales_14d'] = train_all['transactions'].rolling(window=14, min_periods=1).mean()\n",
    "train_all['Rolling_Std_Sales_14d'] = train_all['transactions'].rolling(window=14, min_periods=1).std()\n",
    "\n",
    "train_all['Rolling_Mean_Sales_28d'] = train_all['transactions'].rolling(window=28, min_periods=1).mean()\n",
    "train_all['Rolling_Std_Sales_28d'] = train_all['transactions'].rolling(window=28, min_periods=1).std()\n",
    "\n",
    "\n",
    "# 결측치를 다음 값으로 채우기\n",
    "train_all['Rolling_Mean_Sales_14d'].fillna(method='bfill', inplace=True)\n",
    "train_all['Rolling_Std_Sales_14d'].fillna(method='bfill', inplace=True)\n",
    "\n",
    "train_all['Rolling_Mean_Sales_28d'].fillna(method='bfill', inplace=True)\n",
    "train_all['Rolling_Std_Sales_28d'].fillna(method='bfill', inplace=True)"
   ]
  },
  {
   "cell_type": "code",
   "execution_count": 277,
   "metadata": {},
   "outputs": [
    {
     "name": "stdout",
     "output_type": "stream",
     "text": [
      "<class 'pandas.core.frame.DataFrame'>\n",
      "RangeIndex: 2061758 entries, 0 to 2061757\n",
      "Data columns (total 19 columns):\n",
      " #   Column                   Dtype         \n",
      "---  ------                   -----         \n",
      " 0   id                       int64         \n",
      " 1   date                     datetime64[ns]\n",
      " 2   store_nbr                int8          \n",
      " 3   family                   object        \n",
      " 4   sales                    float64       \n",
      " 5   onpromotion              int64         \n",
      " 6   weekday                  int8          \n",
      " 7   year                     int32         \n",
      " 8   month                    int8          \n",
      " 9   day                      int8          \n",
      " 10  transactions             float64       \n",
      " 11  is_holiday               int64         \n",
      " 12  type                     object        \n",
      " 13  cluster                  int64         \n",
      " 14  dcoilwtico_interpolated  float64       \n",
      " 15  Rolling_Mean_Sales_14d   float64       \n",
      " 16  Rolling_Std_Sales_14d    float64       \n",
      " 17  Rolling_Mean_Sales_28d   float64       \n",
      " 18  Rolling_Std_Sales_28d    float64       \n",
      "dtypes: datetime64[ns](1), float64(7), int32(1), int64(4), int8(4), object(2)\n",
      "memory usage: 235.9+ MB\n"
     ]
    }
   ],
   "source": [
    "train_all.info()"
   ]
  },
  {
   "cell_type": "code",
   "execution_count": 278,
   "metadata": {},
   "outputs": [],
   "source": [
    "train_all.to_csv('train_all.csv', index=False)"
   ]
  },
  {
   "cell_type": "code",
   "execution_count": 279,
   "metadata": {},
   "outputs": [
    {
     "name": "stdout",
     "output_type": "stream",
     "text": [
      "Missing transactions : 0, Number of rows with transactions value of 0: 0\n"
     ]
    }
   ],
   "source": [
    "missing_transactions = train_all['transactions'].isnull().sum()\n",
    "transactions_zero_count = train_all[train_all['transactions'] == 0.0].shape[0]\n",
    "\n",
    "print(f\"Missing transactions : {missing_transactions}, Number of rows with transactions value of 0: {transactions_zero_count}\")"
   ]
  },
  {
   "cell_type": "code",
   "execution_count": 6,
   "metadata": {},
   "outputs": [],
   "source": [
    "train_all = pd.read_csv(\"./train_all.csv\")"
   ]
  },
  {
   "cell_type": "code",
   "execution_count": 32,
   "metadata": {},
   "outputs": [],
   "source": [
    "# 2017년 1월부터 12월까지의 데이터 필터링\n",
    "train_2017 = train_all[(train_all.date >= '2017-01-01') & (train_all.date <= '2017-07-31')]\n",
    "train_2016 = train_all[(train_all.date >= '2016-01-01') & (train_all.date <= '2016-12-31')]\n",
    "train_2015 = train_all[(train_all.date >= '2015-01-01') & (train_all.date <= '2015-12-31')]\n",
    "train_2014 = train_all[(train_all.date >= '2014-01-01') & (train_all.date <= '2014-12-31')]\n",
    "train_2013 = train_all[(train_all.date >= '2013-01-01') & (train_all.date <= '2013-12-31')]"
   ]
  },
  {
   "cell_type": "code",
   "execution_count": 33,
   "metadata": {},
   "outputs": [
    {
     "data": {
      "image/png": "[encoded data removed]",
      "text/plain": [
       "<Figure size 1400x700 with 1 Axes>"
      ]
     },
     "metadata": {},
     "output_type": "display_data"
    }
   ],
   "source": [
    "import pandas as pd\n",
    "import numpy as np\n",
    "import matplotlib.pyplot as plt\n",
    "\n",
    "# 날짜별 store_nbr을 groupby 해서 해당 날짜의 sales 합계 계산\n",
    "train_2017_grouped = train_2017.groupby('month')['sales'].sum().reset_index()\n",
    "train_2016_grouped = train_2016.groupby('month')['sales'].sum().reset_index()\n",
    "train_2015_grouped = train_2015.groupby('month')['sales'].sum().reset_index()\n",
    "train_2014_grouped = train_2014.groupby('month')['sales'].sum().reset_index()\n",
    "train_2013_grouped = train_2013.groupby('month')['sales'].sum().reset_index()\n",
    "\n",
    "# 날짜별 sales 합계를 나타내는 라인 그래프 그리기\n",
    "plt.figure(figsize=(14, 7))\n",
    "\n",
    "plt.plot(train_2017_grouped['month'], train_2017_grouped['sales'], label='Sales 2017', color='green')\n",
    "plt.plot(train_2016_grouped['month'], train_2016_grouped['sales'], label='Sales 2016', color='blue')\n",
    "plt.plot(train_2015_grouped['month'], train_2015_grouped['sales'], label='Sales 2015', color='red')\n",
    "plt.plot(train_2014_grouped['month'], train_2014_grouped['sales'], label='Sales 2014', color='orange')\n",
    "plt.plot(train_2013_grouped['month'], train_2013_grouped['sales'], label='Sales 2013', color='purple')\n",
    "\n",
    "plt.xlabel('Month-Day')\n",
    "plt.ylabel('Sales')\n",
    "plt.title('Daily Sales Sum Grouped by Month and Day (2013-2017)')\n",
    "plt.legend()\n",
    "plt.grid(True)\n",
    "plt.show()"
   ]
  },
  {
   "cell_type": "code",
   "execution_count": 34,
   "metadata": {},
   "outputs": [
    {
     "data": {
      "application/vnd.plotly.v1+json": {
       "config": {
        "plotlyServerURL": "https://plot.ly"
       },
       "data": [
        {
         "line": {
          "color": "green"
         },
         "mode": "lines+markers",
         "name": "Sales 2017",
         "type": "scatter",
         "x": [
          1,
          2,
          3,
          4,
          5,
          6,
          7
         ],
         "y": [
          26328159.9357051,
          23250112.3749368,
          26704017.6908793,
          25895308.4895551,
          26911847.250593,
          25682822.1249936,
          27011477.5658307
         ]
        },
        {
         "line": {
          "color": "blue"
         },
         "mode": "lines+markers",
         "name": "Sales 2016",
         "type": "scatter",
         "x": [
          1,
          2,
          3,
          4,
          5,
          6,
          7,
          8,
          9,
          10,
          11,
          12
         ],
         "y": [
          23977804.8854341,
          21947408.8010028,
          23131780.8838199,
          25963025.1019622,
          24779432.2602277,
          22209218.5803836,
          23462672.4331036,
          22452414.3178949,
          22417448.0969967,
          24030389.816292,
          24642640.1973935,
          29640287.5793851
         ]
        },
        {
         "line": {
          "color": "red"
         },
         "mode": "lines+markers",
         "name": "Sales 2015",
         "type": "scatter",
         "x": [
          1,
          2,
          3,
          4,
          5,
          6,
          7,
          8,
          9,
          10,
          11,
          12
         ],
         "y": [
          14896922.0571985,
          13742395.8483812,
          15598607.5183553,
          14955068.1707755,
          17730368.244309,
          21615360.3512421,
          22209619.0387389,
          22963674.2412815,
          23240882.4779112,
          23878267.6645621,
          22804953.3682112,
          27243981.6737737
         ]
        },
        {
         "line": {
          "color": "orange"
         },
         "mode": "lines+markers",
         "name": "Sales 2014",
         "type": "scatter",
         "x": [
          1,
          2,
          3,
          4,
          5,
          6,
          7,
          8,
          9,
          10,
          11,
          12
         ],
         "y": [
          18911640.7014034,
          12038352.6339783,
          20365584.016477,
          12861251.0571494,
          13379785.2611975,
          13319958.1730016,
          19421891.0438224,
          13885176.4190542,
          20022416.1138096,
          20396101.3141771,
          20531635.2036432,
          24340454.3638302
         ]
        },
        {
         "line": {
          "color": "purple"
         },
         "mode": "lines+markers",
         "name": "Sales 2013",
         "type": "scatter",
         "x": [
          1,
          2,
          3,
          4,
          5,
          6,
          7,
          8,
          9,
          10,
          11,
          12
         ],
         "y": [
          10327624.7369095,
          9658959.7774368,
          11428497.0374875,
          10993464.7380118,
          11597704.0070268,
          11689344.0622436,
          11257400.6076808,
          11737788.9194727,
          11792933.2318679,
          11775620.3605191,
          12356559.2929861,
          15803117.1479746
         ]
        }
       ],
       "layout": {
        "legend": {
         "title": {
          "text": "Year"
         }
        },
        "template": {
         "data": {
          "bar": [
           {
            "error_x": {
             "color": "#2a3f5f"
            },
            "error_y": {
             "color": "#2a3f5f"
            },
            "marker": {
             "line": {
              "color": "white",
              "width": 0.5
             },
             "pattern": {
              "fillmode": "overlay",
              "size": 10,
              "solidity": 0.2
             }
            },
            "type": "bar"
           }
          ],
          "barpolar": [
           {
            "marker": {
             "line": {
              "color": "white",
              "width": 0.5
             },
             "pattern": {
              "fillmode": "overlay",
              "size": 10,
              "solidity": 0.2
             }
            },
            "type": "barpolar"
           }
          ],
          "carpet": [
           {
            "aaxis": {
             "endlinecolor": "#2a3f5f",
             "gridcolor": "#C8D4E3",
             "linecolor": "#C8D4E3",
             "minorgridcolor": "#C8D4E3",
             "startlinecolor": "#2a3f5f"
            },
            "baxis": {
             "endlinecolor": "#2a3f5f",
             "gridcolor": "#C8D4E3",
             "linecolor": "#C8D4E3",
             "minorgridcolor": "#C8D4E3",
             "startlinecolor": "#2a3f5f"
            },
            "type": "carpet"
           }
          ],
          "choropleth": [
           {
            "colorbar": {
             "outlinewidth": 0,
             "ticks": ""
            },
            "type": "choropleth"
           }
          ],
          "contour": [
           {
            "colorbar": {
             "outlinewidth": 0,
             "ticks": ""
            },
            "colorscale": [
             [
              0,
              "#0d0887"
             ],
             [
              0.1111111111111111,
              "#46039f"
             ],
             [
              0.2222222222222222,
              "#7201a8"
             ],
             [
              0.3333333333333333,
              "#9c179e"
             ],
             [
              0.4444444444444444,
              "#bd3786"
             ],
             [
              0.5555555555555556,
              "#d8576b"
             ],
             [
              0.6666666666666666,
              "#ed7953"
             ],
             [
              0.7777777777777778,
              "#fb9f3a"
             ],
             [
              0.8888888888888888,
              "#fdca26"
             ],
             [
              1,
              "#f0f921"
             ]
            ],
            "type": "contour"
           }
          ],
          "contourcarpet": [
           {
            "colorbar": {
             "outlinewidth": 0,
             "ticks": ""
            },
            "type": "contourcarpet"
           }
          ],
          "heatmap": [
           {
            "colorbar": {
             "outlinewidth": 0,
             "ticks": ""
            },
            "colorscale": [
             [
              0,
              "#0d0887"
             ],
             [
              0.1111111111111111,
              "#46039f"
             ],
             [
              0.2222222222222222,
              "#7201a8"
             ],
             [
              0.3333333333333333,
              "#9c179e"
             ],
             [
              0.4444444444444444,
              "#bd3786"
             ],
             [
              0.5555555555555556,
              "#d8576b"
             ],
             [
              0.6666666666666666,
              "#ed7953"
             ],
             [
              0.7777777777777778,
              "#fb9f3a"
             ],
             [
              0.8888888888888888,
              "#fdca26"
             ],
             [
              1,
              "#f0f921"
             ]
            ],
            "type": "heatmap"
           }
          ],
          "heatmapgl": [
           {
            "colorbar": {
             "outlinewidth": 0,
             "ticks": ""
            },
            "colorscale": [
             [
              0,
              "#0d0887"
             ],
             [
              0.1111111111111111,
              "#46039f"
             ],
             [
              0.2222222222222222,
              "#7201a8"
             ],
             [
              0.3333333333333333,
              "#9c179e"
             ],
             [
              0.4444444444444444,
              "#bd3786"
             ],
             [
              0.5555555555555556,
              "#d8576b"
             ],
             [
              0.6666666666666666,
              "#ed7953"
             ],
             [
              0.7777777777777778,
              "#fb9f3a"
             ],
             [
              0.8888888888888888,
              "#fdca26"
             ],
             [
              1,
              "#f0f921"
             ]
            ],
            "type": "heatmapgl"
           }
          ],
          "histogram": [
           {
            "marker": {
             "pattern": {
              "fillmode": "overlay",
              "size": 10,
              "solidity": 0.2
             }
            },
            "type": "histogram"
           }
          ],
          "histogram2d": [
           {
            "colorbar": {
             "outlinewidth": 0,
             "ticks": ""
            },
            "colorscale": [
             [
              0,
              "#0d0887"
             ],
             [
              0.1111111111111111,
              "#46039f"
             ],
             [
              0.2222222222222222,
              "#7201a8"
             ],
             [
              0.3333333333333333,
              "#9c179e"
             ],
             [
              0.4444444444444444,
              "#bd3786"
             ],
             [
              0.5555555555555556,
              "#d8576b"
             ],
             [
              0.6666666666666666,
              "#ed7953"
             ],
             [
              0.7777777777777778,
              "#fb9f3a"
             ],
             [
              0.8888888888888888,
              "#fdca26"
             ],
             [
              1,
              "#f0f921"
             ]
            ],
            "type": "histogram2d"
           }
          ],
          "histogram2dcontour": [
           {
            "colorbar": {
             "outlinewidth": 0,
             "ticks": ""
            },
            "colorscale": [
             [
              0,
              "#0d0887"
             ],
             [
              0.1111111111111111,
              "#46039f"
             ],
             [
              0.2222222222222222,
              "#7201a8"
             ],
             [
              0.3333333333333333,
              "#9c179e"
             ],
             [
              0.4444444444444444,
              "#bd3786"
             ],
             [
              0.5555555555555556,
              "#d8576b"
             ],
             [
              0.6666666666666666,
              "#ed7953"
             ],
             [
              0.7777777777777778,
              "#fb9f3a"
             ],
             [
              0.8888888888888888,
              "#fdca26"
             ],
             [
              1,
              "#f0f921"
             ]
            ],
            "type": "histogram2dcontour"
           }
          ],
          "mesh3d": [
           {
            "colorbar": {
             "outlinewidth": 0,
             "ticks": ""
            },
            "type": "mesh3d"
           }
          ],
          "parcoords": [
           {
            "line": {
             "colorbar": {
              "outlinewidth": 0,
              "ticks": ""
             }
            },
            "type": "parcoords"
           }
          ],
          "pie": [
           {
            "automargin": true,
            "type": "pie"
           }
          ],
          "scatter": [
           {
            "fillpattern": {
             "fillmode": "overlay",
             "size": 10,
             "solidity": 0.2
            },
            "type": "scatter"
           }
          ],
          "scatter3d": [
           {
            "line": {
             "colorbar": {
              "outlinewidth": 0,
              "ticks": ""
             }
            },
            "marker": {
             "colorbar": {
              "outlinewidth": 0,
              "ticks": ""
             }
            },
            "type": "scatter3d"
           }
          ],
          "scattercarpet": [
           {
            "marker": {
             "colorbar": {
              "outlinewidth": 0,
              "ticks": ""
             }
            },
            "type": "scattercarpet"
           }
          ],
          "scattergeo": [
           {
            "marker": {
             "colorbar": {
              "outlinewidth": 0,
              "ticks": ""
             }
            },
            "type": "scattergeo"
           }
          ],
          "scattergl": [
           {
            "marker": {
             "colorbar": {
              "outlinewidth": 0,
              "ticks": ""
             }
            },
            "type": "scattergl"
           }
          ],
          "scattermapbox": [
           {
            "marker": {
             "colorbar": {
              "outlinewidth": 0,
              "ticks": ""
             }
            },
            "type": "scattermapbox"
           }
          ],
          "scatterpolar": [
           {
            "marker": {
             "colorbar": {
              "outlinewidth": 0,
              "ticks": ""
             }
            },
            "type": "scatterpolar"
           }
          ],
          "scatterpolargl": [
           {
            "marker": {
             "colorbar": {
              "outlinewidth": 0,
              "ticks": ""
             }
            },
            "type": "scatterpolargl"
           }
          ],
          "scatterternary": [
           {
            "marker": {
             "colorbar": {
              "outlinewidth": 0,
              "ticks": ""
             }
            },
            "type": "scatterternary"
           }
          ],
          "surface": [
           {
            "colorbar": {
             "outlinewidth": 0,
             "ticks": ""
            },
            "colorscale": [
             [
              0,
              "#0d0887"
             ],
             [
              0.1111111111111111,
              "#46039f"
             ],
             [
              0.2222222222222222,
              "#7201a8"
             ],
             [
              0.3333333333333333,
              "#9c179e"
             ],
             [
              0.4444444444444444,
              "#bd3786"
             ],
             [
              0.5555555555555556,
              "#d8576b"
             ],
             [
              0.6666666666666666,
              "#ed7953"
             ],
             [
              0.7777777777777778,
              "#fb9f3a"
             ],
             [
              0.8888888888888888,
              "#fdca26"
             ],
             [
              1,
              "#f0f921"
             ]
            ],
            "type": "surface"
           }
          ],
          "table": [
           {
            "cells": {
             "fill": {
              "color": "#EBF0F8"
             },
             "line": {
              "color": "white"
             }
            },
            "header": {
             "fill": {
              "color": "#C8D4E3"
             },
             "line": {
              "color": "white"
             }
            },
            "type": "table"
           }
          ]
         },
         "layout": {
          "annotationdefaults": {
           "arrowcolor": "#2a3f5f",
           "arrowhead": 0,
           "arrowwidth": 1
          },
          "autotypenumbers": "strict",
          "coloraxis": {
           "colorbar": {
            "outlinewidth": 0,
            "ticks": ""
           }
          },
          "colorscale": {
           "diverging": [
            [
             0,
             "#8e0152"
            ],
            [
             0.1,
             "#c51b7d"
            ],
            [
             0.2,
             "#de77ae"
            ],
            [
             0.3,
             "#f1b6da"
            ],
            [
             0.4,
             "#fde0ef"
            ],
            [
             0.5,
             "#f7f7f7"
            ],
            [
             0.6,
             "#e6f5d0"
            ],
            [
             0.7,
             "#b8e186"
            ],
            [
             0.8,
             "#7fbc41"
            ],
            [
             0.9,
             "#4d9221"
            ],
            [
             1,
             "#276419"
            ]
           ],
           "sequential": [
            [
             0,
             "#0d0887"
            ],
            [
             0.1111111111111111,
             "#46039f"
            ],
            [
             0.2222222222222222,
             "#7201a8"
            ],
            [
             0.3333333333333333,
             "#9c179e"
            ],
            [
             0.4444444444444444,
             "#bd3786"
            ],
            [
             0.5555555555555556,
             "#d8576b"
            ],
            [
             0.6666666666666666,
             "#ed7953"
            ],
            [
             0.7777777777777778,
             "#fb9f3a"
            ],
            [
             0.8888888888888888,
             "#fdca26"
            ],
            [
             1,
             "#f0f921"
            ]
           ],
           "sequentialminus": [
            [
             0,
             "#0d0887"
            ],
            [
             0.1111111111111111,
             "#46039f"
            ],
            [
             0.2222222222222222,
             "#7201a8"
            ],
            [
             0.3333333333333333,
             "#9c179e"
            ],
            [
             0.4444444444444444,
             "#bd3786"
            ],
            [
             0.5555555555555556,
             "#d8576b"
            ],
            [
             0.6666666666666666,
             "#ed7953"
            ],
            [
             0.7777777777777778,
             "#fb9f3a"
            ],
            [
             0.8888888888888888,
             "#fdca26"
            ],
            [
             1,
             "#f0f921"
            ]
           ]
          },
          "colorway": [
           "#636efa",
           "#EF553B",
           "#00cc96",
           "#ab63fa",
           "#FFA15A",
           "#19d3f3",
           "#FF6692",
           "#B6E880",
           "#FF97FF",
           "#FECB52"
          ],
          "font": {
           "color": "#2a3f5f"
          },
          "geo": {
           "bgcolor": "white",
           "lakecolor": "white",
           "landcolor": "white",
           "showlakes": true,
           "showland": true,
           "subunitcolor": "#C8D4E3"
          },
          "hoverlabel": {
           "align": "left"
          },
          "hovermode": "closest",
          "mapbox": {
           "style": "light"
          },
          "paper_bgcolor": "white",
          "plot_bgcolor": "white",
          "polar": {
           "angularaxis": {
            "gridcolor": "#EBF0F8",
            "linecolor": "#EBF0F8",
            "ticks": ""
           },
           "bgcolor": "white",
           "radialaxis": {
            "gridcolor": "#EBF0F8",
            "linecolor": "#EBF0F8",
            "ticks": ""
           }
          },
          "scene": {
           "xaxis": {
            "backgroundcolor": "white",
            "gridcolor": "#DFE8F3",
            "gridwidth": 2,
            "linecolor": "#EBF0F8",
            "showbackground": true,
            "ticks": "",
            "zerolinecolor": "#EBF0F8"
           },
           "yaxis": {
            "backgroundcolor": "white",
            "gridcolor": "#DFE8F3",
            "gridwidth": 2,
            "linecolor": "#EBF0F8",
            "showbackground": true,
            "ticks": "",
            "zerolinecolor": "#EBF0F8"
           },
           "zaxis": {
            "backgroundcolor": "white",
            "gridcolor": "#DFE8F3",
            "gridwidth": 2,
            "linecolor": "#EBF0F8",
            "showbackground": true,
            "ticks": "",
            "zerolinecolor": "#EBF0F8"
           }
          },
          "shapedefaults": {
           "line": {
            "color": "#2a3f5f"
           }
          },
          "ternary": {
           "aaxis": {
            "gridcolor": "#DFE8F3",
            "linecolor": "#A2B1C6",
            "ticks": ""
           },
           "baxis": {
            "gridcolor": "#DFE8F3",
            "linecolor": "#A2B1C6",
            "ticks": ""
           },
           "bgcolor": "white",
           "caxis": {
            "gridcolor": "#DFE8F3",
            "linecolor": "#A2B1C6",
            "ticks": ""
           }
          },
          "title": {
           "x": 0.05
          },
          "xaxis": {
           "automargin": true,
           "gridcolor": "#EBF0F8",
           "linecolor": "#EBF0F8",
           "ticks": "",
           "title": {
            "standoff": 15
           },
           "zerolinecolor": "#EBF0F8",
           "zerolinewidth": 2
          },
          "yaxis": {
           "automargin": true,
           "gridcolor": "#EBF0F8",
           "linecolor": "#EBF0F8",
           "ticks": "",
           "title": {
            "standoff": 15
           },
           "zerolinecolor": "#EBF0F8",
           "zerolinewidth": 2
          }
         }
        },
        "title": {
         "text": "Daily Sales Sum Grouped by Month (2013-2017)"
        },
        "xaxis": {
         "title": {
          "text": "Month"
         }
        },
        "yaxis": {
         "title": {
          "text": "Sales"
         }
        }
       }
      }
     },
     "metadata": {},
     "output_type": "display_data"
    }
   ],
   "source": [
    "import plotly.graph_objects as go\n",
    "\n",
    "# 새로운 그래프 객체 생성\n",
    "fig = go.Figure()\n",
    "\n",
    "# 2017년 데이터 추가\n",
    "fig.add_trace(go.Scatter(x=train_2017_grouped['month'], y=train_2017_grouped['sales'],\n",
    "                         mode='lines+markers', name='Sales 2017', line=dict(color='green')))\n",
    "\n",
    "# 2016년 데이터 추가\n",
    "fig.add_trace(go.Scatter(x=train_2016_grouped['month'], y=train_2016_grouped['sales'],\n",
    "                         mode='lines+markers', name='Sales 2016', line=dict(color='blue')))\n",
    "\n",
    "# 2015년 데이터 추가\n",
    "fig.add_trace(go.Scatter(x=train_2015_grouped['month'], y=train_2015_grouped['sales'],\n",
    "                         mode='lines+markers', name='Sales 2015', line=dict(color='red')))\n",
    "\n",
    "# 2014년 데이터 추가\n",
    "fig.add_trace(go.Scatter(x=train_2014_grouped['month'], y=train_2014_grouped['sales'],\n",
    "                         mode='lines+markers', name='Sales 2014', line=dict(color='orange')))\n",
    "\n",
    "# 2013년 데이터 추가\n",
    "fig.add_trace(go.Scatter(x=train_2013_grouped['month'], y=train_2013_grouped['sales'],\n",
    "                         mode='lines+markers', name='Sales 2013', line=dict(color='purple')))\n",
    "\n",
    "# 그래프 레이아웃 설정\n",
    "fig.update_layout(\n",
    "    title='Daily Sales Sum Grouped by Month (2013-2017)',\n",
    "    xaxis_title='Month',\n",
    "    yaxis_title='Sales',\n",
    "    legend_title='Year',\n",
    "    template='plotly_white'\n",
    ")\n",
    "\n",
    "# 그래프 출력\n",
    "fig.show()"
   ]
  },
  {
   "cell_type": "code",
   "execution_count": 40,
   "metadata": {},
   "outputs": [
    {
     "name": "stdout",
     "output_type": "stream",
     "text": [
      "<class 'pandas.core.frame.DataFrame'>\n",
      "RangeIndex: 28512 entries, 0 to 28511\n",
      "Data columns (total 7 columns):\n",
      " #   Column       Non-Null Count  Dtype         \n",
      "---  ------       --------------  -----         \n",
      " 0   Unnamed: 0   28512 non-null  int64         \n",
      " 1   id           28512 non-null  int64         \n",
      " 2   date         28512 non-null  datetime64[ns]\n",
      " 3   store_nbr    28512 non-null  int64         \n",
      " 4   family       28512 non-null  object        \n",
      " 5   onpromotion  28512 non-null  int64         \n",
      " 6   sales        28512 non-null  float64       \n",
      "dtypes: datetime64[ns](1), float64(1), int64(4), object(1)\n",
      "memory usage: 1.5+ MB\n"
     ]
    }
   ],
   "source": [
    "predict = pd.read_csv(\"./test_2017.csv\")\n",
    "predict['date'] = pd.to_datetime(predict['date'])\n",
    "predict.info()\n"
   ]
  },
  {
   "cell_type": "code",
   "execution_count": 42,
   "metadata": {},
   "outputs": [
    {
     "name": "stderr",
     "output_type": "stream",
     "text": [
      "/var/folders/g3/70l89d1j449c_59rxb3_pgzw0000gn/T/ipykernel_19831/101944089.py:5: SettingWithCopyWarning:\n",
      "\n",
      "\n",
      "A value is trying to be set on a copy of a slice from a DataFrame.\n",
      "Try using .loc[row_indexer,col_indexer] = value instead\n",
      "\n",
      "See the caveats in the documentation: https://pandas.pydata.org/pandas-docs/stable/user_guide/indexing.html#returning-a-view-versus-a-copy\n",
      "\n",
      "/opt/anaconda3/lib/python3.11/site-packages/_plotly_utils/basevalidators.py:106: FutureWarning:\n",
      "\n",
      "The behavior of DatetimeProperties.to_pydatetime is deprecated, in a future version this will return a Series containing python datetime objects instead of an ndarray. To retain the old behavior, call `np.array` on the result\n",
      "\n"
     ]
    },
    {
     "data": {
      "application/vnd.plotly.v1+json": {
       "config": {
        "plotlyServerURL": "https://plot.ly"
       },
       "data": [
        {
         "line": {
          "color": "green"
         },
         "mode": "lines+markers",
         "name": "Daily Sales August 2017",
         "type": "scatter",
         "x": [
          "2017-07-01T00:00:00",
          "2017-07-02T00:00:00",
          "2017-07-03T00:00:00",
          "2017-07-04T00:00:00",
          "2017-07-05T00:00:00",
          "2017-07-06T00:00:00",
          "2017-07-07T00:00:00",
          "2017-07-08T00:00:00",
          "2017-07-09T00:00:00",
          "2017-07-10T00:00:00",
          "2017-07-11T00:00:00",
          "2017-07-12T00:00:00",
          "2017-07-13T00:00:00",
          "2017-07-14T00:00:00",
          "2017-07-15T00:00:00",
          "2017-07-16T00:00:00",
          "2017-07-17T00:00:00",
          "2017-07-18T00:00:00",
          "2017-07-19T00:00:00",
          "2017-07-20T00:00:00",
          "2017-07-21T00:00:00",
          "2017-07-22T00:00:00",
          "2017-07-23T00:00:00",
          "2017-07-24T00:00:00",
          "2017-07-25T00:00:00",
          "2017-07-26T00:00:00",
          "2017-07-27T00:00:00",
          "2017-07-28T00:00:00",
          "2017-07-29T00:00:00",
          "2017-07-30T00:00:00",
          "2017-07-31T00:00:00",
          "2017-08-01T00:00:00",
          "2017-08-02T00:00:00",
          "2017-08-03T00:00:00",
          "2017-08-04T00:00:00",
          "2017-08-05T00:00:00",
          "2017-08-06T00:00:00",
          "2017-08-07T00:00:00",
          "2017-08-08T00:00:00",
          "2017-08-09T00:00:00",
          "2017-08-10T00:00:00",
          "2017-08-11T00:00:00",
          "2017-08-12T00:00:00",
          "2017-08-13T00:00:00",
          "2017-08-14T00:00:00",
          "2017-08-15T00:00:00"
         ],
         "y": [
          1207529.921868,
          1296379.2175535,
          925143.408816,
          832359.2860137,
          844301.613116,
          700272.0099567,
          805792.302193,
          998347.1930085,
          1100833.322376,
          804158.8610365,
          730534.767701,
          748799.9959087,
          629651.3629294999,
          765489.6173932999,
          969077.125075,
          1100803.699023,
          818325.522149,
          730133.70894,
          767978.778078,
          688288.067857,
          782418.2992188,
          932902.046681,
          1024288.741245,
          816564.327096,
          713581.632609,
          740653.044167,
          659849.8270588,
          835099.6822035,
          1032310.865737,
          1123752.4779517,
          885856.8408705,
          988527.763204,
          964712.016051,
          728068.485132,
          827775.686128,
          965693.650492,
          1049559.164277,
          797464.963817,
          717766.3491055,
          734139.67401,
          651386.9119697,
          826373.722022,
          792630.5350785,
          865639.677471,
          760922.4060808,
          762661.935939
         ]
        },
        {
         "line": {
          "color": "magenta"
         },
         "mode": "lines+markers",
         "name": "New Sales Data",
         "type": "scatter",
         "x": [
          "2017-08-16T00:00:00",
          "2017-08-17T00:00:00",
          "2017-08-18T00:00:00",
          "2017-08-19T00:00:00",
          "2017-08-20T00:00:00",
          "2017-08-21T00:00:00",
          "2017-08-22T00:00:00",
          "2017-08-23T00:00:00",
          "2017-08-24T00:00:00",
          "2017-08-25T00:00:00",
          "2017-08-26T00:00:00",
          "2017-08-27T00:00:00",
          "2017-08-28T00:00:00",
          "2017-08-29T00:00:00",
          "2017-08-30T00:00:00",
          "2017-08-31T00:00:00"
         ],
         "y": [
          305536.982308434,
          268632.15781256807,
          272511.60544606904,
          283642.0438273561,
          293942.152727839,
          269079.30612582504,
          281716.88289886806,
          251091.483662739,
          271059.31526475307,
          276127.42438415,
          288441.73729705304,
          296460.713529331,
          272730.28159373807,
          288332.37805032206,
          271614.916061382,
          285300.53238807805
         ]
        }
       ],
       "layout": {
        "template": {
         "data": {
          "bar": [
           {
            "error_x": {
             "color": "#2a3f5f"
            },
            "error_y": {
             "color": "#2a3f5f"
            },
            "marker": {
             "line": {
              "color": "white",
              "width": 0.5
             },
             "pattern": {
              "fillmode": "overlay",
              "size": 10,
              "solidity": 0.2
             }
            },
            "type": "bar"
           }
          ],
          "barpolar": [
           {
            "marker": {
             "line": {
              "color": "white",
              "width": 0.5
             },
             "pattern": {
              "fillmode": "overlay",
              "size": 10,
              "solidity": 0.2
             }
            },
            "type": "barpolar"
           }
          ],
          "carpet": [
           {
            "aaxis": {
             "endlinecolor": "#2a3f5f",
             "gridcolor": "#C8D4E3",
             "linecolor": "#C8D4E3",
             "minorgridcolor": "#C8D4E3",
             "startlinecolor": "#2a3f5f"
            },
            "baxis": {
             "endlinecolor": "#2a3f5f",
             "gridcolor": "#C8D4E3",
             "linecolor": "#C8D4E3",
             "minorgridcolor": "#C8D4E3",
             "startlinecolor": "#2a3f5f"
            },
            "type": "carpet"
           }
          ],
          "choropleth": [
           {
            "colorbar": {
             "outlinewidth": 0,
             "ticks": ""
            },
            "type": "choropleth"
           }
          ],
          "contour": [
           {
            "colorbar": {
             "outlinewidth": 0,
             "ticks": ""
            },
            "colorscale": [
             [
              0,
              "#0d0887"
             ],
             [
              0.1111111111111111,
              "#46039f"
             ],
             [
              0.2222222222222222,
              "#7201a8"
             ],
             [
              0.3333333333333333,
              "#9c179e"
             ],
             [
              0.4444444444444444,
              "#bd3786"
             ],
             [
              0.5555555555555556,
              "#d8576b"
             ],
             [
              0.6666666666666666,
              "#ed7953"
             ],
             [
              0.7777777777777778,
              "#fb9f3a"
             ],
             [
              0.8888888888888888,
              "#fdca26"
             ],
             [
              1,
              "#f0f921"
             ]
            ],
            "type": "contour"
           }
          ],
          "contourcarpet": [
           {
            "colorbar": {
             "outlinewidth": 0,
             "ticks": ""
            },
            "type": "contourcarpet"
           }
          ],
          "heatmap": [
           {
            "colorbar": {
             "outlinewidth": 0,
             "ticks": ""
            },
            "colorscale": [
             [
              0,
              "#0d0887"
             ],
             [
              0.1111111111111111,
              "#46039f"
             ],
             [
              0.2222222222222222,
              "#7201a8"
             ],
             [
              0.3333333333333333,
              "#9c179e"
             ],
             [
              0.4444444444444444,
              "#bd3786"
             ],
             [
              0.5555555555555556,
              "#d8576b"
             ],
             [
              0.6666666666666666,
              "#ed7953"
             ],
             [
              0.7777777777777778,
              "#fb9f3a"
             ],
             [
              0.8888888888888888,
              "#fdca26"
             ],
             [
              1,
              "#f0f921"
             ]
            ],
            "type": "heatmap"
           }
          ],
          "heatmapgl": [
           {
            "colorbar": {
             "outlinewidth": 0,
             "ticks": ""
            },
            "colorscale": [
             [
              0,
              "#0d0887"
             ],
             [
              0.1111111111111111,
              "#46039f"
             ],
             [
              0.2222222222222222,
              "#7201a8"
             ],
             [
              0.3333333333333333,
              "#9c179e"
             ],
             [
              0.4444444444444444,
              "#bd3786"
             ],
             [
              0.5555555555555556,
              "#d8576b"
             ],
             [
              0.6666666666666666,
              "#ed7953"
             ],
             [
              0.7777777777777778,
              "#fb9f3a"
             ],
             [
              0.8888888888888888,
              "#fdca26"
             ],
             [
              1,
              "#f0f921"
             ]
            ],
            "type": "heatmapgl"
           }
          ],
          "histogram": [
           {
            "marker": {
             "pattern": {
              "fillmode": "overlay",
              "size": 10,
              "solidity": 0.2
             }
            },
            "type": "histogram"
           }
          ],
          "histogram2d": [
           {
            "colorbar": {
             "outlinewidth": 0,
             "ticks": ""
            },
            "colorscale": [
             [
              0,
              "#0d0887"
             ],
             [
              0.1111111111111111,
              "#46039f"
             ],
             [
              0.2222222222222222,
              "#7201a8"
             ],
             [
              0.3333333333333333,
              "#9c179e"
             ],
             [
              0.4444444444444444,
              "#bd3786"
             ],
             [
              0.5555555555555556,
              "#d8576b"
             ],
             [
              0.6666666666666666,
              "#ed7953"
             ],
             [
              0.7777777777777778,
              "#fb9f3a"
             ],
             [
              0.8888888888888888,
              "#fdca26"
             ],
             [
              1,
              "#f0f921"
             ]
            ],
            "type": "histogram2d"
           }
          ],
          "histogram2dcontour": [
           {
            "colorbar": {
             "outlinewidth": 0,
             "ticks": ""
            },
            "colorscale": [
             [
              0,
              "#0d0887"
             ],
             [
              0.1111111111111111,
              "#46039f"
             ],
             [
              0.2222222222222222,
              "#7201a8"
             ],
             [
              0.3333333333333333,
              "#9c179e"
             ],
             [
              0.4444444444444444,
              "#bd3786"
             ],
             [
              0.5555555555555556,
              "#d8576b"
             ],
             [
              0.6666666666666666,
              "#ed7953"
             ],
             [
              0.7777777777777778,
              "#fb9f3a"
             ],
             [
              0.8888888888888888,
              "#fdca26"
             ],
             [
              1,
              "#f0f921"
             ]
            ],
            "type": "histogram2dcontour"
           }
          ],
          "mesh3d": [
           {
            "colorbar": {
             "outlinewidth": 0,
             "ticks": ""
            },
            "type": "mesh3d"
           }
          ],
          "parcoords": [
           {
            "line": {
             "colorbar": {
              "outlinewidth": 0,
              "ticks": ""
             }
            },
            "type": "parcoords"
           }
          ],
          "pie": [
           {
            "automargin": true,
            "type": "pie"
           }
          ],
          "scatter": [
           {
            "fillpattern": {
             "fillmode": "overlay",
             "size": 10,
             "solidity": 0.2
            },
            "type": "scatter"
           }
          ],
          "scatter3d": [
           {
            "line": {
             "colorbar": {
              "outlinewidth": 0,
              "ticks": ""
             }
            },
            "marker": {
             "colorbar": {
              "outlinewidth": 0,
              "ticks": ""
             }
            },
            "type": "scatter3d"
           }
          ],
          "scattercarpet": [
           {
            "marker": {
             "colorbar": {
              "outlinewidth": 0,
              "ticks": ""
             }
            },
            "type": "scattercarpet"
           }
          ],
          "scattergeo": [
           {
            "marker": {
             "colorbar": {
              "outlinewidth": 0,
              "ticks": ""
             }
            },
            "type": "scattergeo"
           }
          ],
          "scattergl": [
           {
            "marker": {
             "colorbar": {
              "outlinewidth": 0,
              "ticks": ""
             }
            },
            "type": "scattergl"
           }
          ],
          "scattermapbox": [
           {
            "marker": {
             "colorbar": {
              "outlinewidth": 0,
              "ticks": ""
             }
            },
            "type": "scattermapbox"
           }
          ],
          "scatterpolar": [
           {
            "marker": {
             "colorbar": {
              "outlinewidth": 0,
              "ticks": ""
             }
            },
            "type": "scatterpolar"
           }
          ],
          "scatterpolargl": [
           {
            "marker": {
             "colorbar": {
              "outlinewidth": 0,
              "ticks": ""
             }
            },
            "type": "scatterpolargl"
           }
          ],
          "scatterternary": [
           {
            "marker": {
             "colorbar": {
              "outlinewidth": 0,
              "ticks": ""
             }
            },
            "type": "scatterternary"
           }
          ],
          "surface": [
           {
            "colorbar": {
             "outlinewidth": 0,
             "ticks": ""
            },
            "colorscale": [
             [
              0,
              "#0d0887"
             ],
             [
              0.1111111111111111,
              "#46039f"
             ],
             [
              0.2222222222222222,
              "#7201a8"
             ],
             [
              0.3333333333333333,
              "#9c179e"
             ],
             [
              0.4444444444444444,
              "#bd3786"
             ],
             [
              0.5555555555555556,
              "#d8576b"
             ],
             [
              0.6666666666666666,
              "#ed7953"
             ],
             [
              0.7777777777777778,
              "#fb9f3a"
             ],
             [
              0.8888888888888888,
              "#fdca26"
             ],
             [
              1,
              "#f0f921"
             ]
            ],
            "type": "surface"
           }
          ],
          "table": [
           {
            "cells": {
             "fill": {
              "color": "#EBF0F8"
             },
             "line": {
              "color": "white"
             }
            },
            "header": {
             "fill": {
              "color": "#C8D4E3"
             },
             "line": {
              "color": "white"
             }
            },
            "type": "table"
           }
          ]
         },
         "layout": {
          "annotationdefaults": {
           "arrowcolor": "#2a3f5f",
           "arrowhead": 0,
           "arrowwidth": 1
          },
          "autotypenumbers": "strict",
          "coloraxis": {
           "colorbar": {
            "outlinewidth": 0,
            "ticks": ""
           }
          },
          "colorscale": {
           "diverging": [
            [
             0,
             "#8e0152"
            ],
            [
             0.1,
             "#c51b7d"
            ],
            [
             0.2,
             "#de77ae"
            ],
            [
             0.3,
             "#f1b6da"
            ],
            [
             0.4,
             "#fde0ef"
            ],
            [
             0.5,
             "#f7f7f7"
            ],
            [
             0.6,
             "#e6f5d0"
            ],
            [
             0.7,
             "#b8e186"
            ],
            [
             0.8,
             "#7fbc41"
            ],
            [
             0.9,
             "#4d9221"
            ],
            [
             1,
             "#276419"
            ]
           ],
           "sequential": [
            [
             0,
             "#0d0887"
            ],
            [
             0.1111111111111111,
             "#46039f"
            ],
            [
             0.2222222222222222,
             "#7201a8"
            ],
            [
             0.3333333333333333,
             "#9c179e"
            ],
            [
             0.4444444444444444,
             "#bd3786"
            ],
            [
             0.5555555555555556,
             "#d8576b"
            ],
            [
             0.6666666666666666,
             "#ed7953"
            ],
            [
             0.7777777777777778,
             "#fb9f3a"
            ],
            [
             0.8888888888888888,
             "#fdca26"
            ],
            [
             1,
             "#f0f921"
            ]
           ],
           "sequentialminus": [
            [
             0,
             "#0d0887"
            ],
            [
             0.1111111111111111,
             "#46039f"
            ],
            [
             0.2222222222222222,
             "#7201a8"
            ],
            [
             0.3333333333333333,
             "#9c179e"
            ],
            [
             0.4444444444444444,
             "#bd3786"
            ],
            [
             0.5555555555555556,
             "#d8576b"
            ],
            [
             0.6666666666666666,
             "#ed7953"
            ],
            [
             0.7777777777777778,
             "#fb9f3a"
            ],
            [
             0.8888888888888888,
             "#fdca26"
            ],
            [
             1,
             "#f0f921"
            ]
           ]
          },
          "colorway": [
           "#636efa",
           "#EF553B",
           "#00cc96",
           "#ab63fa",
           "#FFA15A",
           "#19d3f3",
           "#FF6692",
           "#B6E880",
           "#FF97FF",
           "#FECB52"
          ],
          "font": {
           "color": "#2a3f5f"
          },
          "geo": {
           "bgcolor": "white",
           "lakecolor": "white",
           "landcolor": "white",
           "showlakes": true,
           "showland": true,
           "subunitcolor": "#C8D4E3"
          },
          "hoverlabel": {
           "align": "left"
          },
          "hovermode": "closest",
          "mapbox": {
           "style": "light"
          },
          "paper_bgcolor": "white",
          "plot_bgcolor": "white",
          "polar": {
           "angularaxis": {
            "gridcolor": "#EBF0F8",
            "linecolor": "#EBF0F8",
            "ticks": ""
           },
           "bgcolor": "white",
           "radialaxis": {
            "gridcolor": "#EBF0F8",
            "linecolor": "#EBF0F8",
            "ticks": ""
           }
          },
          "scene": {
           "xaxis": {
            "backgroundcolor": "white",
            "gridcolor": "#DFE8F3",
            "gridwidth": 2,
            "linecolor": "#EBF0F8",
            "showbackground": true,
            "ticks": "",
            "zerolinecolor": "#EBF0F8"
           },
           "yaxis": {
            "backgroundcolor": "white",
            "gridcolor": "#DFE8F3",
            "gridwidth": 2,
            "linecolor": "#EBF0F8",
            "showbackground": true,
            "ticks": "",
            "zerolinecolor": "#EBF0F8"
           },
           "zaxis": {
            "backgroundcolor": "white",
            "gridcolor": "#DFE8F3",
            "gridwidth": 2,
            "linecolor": "#EBF0F8",
            "showbackground": true,
            "ticks": "",
            "zerolinecolor": "#EBF0F8"
           }
          },
          "shapedefaults": {
           "line": {
            "color": "#2a3f5f"
           }
          },
          "ternary": {
           "aaxis": {
            "gridcolor": "#DFE8F3",
            "linecolor": "#A2B1C6",
            "ticks": ""
           },
           "baxis": {
            "gridcolor": "#DFE8F3",
            "linecolor": "#A2B1C6",
            "ticks": ""
           },
           "bgcolor": "white",
           "caxis": {
            "gridcolor": "#DFE8F3",
            "linecolor": "#A2B1C6",
            "ticks": ""
           }
          },
          "title": {
           "x": 0.05
          },
          "xaxis": {
           "automargin": true,
           "gridcolor": "#EBF0F8",
           "linecolor": "#EBF0F8",
           "ticks": "",
           "title": {
            "standoff": 15
           },
           "zerolinecolor": "#EBF0F8",
           "zerolinewidth": 2
          },
          "yaxis": {
           "automargin": true,
           "gridcolor": "#EBF0F8",
           "linecolor": "#EBF0F8",
           "ticks": "",
           "title": {
            "standoff": 15
           },
           "zerolinecolor": "#EBF0F8",
           "zerolinewidth": 2
          }
         }
        },
        "title": {
         "text": "Daily Sales in August 2017"
        },
        "xaxis": {
         "title": {
          "text": "Day"
         }
        },
        "yaxis": {
         "title": {
          "text": "Total Sales"
         }
        }
       }
      }
     },
     "metadata": {},
     "output_type": "display_data"
    },
    {
     "data": {
      "application/vnd.plotly.v1+json": {
       "config": {
        "plotlyServerURL": "https://plot.ly"
       },
       "data": [
        {
         "marker": {
          "color": "blue"
         },
         "name": "Store 1",
         "type": "bar",
         "x": [
          "2017-07-01T00:00:00",
          "2017-07-02T00:00:00",
          "2017-07-03T00:00:00",
          "2017-07-04T00:00:00",
          "2017-07-05T00:00:00",
          "2017-07-06T00:00:00",
          "2017-07-07T00:00:00",
          "2017-07-08T00:00:00",
          "2017-07-09T00:00:00",
          "2017-07-10T00:00:00",
          "2017-07-11T00:00:00",
          "2017-07-12T00:00:00",
          "2017-07-13T00:00:00",
          "2017-07-14T00:00:00",
          "2017-07-15T00:00:00",
          "2017-07-16T00:00:00",
          "2017-07-17T00:00:00",
          "2017-07-18T00:00:00",
          "2017-07-19T00:00:00",
          "2017-07-20T00:00:00",
          "2017-07-21T00:00:00",
          "2017-07-22T00:00:00",
          "2017-07-23T00:00:00",
          "2017-07-24T00:00:00",
          "2017-07-25T00:00:00",
          "2017-07-26T00:00:00",
          "2017-07-27T00:00:00",
          "2017-07-28T00:00:00",
          "2017-07-29T00:00:00",
          "2017-07-30T00:00:00",
          "2017-07-31T00:00:00",
          "2017-08-01T00:00:00",
          "2017-08-02T00:00:00",
          "2017-08-03T00:00:00",
          "2017-08-04T00:00:00",
          "2017-08-05T00:00:00",
          "2017-08-06T00:00:00",
          "2017-08-07T00:00:00",
          "2017-08-08T00:00:00",
          "2017-08-09T00:00:00",
          "2017-08-10T00:00:00",
          "2017-08-11T00:00:00",
          "2017-08-12T00:00:00",
          "2017-08-13T00:00:00",
          "2017-08-14T00:00:00",
          "2017-08-15T00:00:00"
         ],
         "y": [
          11801.934,
          5308.296996,
          12201.219001,
          10951.704,
          14023.387999999999,
          10311.751006,
          12001.7,
          10995.22,
          5131.654004,
          11624.978000000001,
          10553.459004,
          13726.383,
          10269.74299,
          12375.274004,
          9871.204,
          4629.171,
          11337.712992,
          11978.147002,
          12998.338,
          10448.933905,
          12780.709996,
          11120.524,
          5308.637,
          11094.851,
          10329.44303,
          12579.23302,
          10078.642,
          11361.689,
          10165.192000000001,
          4950.2159897,
          11626.725,
          11829.888998,
          14527.532220000001,
          9070.62,
          12149.89796,
          9387.579,
          4409.247998,
          10538.136,
          11070.75899,
          12583.652,
          10834.579,
          5403.742021,
          7543.623,
          3902.7819999999997,
          10433.314,
          9823.551018
         ]
        },
        {
         "marker": {
          "color": "red"
         },
         "name": "Store 2",
         "type": "bar",
         "x": [
          "2017-07-01T00:00:00",
          "2017-07-02T00:00:00",
          "2017-07-03T00:00:00",
          "2017-07-04T00:00:00",
          "2017-07-05T00:00:00",
          "2017-07-06T00:00:00",
          "2017-07-07T00:00:00",
          "2017-07-08T00:00:00",
          "2017-07-09T00:00:00",
          "2017-07-10T00:00:00",
          "2017-07-11T00:00:00",
          "2017-07-12T00:00:00",
          "2017-07-13T00:00:00",
          "2017-07-14T00:00:00",
          "2017-07-15T00:00:00",
          "2017-07-16T00:00:00",
          "2017-07-17T00:00:00",
          "2017-07-18T00:00:00",
          "2017-07-19T00:00:00",
          "2017-07-20T00:00:00",
          "2017-07-21T00:00:00",
          "2017-07-22T00:00:00",
          "2017-07-23T00:00:00",
          "2017-07-24T00:00:00",
          "2017-07-25T00:00:00",
          "2017-07-26T00:00:00",
          "2017-07-27T00:00:00",
          "2017-07-28T00:00:00",
          "2017-07-29T00:00:00",
          "2017-07-30T00:00:00",
          "2017-07-31T00:00:00",
          "2017-08-01T00:00:00",
          "2017-08-02T00:00:00",
          "2017-08-03T00:00:00",
          "2017-08-04T00:00:00",
          "2017-08-05T00:00:00",
          "2017-08-06T00:00:00",
          "2017-08-07T00:00:00",
          "2017-08-08T00:00:00",
          "2017-08-09T00:00:00",
          "2017-08-10T00:00:00",
          "2017-08-11T00:00:00",
          "2017-08-12T00:00:00",
          "2017-08-13T00:00:00",
          "2017-08-14T00:00:00",
          "2017-08-15T00:00:00"
         ],
         "y": [
          20437.570998,
          21969.879,
          15995.397,
          15177.699,
          15432.847,
          12721.316004,
          15666.513995,
          17621.03602,
          18780.838,
          13738.210000000001,
          12306.35298,
          13387.63298,
          10827.489,
          14424.629,
          17297.922,
          19153.128,
          13757.483999,
          12562.227,
          14665.683,
          11862.591,
          15602.1851,
          16882.341,
          17482.956972,
          14140.847,
          12258.705,
          14208.610999999999,
          11481.832,
          15786.232005,
          17040.106,
          17883.189003,
          13739.413996,
          14911.808,
          16404.964,
          11910.274,
          15021.191,
          14400.056980000001,
          16987.569,
          12382.453,
          11304.555,
          12615.753,
          11317.833,
          13081.771001,
          12382.416,
          13766.822095,
          12211.46102,
          11196.260002
         ]
        },
        {
         "marker": {
          "color": "green"
         },
         "name": "Store 3",
         "type": "bar",
         "x": [
          "2017-07-01T00:00:00",
          "2017-07-02T00:00:00",
          "2017-07-03T00:00:00",
          "2017-07-04T00:00:00",
          "2017-07-05T00:00:00",
          "2017-07-06T00:00:00",
          "2017-07-07T00:00:00",
          "2017-07-08T00:00:00",
          "2017-07-09T00:00:00",
          "2017-07-10T00:00:00",
          "2017-07-11T00:00:00",
          "2017-07-12T00:00:00",
          "2017-07-13T00:00:00",
          "2017-07-14T00:00:00",
          "2017-07-15T00:00:00",
          "2017-07-16T00:00:00",
          "2017-07-17T00:00:00",
          "2017-07-18T00:00:00",
          "2017-07-19T00:00:00",
          "2017-07-20T00:00:00",
          "2017-07-21T00:00:00",
          "2017-07-22T00:00:00",
          "2017-07-23T00:00:00",
          "2017-07-24T00:00:00",
          "2017-07-25T00:00:00",
          "2017-07-26T00:00:00",
          "2017-07-27T00:00:00",
          "2017-07-28T00:00:00",
          "2017-07-29T00:00:00",
          "2017-07-30T00:00:00",
          "2017-07-31T00:00:00",
          "2017-08-01T00:00:00",
          "2017-08-02T00:00:00",
          "2017-08-03T00:00:00",
          "2017-08-04T00:00:00",
          "2017-08-05T00:00:00",
          "2017-08-06T00:00:00",
          "2017-08-07T00:00:00",
          "2017-08-08T00:00:00",
          "2017-08-09T00:00:00",
          "2017-08-10T00:00:00",
          "2017-08-11T00:00:00",
          "2017-08-12T00:00:00",
          "2017-08-13T00:00:00",
          "2017-08-14T00:00:00",
          "2017-08-15T00:00:00"
         ],
         "y": [
          51718.016,
          53621.655,
          38761.729,
          31742.591,
          39985.571019999996,
          28346.397,
          37528.9,
          43045.83,
          46580.396,
          33668.26,
          31151.425,
          35146.405,
          25524.356,
          33438.678,
          44122.088996,
          48174.673,
          34877.67697,
          30260.595999999998,
          36594.902,
          30630.545,
          35100.102005,
          41699.020004,
          44456.501,
          34484.402,
          28590.114,
          34532.48,
          27447.051,
          36196.4741,
          41570.463,
          46365.212,
          34192.049,
          34630.474004,
          39894.49103,
          29915.405,
          36034.8479,
          39227.2105,
          42005.37,
          32074.153000000002,
          28450.843,
          32962.387,
          26035.933,
          32885.759996,
          31903.476,
          34845.1193,
          32843.704026,
          30185.602
         ]
        },
        {
         "marker": {
          "color": "purple"
         },
         "name": "Store 4",
         "type": "bar",
         "x": [
          "2017-07-01T00:00:00",
          "2017-07-02T00:00:00",
          "2017-07-03T00:00:00",
          "2017-07-04T00:00:00",
          "2017-07-05T00:00:00",
          "2017-07-06T00:00:00",
          "2017-07-07T00:00:00",
          "2017-07-08T00:00:00",
          "2017-07-09T00:00:00",
          "2017-07-10T00:00:00",
          "2017-07-11T00:00:00",
          "2017-07-12T00:00:00",
          "2017-07-13T00:00:00",
          "2017-07-14T00:00:00",
          "2017-07-15T00:00:00",
          "2017-07-16T00:00:00",
          "2017-07-17T00:00:00",
          "2017-07-18T00:00:00",
          "2017-07-19T00:00:00",
          "2017-07-20T00:00:00",
          "2017-07-21T00:00:00",
          "2017-07-22T00:00:00",
          "2017-07-23T00:00:00",
          "2017-07-24T00:00:00",
          "2017-07-25T00:00:00",
          "2017-07-26T00:00:00",
          "2017-07-27T00:00:00",
          "2017-07-28T00:00:00",
          "2017-07-29T00:00:00",
          "2017-07-30T00:00:00",
          "2017-07-31T00:00:00",
          "2017-08-01T00:00:00",
          "2017-08-02T00:00:00",
          "2017-08-03T00:00:00",
          "2017-08-04T00:00:00",
          "2017-08-05T00:00:00",
          "2017-08-06T00:00:00",
          "2017-08-07T00:00:00",
          "2017-08-08T00:00:00",
          "2017-08-09T00:00:00",
          "2017-08-10T00:00:00",
          "2017-08-11T00:00:00",
          "2017-08-12T00:00:00",
          "2017-08-13T00:00:00",
          "2017-08-14T00:00:00",
          "2017-08-15T00:00:00"
         ],
         "y": [
          17603.092969999998,
          20356.839,
          12924.28398,
          11436.315999999999,
          13510.6,
          9591.541,
          12373.355,
          15074.194000000001,
          18072.212,
          11585.191,
          9647.279,
          11568.723,
          9150.378999999999,
          11418.478002,
          13261.387,
          17176.667,
          11283.263,
          10673.864,
          12400.484,
          10864.451,
          12968.836,
          14797.82588,
          16803.208,
          11503.046,
          11098.521999,
          10981.7221,
          9235.235999,
          12113.509,
          15201.179,
          16855.29802,
          11622.438,
          13952.44603,
          13493.313,
          9360.46801,
          14634.571001,
          13216.844,
          16801.046,
          10214.139,
          9760.265,
          10671.727,
          8623.362,
          10819.543,
          10622.300000000001,
          13065.903,
          10911.89,
          9709.086
         ]
        },
        {
         "marker": {
          "color": "orange"
         },
         "name": "Store 5",
         "type": "bar",
         "x": [
          "2017-07-01T00:00:00",
          "2017-07-02T00:00:00",
          "2017-07-03T00:00:00",
          "2017-07-04T00:00:00",
          "2017-07-05T00:00:00",
          "2017-07-06T00:00:00",
          "2017-07-07T00:00:00",
          "2017-07-08T00:00:00",
          "2017-07-09T00:00:00",
          "2017-07-10T00:00:00",
          "2017-07-11T00:00:00",
          "2017-07-12T00:00:00",
          "2017-07-13T00:00:00",
          "2017-07-14T00:00:00",
          "2017-07-15T00:00:00",
          "2017-07-16T00:00:00",
          "2017-07-17T00:00:00",
          "2017-07-18T00:00:00",
          "2017-07-19T00:00:00",
          "2017-07-20T00:00:00",
          "2017-07-21T00:00:00",
          "2017-07-22T00:00:00",
          "2017-07-23T00:00:00",
          "2017-07-24T00:00:00",
          "2017-07-25T00:00:00",
          "2017-07-26T00:00:00",
          "2017-07-27T00:00:00",
          "2017-07-28T00:00:00",
          "2017-07-29T00:00:00",
          "2017-07-30T00:00:00",
          "2017-07-31T00:00:00",
          "2017-08-01T00:00:00",
          "2017-08-02T00:00:00",
          "2017-08-03T00:00:00",
          "2017-08-04T00:00:00",
          "2017-08-05T00:00:00",
          "2017-08-06T00:00:00",
          "2017-08-07T00:00:00",
          "2017-08-08T00:00:00",
          "2017-08-09T00:00:00",
          "2017-08-10T00:00:00",
          "2017-08-11T00:00:00",
          "2017-08-12T00:00:00",
          "2017-08-13T00:00:00",
          "2017-08-14T00:00:00",
          "2017-08-15T00:00:00"
         ],
         "y": [
          10220.83098,
          11298.541000000001,
          11380.571,
          11690.32902,
          12139.581,
          9242.098,
          9410.911,
          11072.3809995,
          12862.825,
          10344.5070005,
          8665.912,
          9661.69,
          8170.5650000000005,
          10529.542,
          11200.224,
          11880.458,
          11222.819999,
          8804.440991,
          10524.57002,
          9021.898000000001,
          9480.547,
          10501.994,
          13749.103,
          10674.688,
          8460.934,
          10294.048,
          7759.3301,
          9643.4699995,
          12108.967,
          12830.42,
          10798.739,
          11373.361,
          12519.385,
          7775.381,
          9944.972,
          11221.937,
          11264.564,
          10011.661,
          7868.12499,
          9326.658,
          8910.0659997,
          9510.871,
          8157.07,
          10044.821,
          9011.5749,
          8703.693
         ]
        },
        {
         "marker": {
          "color": "yellow"
         },
         "name": "Store 6",
         "type": "bar",
         "x": [
          "2017-07-01T00:00:00",
          "2017-07-02T00:00:00",
          "2017-07-03T00:00:00",
          "2017-07-04T00:00:00",
          "2017-07-05T00:00:00",
          "2017-07-06T00:00:00",
          "2017-07-07T00:00:00",
          "2017-07-08T00:00:00",
          "2017-07-09T00:00:00",
          "2017-07-10T00:00:00",
          "2017-07-11T00:00:00",
          "2017-07-12T00:00:00",
          "2017-07-13T00:00:00",
          "2017-07-14T00:00:00",
          "2017-07-15T00:00:00",
          "2017-07-16T00:00:00",
          "2017-07-17T00:00:00",
          "2017-07-18T00:00:00",
          "2017-07-19T00:00:00",
          "2017-07-20T00:00:00",
          "2017-07-21T00:00:00",
          "2017-07-22T00:00:00",
          "2017-07-23T00:00:00",
          "2017-07-24T00:00:00",
          "2017-07-25T00:00:00",
          "2017-07-26T00:00:00",
          "2017-07-27T00:00:00",
          "2017-07-28T00:00:00",
          "2017-07-29T00:00:00",
          "2017-07-30T00:00:00",
          "2017-07-31T00:00:00",
          "2017-08-01T00:00:00",
          "2017-08-02T00:00:00",
          "2017-08-03T00:00:00",
          "2017-08-04T00:00:00",
          "2017-08-05T00:00:00",
          "2017-08-06T00:00:00",
          "2017-08-07T00:00:00",
          "2017-08-08T00:00:00",
          "2017-08-09T00:00:00",
          "2017-08-10T00:00:00",
          "2017-08-11T00:00:00",
          "2017-08-12T00:00:00",
          "2017-08-13T00:00:00",
          "2017-08-14T00:00:00",
          "2017-08-15T00:00:00"
         ],
         "y": [
          25271.975,
          28473.194,
          20527.583000000002,
          17187.972,
          16907.048,
          13958.37502,
          16663.542999999998,
          19533.885996,
          23547.44397,
          16980.90998,
          14181.21,
          15136.18902,
          12771.50398,
          15528.407003999999,
          19243.781999,
          23157.101,
          16386.677996,
          13625.52498,
          16928.17,
          13487.44598,
          16047.752005,
          18772.125,
          23899.386,
          17374.001995,
          14737.556,
          15865.929,
          12717.114,
          17561.798,
          19965.162,
          23744.982998,
          16645.941002,
          17648.362,
          18873.763982,
          13529.437,
          15485.410966,
          19623.699,
          21822.012,
          16403.479,
          13574.751,
          15040.597997,
          11456.236976,
          15775.922,
          14502.508,
          19261.91898,
          14206.60503,
          13849.208995
         ]
        },
        {
         "marker": {
          "color": "black"
         },
         "name": "Store 7",
         "type": "bar",
         "x": [
          "2017-07-01T00:00:00",
          "2017-07-02T00:00:00",
          "2017-07-03T00:00:00",
          "2017-07-04T00:00:00",
          "2017-07-05T00:00:00",
          "2017-07-06T00:00:00",
          "2017-07-07T00:00:00",
          "2017-07-08T00:00:00",
          "2017-07-09T00:00:00",
          "2017-07-10T00:00:00",
          "2017-07-11T00:00:00",
          "2017-07-12T00:00:00",
          "2017-07-13T00:00:00",
          "2017-07-14T00:00:00",
          "2017-07-15T00:00:00",
          "2017-07-16T00:00:00",
          "2017-07-17T00:00:00",
          "2017-07-18T00:00:00",
          "2017-07-19T00:00:00",
          "2017-07-20T00:00:00",
          "2017-07-21T00:00:00",
          "2017-07-22T00:00:00",
          "2017-07-23T00:00:00",
          "2017-07-24T00:00:00",
          "2017-07-25T00:00:00",
          "2017-07-26T00:00:00",
          "2017-07-27T00:00:00",
          "2017-07-28T00:00:00",
          "2017-07-29T00:00:00",
          "2017-07-30T00:00:00",
          "2017-07-31T00:00:00",
          "2017-08-01T00:00:00",
          "2017-08-02T00:00:00",
          "2017-08-03T00:00:00",
          "2017-08-04T00:00:00",
          "2017-08-05T00:00:00",
          "2017-08-06T00:00:00",
          "2017-08-07T00:00:00",
          "2017-08-08T00:00:00",
          "2017-08-09T00:00:00",
          "2017-08-10T00:00:00",
          "2017-08-11T00:00:00",
          "2017-08-12T00:00:00",
          "2017-08-13T00:00:00",
          "2017-08-14T00:00:00",
          "2017-08-15T00:00:00"
         ],
         "y": [
          19590.009,
          20436.083,
          24951.982,
          21452.76101,
          23748.739999999998,
          18954.330998,
          21797.284200000002,
          18190.791,
          19031.686999999998,
          20181.478,
          18858.585,
          22532.968998,
          15946.818,
          21765.389,
          18251.960999,
          17869.560001,
          21128.803,
          17782.845,
          21383.33199,
          16835.305,
          20697.12503,
          17461.334,
          17483.562010999998,
          19245.966,
          17689.451,
          20285.587,
          16108.922999999999,
          20050.057,
          17502.987,
          17574.628,
          20227.524,
          20299.977998,
          23805.202,
          15891.882001,
          18838.455034,
          16284.537,
          16796.095,
          19032.308002,
          16828.644,
          19897.94403,
          15002.801000000001,
          15090.05297,
          14668.772022,
          14871.927,
          19957.600000000002,
          18744.29598
         ]
        },
        {
         "marker": {
          "color": "brown"
         },
         "name": "Store 8",
         "type": "bar",
         "x": [
          "2017-07-01T00:00:00",
          "2017-07-02T00:00:00",
          "2017-07-03T00:00:00",
          "2017-07-04T00:00:00",
          "2017-07-05T00:00:00",
          "2017-07-06T00:00:00",
          "2017-07-07T00:00:00",
          "2017-07-08T00:00:00",
          "2017-07-09T00:00:00",
          "2017-07-10T00:00:00",
          "2017-07-11T00:00:00",
          "2017-07-12T00:00:00",
          "2017-07-13T00:00:00",
          "2017-07-14T00:00:00",
          "2017-07-15T00:00:00",
          "2017-07-16T00:00:00",
          "2017-07-17T00:00:00",
          "2017-07-18T00:00:00",
          "2017-07-19T00:00:00",
          "2017-07-20T00:00:00",
          "2017-07-21T00:00:00",
          "2017-07-22T00:00:00",
          "2017-07-23T00:00:00",
          "2017-07-24T00:00:00",
          "2017-07-25T00:00:00",
          "2017-07-26T00:00:00",
          "2017-07-27T00:00:00",
          "2017-07-28T00:00:00",
          "2017-07-29T00:00:00",
          "2017-07-30T00:00:00",
          "2017-07-31T00:00:00",
          "2017-08-01T00:00:00",
          "2017-08-02T00:00:00",
          "2017-08-03T00:00:00",
          "2017-08-04T00:00:00",
          "2017-08-05T00:00:00",
          "2017-08-06T00:00:00",
          "2017-08-07T00:00:00",
          "2017-08-08T00:00:00",
          "2017-08-09T00:00:00",
          "2017-08-10T00:00:00",
          "2017-08-11T00:00:00",
          "2017-08-12T00:00:00",
          "2017-08-13T00:00:00",
          "2017-08-14T00:00:00",
          "2017-08-15T00:00:00"
         ],
         "y": [
          32136.658,
          31635.916,
          21894.248,
          19423.562002,
          25061.236978,
          17411.828,
          21194.375,
          29545.21899,
          27432.413,
          19113.613999999998,
          18018.301,
          21617.077,
          15660.635,
          21626.126,
          24990.261,
          29186.969,
          20869.158,
          17117.962,
          23141.443,
          17662.282,
          22213.259000000002,
          25998.145,
          27287.6783,
          18846.584,
          17114.768,
          20218.61299,
          14792.68102,
          22247.202,
          25576.576,
          26197.194,
          20723.14799,
          20493.030996,
          25250.635000000002,
          17386.789,
          21083.71101,
          26453.195,
          25457.314,
          18421.791,
          16089.367,
          20809.21698,
          16158.923,
          18440.071,
          19548.54801,
          21646.66,
          19140.137,
          17723.876
         ]
        },
        {
         "marker": {
          "color": "cyan"
         },
         "name": "Store 9",
         "type": "bar",
         "x": [
          "2017-07-01T00:00:00",
          "2017-07-02T00:00:00",
          "2017-07-03T00:00:00",
          "2017-07-04T00:00:00",
          "2017-07-05T00:00:00",
          "2017-07-06T00:00:00",
          "2017-07-07T00:00:00",
          "2017-07-08T00:00:00",
          "2017-07-09T00:00:00",
          "2017-07-10T00:00:00",
          "2017-07-11T00:00:00",
          "2017-07-12T00:00:00",
          "2017-07-13T00:00:00",
          "2017-07-14T00:00:00",
          "2017-07-15T00:00:00",
          "2017-07-16T00:00:00",
          "2017-07-17T00:00:00",
          "2017-07-18T00:00:00",
          "2017-07-19T00:00:00",
          "2017-07-20T00:00:00",
          "2017-07-21T00:00:00",
          "2017-07-22T00:00:00",
          "2017-07-23T00:00:00",
          "2017-07-24T00:00:00",
          "2017-07-25T00:00:00",
          "2017-07-26T00:00:00",
          "2017-07-27T00:00:00",
          "2017-07-28T00:00:00",
          "2017-07-29T00:00:00",
          "2017-07-30T00:00:00",
          "2017-07-31T00:00:00",
          "2017-08-01T00:00:00",
          "2017-08-02T00:00:00",
          "2017-08-03T00:00:00",
          "2017-08-04T00:00:00",
          "2017-08-05T00:00:00",
          "2017-08-06T00:00:00",
          "2017-08-07T00:00:00",
          "2017-08-08T00:00:00",
          "2017-08-09T00:00:00",
          "2017-08-10T00:00:00",
          "2017-08-11T00:00:00",
          "2017-08-12T00:00:00",
          "2017-08-13T00:00:00",
          "2017-08-14T00:00:00",
          "2017-08-15T00:00:00"
         ],
         "y": [
          27791.218999999997,
          33422.102,
          24264.83901,
          20456.284,
          16892.161,
          16944.13,
          15258.622003999999,
          21482.59001,
          25002.731,
          18874.72,
          16426.344004,
          13475.664,
          13149.912,
          13933.249004,
          19700.809,
          21434.11102,
          18039.09402,
          15961.966,
          12961.084,
          13296.091999999999,
          14588.60698,
          18899.914,
          20160.858,
          14709.973,
          15734.128999999999,
          11941.16802,
          13218.337,
          14229.088,
          20919.781,
          22259.891,
          20525.879,
          27173.401997,
          20596.434979999998,
          19852.218,
          18011.215,
          22157.198,
          25300.919999,
          20671.93798,
          16707.3359995,
          14754.863,
          12886.733,
          15569.746,
          16901.506991,
          18128.805,
          15978.709,
          18636.477
         ]
        },
        {
         "marker": {
          "color": "magenta"
         },
         "name": "Store 10",
         "type": "bar",
         "x": [
          "2017-07-01T00:00:00",
          "2017-07-02T00:00:00",
          "2017-07-03T00:00:00",
          "2017-07-04T00:00:00",
          "2017-07-05T00:00:00",
          "2017-07-06T00:00:00",
          "2017-07-07T00:00:00",
          "2017-07-08T00:00:00",
          "2017-07-09T00:00:00",
          "2017-07-10T00:00:00",
          "2017-07-11T00:00:00",
          "2017-07-12T00:00:00",
          "2017-07-13T00:00:00",
          "2017-07-14T00:00:00",
          "2017-07-15T00:00:00",
          "2017-07-16T00:00:00",
          "2017-07-17T00:00:00",
          "2017-07-18T00:00:00",
          "2017-07-19T00:00:00",
          "2017-07-20T00:00:00",
          "2017-07-21T00:00:00",
          "2017-07-22T00:00:00",
          "2017-07-23T00:00:00",
          "2017-07-24T00:00:00",
          "2017-07-25T00:00:00",
          "2017-07-26T00:00:00",
          "2017-07-27T00:00:00",
          "2017-07-28T00:00:00",
          "2017-07-29T00:00:00",
          "2017-07-30T00:00:00",
          "2017-07-31T00:00:00",
          "2017-08-01T00:00:00",
          "2017-08-02T00:00:00",
          "2017-08-03T00:00:00",
          "2017-08-04T00:00:00",
          "2017-08-05T00:00:00",
          "2017-08-06T00:00:00",
          "2017-08-07T00:00:00",
          "2017-08-08T00:00:00",
          "2017-08-09T00:00:00",
          "2017-08-10T00:00:00",
          "2017-08-11T00:00:00",
          "2017-08-12T00:00:00",
          "2017-08-13T00:00:00",
          "2017-08-14T00:00:00",
          "2017-08-15T00:00:00"
         ],
         "y": [
          9370.186012,
          8644.97401,
          8193.407,
          6755.601,
          6124.524,
          5812.743,
          5560.474,
          7659.32799,
          6700.6630000000005,
          6227.809,
          6227.137,
          5820.92699,
          5179.299,
          4234.217,
          6357.137005,
          7406.265,
          6338.1900000000005,
          5518.959,
          5311.67401,
          5465.20199,
          5098.894,
          6416.952,
          6378.535,
          6070.567,
          5829.60198,
          4081.691,
          6411.31101,
          7953.25401,
          8454.329,
          7224.5560000000005,
          9085.503,
          8083.21901,
          7263.87,
          7737.39,
          7145.91899,
          8535.303,
          8578.25201,
          6967.13301,
          7383.0750100000005,
          6076.715996,
          5927.258995,
          5932.179,
          6322.808,
          6773.542,
          6236.741,
          6806.592
         ]
        },
        {
         "marker": {
          "color": "blue"
         },
         "name": "Store 11",
         "type": "bar",
         "x": [
          "2017-07-01T00:00:00",
          "2017-07-02T00:00:00",
          "2017-07-03T00:00:00",
          "2017-07-04T00:00:00",
          "2017-07-05T00:00:00",
          "2017-07-06T00:00:00",
          "2017-07-07T00:00:00",
          "2017-07-08T00:00:00",
          "2017-07-09T00:00:00",
          "2017-07-10T00:00:00",
          "2017-07-11T00:00:00",
          "2017-07-12T00:00:00",
          "2017-07-13T00:00:00",
          "2017-07-14T00:00:00",
          "2017-07-15T00:00:00",
          "2017-07-16T00:00:00",
          "2017-07-17T00:00:00",
          "2017-07-18T00:00:00",
          "2017-07-19T00:00:00",
          "2017-07-20T00:00:00",
          "2017-07-21T00:00:00",
          "2017-07-22T00:00:00",
          "2017-07-23T00:00:00",
          "2017-07-24T00:00:00",
          "2017-07-25T00:00:00",
          "2017-07-26T00:00:00",
          "2017-07-27T00:00:00",
          "2017-07-28T00:00:00",
          "2017-07-29T00:00:00",
          "2017-07-30T00:00:00",
          "2017-07-31T00:00:00",
          "2017-08-01T00:00:00",
          "2017-08-02T00:00:00",
          "2017-08-03T00:00:00",
          "2017-08-04T00:00:00",
          "2017-08-05T00:00:00",
          "2017-08-06T00:00:00",
          "2017-08-07T00:00:00",
          "2017-08-08T00:00:00",
          "2017-08-09T00:00:00",
          "2017-08-10T00:00:00",
          "2017-08-11T00:00:00",
          "2017-08-12T00:00:00",
          "2017-08-13T00:00:00",
          "2017-08-14T00:00:00",
          "2017-08-15T00:00:00"
         ],
         "y": [
          29165.389040000002,
          27441.742,
          26914.585,
          27524.708000000002,
          23214.19,
          20837.9899,
          22266.436999999998,
          23329.265,
          25552.200100000002,
          20317.232,
          18912.857,
          16926.39202,
          15762.53097,
          17930.218,
          19814.52,
          20817.60806,
          19962.555,
          17839.358,
          16925.298,
          15398.08804,
          19119.00898,
          16139.465,
          18832.551,
          18769.708899999998,
          18591.71,
          15207.12404,
          14579.384970000001,
          21190.432,
          18958.97,
          22133.855000000003,
          19934.492,
          28187.51404,
          25078.189,
          22567.30098,
          24994.326,
          21716.311002000002,
          24258.806,
          21002.022,
          20694.624,
          17813.196,
          18647.94699,
          19098.661,
          17156.501,
          18540.26199,
          18866.419,
          21727.239999999998
         ]
        },
        {
         "marker": {
          "color": "red"
         },
         "name": "Store 12",
         "type": "bar",
         "x": [
          "2017-07-01T00:00:00",
          "2017-07-02T00:00:00",
          "2017-07-03T00:00:00",
          "2017-07-04T00:00:00",
          "2017-07-05T00:00:00",
          "2017-07-06T00:00:00",
          "2017-07-07T00:00:00",
          "2017-07-08T00:00:00",
          "2017-07-09T00:00:00",
          "2017-07-10T00:00:00",
          "2017-07-11T00:00:00",
          "2017-07-12T00:00:00",
          "2017-07-13T00:00:00",
          "2017-07-14T00:00:00",
          "2017-07-15T00:00:00",
          "2017-07-16T00:00:00",
          "2017-07-17T00:00:00",
          "2017-07-18T00:00:00",
          "2017-07-19T00:00:00",
          "2017-07-20T00:00:00",
          "2017-07-21T00:00:00",
          "2017-07-22T00:00:00",
          "2017-07-23T00:00:00",
          "2017-07-24T00:00:00",
          "2017-07-25T00:00:00",
          "2017-07-26T00:00:00",
          "2017-07-27T00:00:00",
          "2017-07-28T00:00:00",
          "2017-07-29T00:00:00",
          "2017-07-30T00:00:00",
          "2017-07-31T00:00:00",
          "2017-08-01T00:00:00",
          "2017-08-02T00:00:00",
          "2017-08-03T00:00:00",
          "2017-08-04T00:00:00",
          "2017-08-05T00:00:00",
          "2017-08-06T00:00:00",
          "2017-08-07T00:00:00",
          "2017-08-08T00:00:00",
          "2017-08-09T00:00:00",
          "2017-08-10T00:00:00",
          "2017-08-11T00:00:00",
          "2017-08-12T00:00:00",
          "2017-08-13T00:00:00",
          "2017-08-14T00:00:00",
          "2017-08-15T00:00:00"
         ],
         "y": [
          10133.489,
          10178.796,
          10160.443,
          8158.4980319999995,
          7365.076,
          7404.643,
          7078.705,
          8357.507005,
          8000.74101,
          8204.108,
          7133.101,
          6943.25199,
          6962.367,
          6437.704,
          7817.022,
          7684.493,
          7266.325,
          5991.7119999999995,
          7113.233,
          6691.148,
          6081.20299,
          8166.57598,
          7438.072,
          8029.286,
          6953.156,
          6400.866995,
          6775.02,
          8966.921,
          10629.529989999999,
          11731.621,
          10201.088,
          10326.84901,
          8325.791,
          8859.32602,
          7110.242005,
          8235.365,
          8522.22,
          8235.228,
          7012.697,
          6792.053004,
          6392.093,
          6743.099,
          6569.752,
          6572.90599,
          6996.652,
          6933.045
         ]
        },
        {
         "marker": {
          "color": "green"
         },
         "name": "Store 13",
         "type": "bar",
         "x": [
          "2017-07-01T00:00:00",
          "2017-07-02T00:00:00",
          "2017-07-03T00:00:00",
          "2017-07-04T00:00:00",
          "2017-07-05T00:00:00",
          "2017-07-06T00:00:00",
          "2017-07-07T00:00:00",
          "2017-07-08T00:00:00",
          "2017-07-09T00:00:00",
          "2017-07-10T00:00:00",
          "2017-07-11T00:00:00",
          "2017-07-12T00:00:00",
          "2017-07-13T00:00:00",
          "2017-07-14T00:00:00",
          "2017-07-15T00:00:00",
          "2017-07-16T00:00:00",
          "2017-07-17T00:00:00",
          "2017-07-18T00:00:00",
          "2017-07-19T00:00:00",
          "2017-07-20T00:00:00",
          "2017-07-21T00:00:00",
          "2017-07-22T00:00:00",
          "2017-07-23T00:00:00",
          "2017-07-24T00:00:00",
          "2017-07-25T00:00:00",
          "2017-07-26T00:00:00",
          "2017-07-27T00:00:00",
          "2017-07-28T00:00:00",
          "2017-07-29T00:00:00",
          "2017-07-30T00:00:00",
          "2017-07-31T00:00:00",
          "2017-08-01T00:00:00",
          "2017-08-02T00:00:00",
          "2017-08-03T00:00:00",
          "2017-08-04T00:00:00",
          "2017-08-05T00:00:00",
          "2017-08-06T00:00:00",
          "2017-08-07T00:00:00",
          "2017-08-08T00:00:00",
          "2017-08-09T00:00:00",
          "2017-08-10T00:00:00",
          "2017-08-11T00:00:00",
          "2017-08-12T00:00:00",
          "2017-08-13T00:00:00",
          "2017-08-14T00:00:00",
          "2017-08-15T00:00:00"
         ],
         "y": [
          11021.24799,
          8916.759,
          8462.423,
          6799.194,
          6783.72901,
          6147.134008,
          5933.891,
          9389.172,
          6340.539,
          6814.99101,
          6458.095,
          5235.505999999999,
          5139.398,
          6041.00699,
          7823.03301,
          5155.484,
          6221.656,
          5846.26701,
          5051.13299,
          6047.327,
          6642.855,
          7653.701,
          5870.199004,
          6656.60301,
          6064.653,
          4715.713,
          6376.925,
          7259.398996,
          8578.701,
          7373.789005,
          10792.436,
          8082.41,
          8867.736,
          6838.812,
          7504.921,
          9422.67001,
          6563.625,
          8116.808,
          6301.54101,
          5635.755,
          5454.681,
          6217.257,
          7541.866,
          5077.408995,
          6202.934,
          6301.05101
         ]
        },
        {
         "marker": {
          "color": "purple"
         },
         "name": "Store 14",
         "type": "bar",
         "x": [
          "2017-07-01T00:00:00",
          "2017-07-02T00:00:00",
          "2017-07-03T00:00:00",
          "2017-07-04T00:00:00",
          "2017-07-05T00:00:00",
          "2017-07-06T00:00:00",
          "2017-07-07T00:00:00",
          "2017-07-08T00:00:00",
          "2017-07-09T00:00:00",
          "2017-07-10T00:00:00",
          "2017-07-11T00:00:00",
          "2017-07-12T00:00:00",
          "2017-07-13T00:00:00",
          "2017-07-14T00:00:00",
          "2017-07-15T00:00:00",
          "2017-07-16T00:00:00",
          "2017-07-17T00:00:00",
          "2017-07-18T00:00:00",
          "2017-07-19T00:00:00",
          "2017-07-20T00:00:00",
          "2017-07-21T00:00:00",
          "2017-07-22T00:00:00",
          "2017-07-23T00:00:00",
          "2017-07-24T00:00:00",
          "2017-07-25T00:00:00",
          "2017-07-26T00:00:00",
          "2017-07-27T00:00:00",
          "2017-07-28T00:00:00",
          "2017-07-29T00:00:00",
          "2017-07-30T00:00:00",
          "2017-07-31T00:00:00",
          "2017-08-01T00:00:00",
          "2017-08-02T00:00:00",
          "2017-08-03T00:00:00",
          "2017-08-04T00:00:00",
          "2017-08-05T00:00:00",
          "2017-08-06T00:00:00",
          "2017-08-07T00:00:00",
          "2017-08-08T00:00:00",
          "2017-08-09T00:00:00",
          "2017-08-10T00:00:00",
          "2017-08-11T00:00:00",
          "2017-08-12T00:00:00",
          "2017-08-13T00:00:00",
          "2017-08-14T00:00:00",
          "2017-08-15T00:00:00"
         ],
         "y": [
          11807.214,
          7709.695,
          8716.178,
          8202.325,
          8189.981,
          7254.68205,
          7859.321,
          10096.36599,
          7128.554,
          7763.738,
          7828.151,
          7761.071996,
          6657.89498,
          7557.393,
          9354.63698,
          6842.894,
          7792.124,
          7599.876,
          6163.388,
          7054.469,
          7072.398999999999,
          8825.809,
          6994.095,
          7635.976,
          7321.911,
          5608.834,
          10103.41898,
          8990.66901,
          12961.233,
          11130.463,
          10421.614,
          10169.884,
          11291.051,
          11763.169,
          7641.085,
          10965.952004,
          7195.804,
          7227.518,
          7601.683008,
          6572.342,
          6387.479,
          7463.022,
          8952.45,
          6250.309,
          7402.047,
          9342.732
         ]
        },
        {
         "marker": {
          "color": "orange"
         },
         "name": "Store 15",
         "type": "bar",
         "x": [
          "2017-07-01T00:00:00",
          "2017-07-02T00:00:00",
          "2017-07-03T00:00:00",
          "2017-07-04T00:00:00",
          "2017-07-05T00:00:00",
          "2017-07-06T00:00:00",
          "2017-07-07T00:00:00",
          "2017-07-08T00:00:00",
          "2017-07-09T00:00:00",
          "2017-07-10T00:00:00",
          "2017-07-11T00:00:00",
          "2017-07-12T00:00:00",
          "2017-07-13T00:00:00",
          "2017-07-14T00:00:00",
          "2017-07-15T00:00:00",
          "2017-07-16T00:00:00",
          "2017-07-17T00:00:00",
          "2017-07-18T00:00:00",
          "2017-07-19T00:00:00",
          "2017-07-20T00:00:00",
          "2017-07-21T00:00:00",
          "2017-07-22T00:00:00",
          "2017-07-23T00:00:00",
          "2017-07-24T00:00:00",
          "2017-07-25T00:00:00",
          "2017-07-26T00:00:00",
          "2017-07-27T00:00:00",
          "2017-07-28T00:00:00",
          "2017-07-29T00:00:00",
          "2017-07-30T00:00:00",
          "2017-07-31T00:00:00",
          "2017-08-01T00:00:00",
          "2017-08-02T00:00:00",
          "2017-08-03T00:00:00",
          "2017-08-04T00:00:00",
          "2017-08-05T00:00:00",
          "2017-08-06T00:00:00",
          "2017-08-07T00:00:00",
          "2017-08-08T00:00:00",
          "2017-08-09T00:00:00",
          "2017-08-10T00:00:00",
          "2017-08-11T00:00:00",
          "2017-08-12T00:00:00",
          "2017-08-13T00:00:00",
          "2017-08-14T00:00:00",
          "2017-08-15T00:00:00"
         ],
         "y": [
          9147.354,
          8207.749,
          9324.99,
          8760.808,
          6975.654,
          8361.816,
          7846.4529999999995,
          8268.128004,
          7553.561,
          8879.414,
          8244.772,
          7327.44901,
          7342.26299,
          7096.874,
          7551.952,
          6233.229,
          8216.86,
          7506.562,
          7291.637,
          8124.118,
          7522.4,
          7721.445,
          6209.414,
          7406.027,
          7945.895995,
          6175.617,
          6869.364,
          7972.580004,
          7691.604,
          6436.973,
          9322.904989999999,
          9851.77001,
          8926.555,
          8920.652,
          7536.224,
          7949.066,
          6525.519,
          9530.24899,
          8147.768,
          6900.39,
          7352.875,
          5872.674,
          6530.759004,
          5974.336,
          7975.325,
          7946.4310000000005
         ]
        },
        {
         "marker": {
          "color": "yellow"
         },
         "name": "Store 16",
         "type": "bar",
         "x": [
          "2017-07-01T00:00:00",
          "2017-07-02T00:00:00",
          "2017-07-03T00:00:00",
          "2017-07-04T00:00:00",
          "2017-07-05T00:00:00",
          "2017-07-06T00:00:00",
          "2017-07-07T00:00:00",
          "2017-07-08T00:00:00",
          "2017-07-09T00:00:00",
          "2017-07-10T00:00:00",
          "2017-07-11T00:00:00",
          "2017-07-12T00:00:00",
          "2017-07-13T00:00:00",
          "2017-07-14T00:00:00",
          "2017-07-15T00:00:00",
          "2017-07-16T00:00:00",
          "2017-07-17T00:00:00",
          "2017-07-18T00:00:00",
          "2017-07-19T00:00:00",
          "2017-07-20T00:00:00",
          "2017-07-21T00:00:00",
          "2017-07-22T00:00:00",
          "2017-07-23T00:00:00",
          "2017-07-24T00:00:00",
          "2017-07-25T00:00:00",
          "2017-07-26T00:00:00",
          "2017-07-27T00:00:00",
          "2017-07-28T00:00:00",
          "2017-07-29T00:00:00",
          "2017-07-30T00:00:00",
          "2017-07-31T00:00:00",
          "2017-08-01T00:00:00",
          "2017-08-02T00:00:00",
          "2017-08-03T00:00:00",
          "2017-08-04T00:00:00",
          "2017-08-05T00:00:00",
          "2017-08-06T00:00:00",
          "2017-08-07T00:00:00",
          "2017-08-08T00:00:00",
          "2017-08-09T00:00:00",
          "2017-08-10T00:00:00",
          "2017-08-11T00:00:00",
          "2017-08-12T00:00:00",
          "2017-08-13T00:00:00",
          "2017-08-14T00:00:00",
          "2017-08-15T00:00:00"
         ],
         "y": [
          6845.293,
          7343.755,
          7041.512001,
          6894.898,
          6054.813,
          5830.539,
          7489.9920010000005,
          6770.175,
          11435.196002,
          6096.901,
          6125.478,
          4937.704003,
          6491.131,
          4841.445,
          5894.009,
          7962.402,
          6515.416004,
          6191.352,
          4486.133,
          4122.843,
          4341.941,
          6113.317,
          7750.809,
          5638.057996,
          5044.774996,
          7345.629,
          5571.361002,
          6182.145,
          6937.133,
          10729.075,
          6650.475,
          8339.601,
          7691.114,
          5944.932,
          6168.657,
          6829.734,
          8643.62,
          6734.312,
          5387.156001,
          4698.312,
          4818.115,
          6258.022,
          5324.916,
          6921.577,
          6696.121,
          7487.428
         ]
        },
        {
         "marker": {
          "color": "black"
         },
         "name": "Store 17",
         "type": "bar",
         "x": [
          "2017-07-01T00:00:00",
          "2017-07-02T00:00:00",
          "2017-07-03T00:00:00",
          "2017-07-04T00:00:00",
          "2017-07-05T00:00:00",
          "2017-07-06T00:00:00",
          "2017-07-07T00:00:00",
          "2017-07-08T00:00:00",
          "2017-07-09T00:00:00",
          "2017-07-10T00:00:00",
          "2017-07-11T00:00:00",
          "2017-07-12T00:00:00",
          "2017-07-13T00:00:00",
          "2017-07-14T00:00:00",
          "2017-07-15T00:00:00",
          "2017-07-16T00:00:00",
          "2017-07-17T00:00:00",
          "2017-07-18T00:00:00",
          "2017-07-19T00:00:00",
          "2017-07-20T00:00:00",
          "2017-07-21T00:00:00",
          "2017-07-22T00:00:00",
          "2017-07-23T00:00:00",
          "2017-07-24T00:00:00",
          "2017-07-25T00:00:00",
          "2017-07-26T00:00:00",
          "2017-07-27T00:00:00",
          "2017-07-28T00:00:00",
          "2017-07-29T00:00:00",
          "2017-07-30T00:00:00",
          "2017-07-31T00:00:00",
          "2017-08-01T00:00:00",
          "2017-08-02T00:00:00",
          "2017-08-03T00:00:00",
          "2017-08-04T00:00:00",
          "2017-08-05T00:00:00",
          "2017-08-06T00:00:00",
          "2017-08-07T00:00:00",
          "2017-08-08T00:00:00",
          "2017-08-09T00:00:00",
          "2017-08-10T00:00:00",
          "2017-08-11T00:00:00",
          "2017-08-12T00:00:00",
          "2017-08-13T00:00:00",
          "2017-08-14T00:00:00",
          "2017-08-15T00:00:00"
         ],
         "y": [
          18898.619,
          23258.868,
          16378.683,
          16329.452000000001,
          12732.143,
          11871.343,
          12108.946,
          15520.129,
          18612.07398,
          13855.097,
          13913.47702,
          11452.38,
          10545.918,
          10501.47899,
          14421.534,
          18588.715,
          13654.952,
          12845.07,
          12230.003,
          11542.121,
          10992.922,
          14654.24,
          17971.678,
          13684.822,
          14583.997,
          10573.286,
          9938.011,
          12279.412,
          15842.532,
          18534.34,
          16635.011,
          18151.536,
          13830.726,
          12420.18002,
          11076.715,
          14859.982,
          18772.474,
          13377.359,
          13001.6,
          10563.809000000001,
          10086.393,
          12458.913,
          13071.229,
          15051.575,
          13398.989,
          14123.768
         ]
        },
        {
         "marker": {
          "color": "brown"
         },
         "name": "Store 18",
         "type": "bar",
         "x": [
          "2017-07-01T00:00:00",
          "2017-07-02T00:00:00",
          "2017-07-03T00:00:00",
          "2017-07-04T00:00:00",
          "2017-07-05T00:00:00",
          "2017-07-06T00:00:00",
          "2017-07-07T00:00:00",
          "2017-07-08T00:00:00",
          "2017-07-09T00:00:00",
          "2017-07-10T00:00:00",
          "2017-07-11T00:00:00",
          "2017-07-12T00:00:00",
          "2017-07-13T00:00:00",
          "2017-07-14T00:00:00",
          "2017-07-15T00:00:00",
          "2017-07-16T00:00:00",
          "2017-07-17T00:00:00",
          "2017-07-18T00:00:00",
          "2017-07-19T00:00:00",
          "2017-07-20T00:00:00",
          "2017-07-21T00:00:00",
          "2017-07-22T00:00:00",
          "2017-07-23T00:00:00",
          "2017-07-24T00:00:00",
          "2017-07-25T00:00:00",
          "2017-07-26T00:00:00",
          "2017-07-27T00:00:00",
          "2017-07-28T00:00:00",
          "2017-07-29T00:00:00",
          "2017-07-30T00:00:00",
          "2017-07-31T00:00:00",
          "2017-08-01T00:00:00",
          "2017-08-02T00:00:00",
          "2017-08-03T00:00:00",
          "2017-08-04T00:00:00",
          "2017-08-05T00:00:00",
          "2017-08-06T00:00:00",
          "2017-08-07T00:00:00",
          "2017-08-08T00:00:00",
          "2017-08-09T00:00:00",
          "2017-08-10T00:00:00",
          "2017-08-11T00:00:00",
          "2017-08-12T00:00:00",
          "2017-08-13T00:00:00",
          "2017-08-14T00:00:00",
          "2017-08-15T00:00:00"
         ],
         "y": [
          15034.457,
          17247.664,
          12024.194,
          14563.856,
          9480.324,
          9266.828,
          8322.8359,
          12677.594000000001,
          14013.642,
          10192.029,
          12057.234,
          7637.683,
          9179.121000000001,
          7855.1630000000005,
          11991.753001000001,
          14435.419,
          9986.279,
          11491.004996,
          7675.778,
          8648.715,
          7138.043,
          11747.671,
          12425.346,
          9042.689998,
          11389.726,
          8064.104,
          7750.532,
          7193.728999999999,
          11699.701000000001,
          13019.26,
          9638.097,
          15213.572,
          9983.537002,
          9402.808,
          8168.732,
          12315.942,
          14996.363,
          9320.645001,
          10489.505992,
          7394.043,
          7091.266,
          7695.6320000000005,
          9387.130000000001,
          10975.753012,
          9054.7629995,
          11286.322
         ]
        },
        {
         "marker": {
          "color": "cyan"
         },
         "name": "Store 19",
         "type": "bar",
         "x": [
          "2017-07-01T00:00:00",
          "2017-07-02T00:00:00",
          "2017-07-03T00:00:00",
          "2017-07-04T00:00:00",
          "2017-07-05T00:00:00",
          "2017-07-06T00:00:00",
          "2017-07-07T00:00:00",
          "2017-07-08T00:00:00",
          "2017-07-09T00:00:00",
          "2017-07-10T00:00:00",
          "2017-07-11T00:00:00",
          "2017-07-12T00:00:00",
          "2017-07-13T00:00:00",
          "2017-07-14T00:00:00",
          "2017-07-15T00:00:00",
          "2017-07-16T00:00:00",
          "2017-07-17T00:00:00",
          "2017-07-18T00:00:00",
          "2017-07-19T00:00:00",
          "2017-07-20T00:00:00",
          "2017-07-21T00:00:00",
          "2017-07-22T00:00:00",
          "2017-07-23T00:00:00",
          "2017-07-24T00:00:00",
          "2017-07-25T00:00:00",
          "2017-07-26T00:00:00",
          "2017-07-27T00:00:00",
          "2017-07-28T00:00:00",
          "2017-07-29T00:00:00",
          "2017-07-30T00:00:00",
          "2017-07-31T00:00:00",
          "2017-08-01T00:00:00",
          "2017-08-02T00:00:00",
          "2017-08-03T00:00:00",
          "2017-08-04T00:00:00",
          "2017-08-05T00:00:00",
          "2017-08-06T00:00:00",
          "2017-08-07T00:00:00",
          "2017-08-08T00:00:00",
          "2017-08-09T00:00:00",
          "2017-08-10T00:00:00",
          "2017-08-11T00:00:00",
          "2017-08-12T00:00:00",
          "2017-08-13T00:00:00",
          "2017-08-14T00:00:00",
          "2017-08-15T00:00:00"
         ],
         "y": [
          15897.235,
          12267.041,
          10259.109,
          9528.224,
          7217.5,
          7829.11698,
          8535.860002,
          14336.822,
          8788.440996,
          9942.43803,
          7337.573,
          7301.021,
          6226.524,
          7850.9619999999995,
          12784.989,
          9072.264,
          8529.32801,
          7884.691,
          6793.937,
          7004.461,
          7417.742,
          12737.297,
          9767.298,
          9849.937002,
          7982.132996,
          7589.235996,
          7272.49699,
          10305.835995,
          16040.44,
          9543.812,
          10472.114,
          10077.47299,
          8664.226,
          7617.57399,
          9203.038,
          14180.506,
          8101.986,
          9805.426,
          9290.416,
          7746.639,
          7548.92799,
          9447.868,
          12417.232,
          7726.897,
          8926.945,
          9282.187
         ]
        },
        {
         "marker": {
          "color": "magenta"
         },
         "name": "Store 20",
         "type": "bar",
         "x": [
          "2017-07-01T00:00:00",
          "2017-07-02T00:00:00",
          "2017-07-03T00:00:00",
          "2017-07-04T00:00:00",
          "2017-07-05T00:00:00",
          "2017-07-06T00:00:00",
          "2017-07-07T00:00:00",
          "2017-07-08T00:00:00",
          "2017-07-09T00:00:00",
          "2017-07-10T00:00:00",
          "2017-07-11T00:00:00",
          "2017-07-12T00:00:00",
          "2017-07-13T00:00:00",
          "2017-07-14T00:00:00",
          "2017-07-15T00:00:00",
          "2017-07-16T00:00:00",
          "2017-07-17T00:00:00",
          "2017-07-18T00:00:00",
          "2017-07-19T00:00:00",
          "2017-07-20T00:00:00",
          "2017-07-21T00:00:00",
          "2017-07-22T00:00:00",
          "2017-07-23T00:00:00",
          "2017-07-24T00:00:00",
          "2017-07-25T00:00:00",
          "2017-07-26T00:00:00",
          "2017-07-27T00:00:00",
          "2017-07-28T00:00:00",
          "2017-07-29T00:00:00",
          "2017-07-30T00:00:00",
          "2017-07-31T00:00:00",
          "2017-08-01T00:00:00",
          "2017-08-02T00:00:00",
          "2017-08-03T00:00:00",
          "2017-08-04T00:00:00",
          "2017-08-05T00:00:00",
          "2017-08-06T00:00:00",
          "2017-08-07T00:00:00",
          "2017-08-08T00:00:00",
          "2017-08-09T00:00:00",
          "2017-08-10T00:00:00",
          "2017-08-11T00:00:00",
          "2017-08-12T00:00:00",
          "2017-08-13T00:00:00",
          "2017-08-14T00:00:00",
          "2017-08-15T00:00:00"
         ],
         "y": [
          25256.251,
          31751.772098,
          15933.883,
          15488.328005,
          12643.79803,
          13399.291969999998,
          13694.386,
          19164.08,
          24037.873000000003,
          13484.776,
          12809.33,
          11811.54799,
          12765.03601,
          12095.91899,
          18210.742999000002,
          23225.565,
          13240.946999,
          12560.737000000001,
          10673.934,
          13264.776,
          12142.5679998,
          17265.474,
          23422.169899,
          12103.482,
          10850.1,
          10649.588,
          12047.7030003,
          16325.976,
          24805.531004,
          30414.219896,
          19597.333003,
          23161.023,
          16702.462,
          17557.427017,
          17355.6,
          21959.597,
          25825.267979,
          15849.60803,
          14989.031996,
          11922.138,
          14819.35003,
          18494.349,
          17593.222019,
          22210.995,
          16095.640002,
          14739.689
         ]
        },
        {
         "marker": {
          "color": "blue"
         },
         "name": "Store 21",
         "type": "bar",
         "x": [
          "2017-07-01T00:00:00",
          "2017-07-02T00:00:00",
          "2017-07-03T00:00:00",
          "2017-07-04T00:00:00",
          "2017-07-05T00:00:00",
          "2017-07-06T00:00:00",
          "2017-07-07T00:00:00",
          "2017-07-08T00:00:00",
          "2017-07-09T00:00:00",
          "2017-07-10T00:00:00",
          "2017-07-11T00:00:00",
          "2017-07-12T00:00:00",
          "2017-07-13T00:00:00",
          "2017-07-14T00:00:00",
          "2017-07-15T00:00:00",
          "2017-07-16T00:00:00",
          "2017-07-17T00:00:00",
          "2017-07-18T00:00:00",
          "2017-07-19T00:00:00",
          "2017-07-20T00:00:00",
          "2017-07-21T00:00:00",
          "2017-07-22T00:00:00",
          "2017-07-23T00:00:00",
          "2017-07-24T00:00:00",
          "2017-07-25T00:00:00",
          "2017-07-26T00:00:00",
          "2017-07-27T00:00:00",
          "2017-07-28T00:00:00",
          "2017-07-29T00:00:00",
          "2017-07-30T00:00:00",
          "2017-07-31T00:00:00",
          "2017-08-01T00:00:00",
          "2017-08-02T00:00:00",
          "2017-08-03T00:00:00",
          "2017-08-04T00:00:00",
          "2017-08-05T00:00:00",
          "2017-08-06T00:00:00",
          "2017-08-07T00:00:00",
          "2017-08-08T00:00:00",
          "2017-08-09T00:00:00",
          "2017-08-10T00:00:00",
          "2017-08-11T00:00:00",
          "2017-08-12T00:00:00",
          "2017-08-13T00:00:00",
          "2017-08-14T00:00:00",
          "2017-08-15T00:00:00"
         ],
         "y": [
          17399.442,
          19011.57999,
          16787.138,
          15629.113000000001,
          11418.359,
          11849.15,
          9484.433,
          15010.17,
          22769.238,
          12069.027,
          14003.26,
          9073.196,
          8921.889,
          9444.068,
          13818.297,
          20421.431,
          14755.889,
          11888.969,
          8895.225,
          8001.3189999999995,
          9550.185,
          13101.447,
          19457.650999999998,
          13434.607,
          11434.626,
          10074.346,
          13082.996,
          13129.969,
          16996.273,
          25347.1781,
          16702.922010000002,
          19746.093999999997,
          15871.838,
          12011.784,
          12359.628035,
          17731.598,
          21696.256996,
          13757.034996,
          15146.45,
          10178.61102,
          9049.83,
          13442.332,
          12150.309,
          18442.57001,
          13558.108999999999,
          14117.960000000001
         ]
        },
        {
         "marker": {
          "color": "red"
         },
         "name": "Store 22",
         "type": "bar",
         "x": [
          "2017-07-01T00:00:00",
          "2017-07-02T00:00:00",
          "2017-07-03T00:00:00",
          "2017-07-04T00:00:00",
          "2017-07-05T00:00:00",
          "2017-07-06T00:00:00",
          "2017-07-07T00:00:00",
          "2017-07-08T00:00:00",
          "2017-07-09T00:00:00",
          "2017-07-10T00:00:00",
          "2017-07-11T00:00:00",
          "2017-07-12T00:00:00",
          "2017-07-13T00:00:00",
          "2017-07-14T00:00:00",
          "2017-07-15T00:00:00",
          "2017-07-16T00:00:00",
          "2017-07-17T00:00:00",
          "2017-07-18T00:00:00",
          "2017-07-19T00:00:00",
          "2017-07-20T00:00:00",
          "2017-07-21T00:00:00",
          "2017-07-22T00:00:00",
          "2017-07-23T00:00:00",
          "2017-07-24T00:00:00",
          "2017-07-25T00:00:00",
          "2017-07-26T00:00:00",
          "2017-07-27T00:00:00",
          "2017-07-28T00:00:00",
          "2017-07-29T00:00:00",
          "2017-07-30T00:00:00",
          "2017-07-31T00:00:00",
          "2017-08-01T00:00:00",
          "2017-08-02T00:00:00",
          "2017-08-03T00:00:00",
          "2017-08-04T00:00:00",
          "2017-08-05T00:00:00",
          "2017-08-06T00:00:00",
          "2017-08-07T00:00:00",
          "2017-08-08T00:00:00",
          "2017-08-09T00:00:00",
          "2017-08-10T00:00:00",
          "2017-08-11T00:00:00",
          "2017-08-12T00:00:00",
          "2017-08-13T00:00:00",
          "2017-08-14T00:00:00",
          "2017-08-15T00:00:00"
         ],
         "y": [
          9751.668995,
          9785.41601,
          8445.641,
          7104.86899,
          5794.78599,
          7427.77901,
          7004.864,
          7813.381,
          7344.642,
          6308.326,
          6738.651,
          5947.969996,
          6665.168004,
          6701.746,
          6840.55601,
          8040.42699,
          6875.862,
          5579.743,
          5373.832999,
          6214.68499,
          6243.017,
          6088.846,
          6759.243,
          7647.207,
          7077.916,
          5486.211995,
          6377.554,
          8659.226999999999,
          9081.662005,
          7426.102995,
          9903.814,
          8549.981,
          8160.075,
          8033.78,
          8733.335,
          6450.214,
          7034.96101,
          7316.467,
          6535.1939999999995,
          7224.04,
          7881.464,
          6350.38,
          8047.18799,
          7231.18199,
          7368.053,
          6917.78799
         ]
        },
        {
         "marker": {
          "color": "green"
         },
         "name": "Store 23",
         "type": "bar",
         "x": [
          "2017-07-01T00:00:00",
          "2017-07-02T00:00:00",
          "2017-07-03T00:00:00",
          "2017-07-04T00:00:00",
          "2017-07-05T00:00:00",
          "2017-07-06T00:00:00",
          "2017-07-07T00:00:00",
          "2017-07-08T00:00:00",
          "2017-07-09T00:00:00",
          "2017-07-10T00:00:00",
          "2017-07-11T00:00:00",
          "2017-07-12T00:00:00",
          "2017-07-13T00:00:00",
          "2017-07-14T00:00:00",
          "2017-07-15T00:00:00",
          "2017-07-16T00:00:00",
          "2017-07-17T00:00:00",
          "2017-07-18T00:00:00",
          "2017-07-19T00:00:00",
          "2017-07-20T00:00:00",
          "2017-07-21T00:00:00",
          "2017-07-22T00:00:00",
          "2017-07-23T00:00:00",
          "2017-07-24T00:00:00",
          "2017-07-25T00:00:00",
          "2017-07-26T00:00:00",
          "2017-07-27T00:00:00",
          "2017-07-28T00:00:00",
          "2017-07-29T00:00:00",
          "2017-07-30T00:00:00",
          "2017-07-31T00:00:00",
          "2017-08-01T00:00:00",
          "2017-08-02T00:00:00",
          "2017-08-03T00:00:00",
          "2017-08-04T00:00:00",
          "2017-08-05T00:00:00",
          "2017-08-06T00:00:00",
          "2017-08-07T00:00:00",
          "2017-08-08T00:00:00",
          "2017-08-09T00:00:00",
          "2017-08-10T00:00:00",
          "2017-08-11T00:00:00",
          "2017-08-12T00:00:00",
          "2017-08-13T00:00:00",
          "2017-08-14T00:00:00",
          "2017-08-15T00:00:00"
         ],
         "y": [
          9623.511,
          9904.893,
          8320.09802,
          7759.625,
          8642.586,
          8042.108,
          8000.438,
          7308.251,
          9288.889,
          7763.952,
          7184.04288,
          8329.257,
          6995.53897,
          7928.66202,
          8393.338,
          8485.638001,
          7778.191,
          7697.127,
          8404.997,
          6822.2970000000005,
          7895.007,
          9150.161,
          10174.12195,
          8004.157,
          7560.804,
          8056.759,
          6851.806996,
          7832.25,
          7855.963,
          9186.87198,
          7384.6060015,
          8315.182,
          9101.66902,
          7253.51599,
          7789.827,
          6731.709989999999,
          8091.103,
          7228.015,
          6983.896,
          8339.098,
          7576.411,
          7046.124,
          6180.085,
          7733.6,
          7260.081,
          7371.562
         ]
        },
        {
         "marker": {
          "color": "purple"
         },
         "name": "Store 24",
         "type": "bar",
         "x": [
          "2017-07-01T00:00:00",
          "2017-07-02T00:00:00",
          "2017-07-03T00:00:00",
          "2017-07-04T00:00:00",
          "2017-07-05T00:00:00",
          "2017-07-06T00:00:00",
          "2017-07-07T00:00:00",
          "2017-07-08T00:00:00",
          "2017-07-09T00:00:00",
          "2017-07-10T00:00:00",
          "2017-07-11T00:00:00",
          "2017-07-12T00:00:00",
          "2017-07-13T00:00:00",
          "2017-07-14T00:00:00",
          "2017-07-15T00:00:00",
          "2017-07-16T00:00:00",
          "2017-07-17T00:00:00",
          "2017-07-18T00:00:00",
          "2017-07-19T00:00:00",
          "2017-07-20T00:00:00",
          "2017-07-21T00:00:00",
          "2017-07-22T00:00:00",
          "2017-07-23T00:00:00",
          "2017-07-24T00:00:00",
          "2017-07-25T00:00:00",
          "2017-07-26T00:00:00",
          "2017-07-27T00:00:00",
          "2017-07-28T00:00:00",
          "2017-07-29T00:00:00",
          "2017-07-30T00:00:00",
          "2017-07-31T00:00:00",
          "2017-08-01T00:00:00",
          "2017-08-02T00:00:00",
          "2017-08-03T00:00:00",
          "2017-08-04T00:00:00",
          "2017-08-05T00:00:00",
          "2017-08-06T00:00:00",
          "2017-08-07T00:00:00",
          "2017-08-08T00:00:00",
          "2017-08-09T00:00:00",
          "2017-08-10T00:00:00",
          "2017-08-11T00:00:00",
          "2017-08-12T00:00:00",
          "2017-08-13T00:00:00",
          "2017-08-14T00:00:00",
          "2017-08-15T00:00:00"
         ],
         "y": [
          22292.785,
          20625.766,
          20007.109,
          16042.049004,
          20080.264,
          15098.003,
          19014.353,
          18942.591,
          18803.49,
          16215.748,
          15187.645,
          18957.355,
          12632.409,
          19645.993,
          20759.579,
          18819.73,
          16453.26402,
          15013.780001000001,
          19722.01997,
          17322.512996999998,
          18945.547002,
          17245.088,
          14313.325,
          14949.964001,
          16565.757,
          20513.962,
          14527.2689955,
          18989.646,
          21341.55001,
          18344.471,
          17994.8849,
          17353.78,
          21246.577,
          14572.832120000001,
          18600.191,
          20704.092799,
          17395.536995,
          16438.574,
          14703.083001,
          18269.358,
          13373.512,
          15814.103,
          15919.006,
          14466.330004,
          16061.688,
          15866.394995
         ]
        },
        {
         "marker": {
          "color": "orange"
         },
         "name": "Store 25",
         "type": "bar",
         "x": [
          "2017-07-01T00:00:00",
          "2017-07-02T00:00:00",
          "2017-07-03T00:00:00",
          "2017-07-04T00:00:00",
          "2017-07-05T00:00:00",
          "2017-07-06T00:00:00",
          "2017-07-07T00:00:00",
          "2017-07-08T00:00:00",
          "2017-07-09T00:00:00",
          "2017-07-10T00:00:00",
          "2017-07-11T00:00:00",
          "2017-07-12T00:00:00",
          "2017-07-13T00:00:00",
          "2017-07-14T00:00:00",
          "2017-07-15T00:00:00",
          "2017-07-16T00:00:00",
          "2017-07-17T00:00:00",
          "2017-07-18T00:00:00",
          "2017-07-19T00:00:00",
          "2017-07-20T00:00:00",
          "2017-07-21T00:00:00",
          "2017-07-22T00:00:00",
          "2017-07-23T00:00:00",
          "2017-07-24T00:00:00",
          "2017-07-25T00:00:00",
          "2017-07-26T00:00:00",
          "2017-07-27T00:00:00",
          "2017-07-28T00:00:00",
          "2017-07-29T00:00:00",
          "2017-07-30T00:00:00",
          "2017-07-31T00:00:00",
          "2017-08-01T00:00:00",
          "2017-08-02T00:00:00",
          "2017-08-03T00:00:00",
          "2017-08-04T00:00:00",
          "2017-08-05T00:00:00",
          "2017-08-06T00:00:00",
          "2017-08-07T00:00:00",
          "2017-08-08T00:00:00",
          "2017-08-09T00:00:00",
          "2017-08-10T00:00:00",
          "2017-08-11T00:00:00",
          "2017-08-12T00:00:00",
          "2017-08-13T00:00:00",
          "2017-08-14T00:00:00",
          "2017-08-15T00:00:00"
         ],
         "y": [
          10672.455002,
          8452.498,
          7227.78,
          5232.483999,
          8283.118,
          6279.385,
          8190.9439999999995,
          8497.889,
          7384.9619999999995,
          5537.375,
          4645.235,
          7718.607001,
          5951.397,
          8899.606,
          8805.529,
          7969.4,
          6412.521001,
          6160.537,
          8160.746,
          6636.86799,
          9902.249,
          14525.664,
          13027.801,
          7059.936,
          6433.769,
          8075.49,
          6189.677,
          8492.583998,
          9580.303002,
          8449.234,
          7451.672998,
          7937.218,
          10136.32701,
          6873.802,
          9276.890024,
          9910.015,
          8064.109,
          7527.348,
          6025.029,
          9707.858,
          10781.434000000001,
          22800.841,
          15090.752980000001,
          8570.598003,
          8244.8541,
          6522.7880000000005
         ]
        },
        {
         "marker": {
          "color": "yellow"
         },
         "name": "Store 26",
         "type": "bar",
         "x": [
          "2017-07-01T00:00:00",
          "2017-07-02T00:00:00",
          "2017-07-03T00:00:00",
          "2017-07-04T00:00:00",
          "2017-07-05T00:00:00",
          "2017-07-06T00:00:00",
          "2017-07-07T00:00:00",
          "2017-07-08T00:00:00",
          "2017-07-09T00:00:00",
          "2017-07-10T00:00:00",
          "2017-07-11T00:00:00",
          "2017-07-12T00:00:00",
          "2017-07-13T00:00:00",
          "2017-07-14T00:00:00",
          "2017-07-15T00:00:00",
          "2017-07-16T00:00:00",
          "2017-07-17T00:00:00",
          "2017-07-18T00:00:00",
          "2017-07-19T00:00:00",
          "2017-07-20T00:00:00",
          "2017-07-21T00:00:00",
          "2017-07-22T00:00:00",
          "2017-07-23T00:00:00",
          "2017-07-24T00:00:00",
          "2017-07-25T00:00:00",
          "2017-07-26T00:00:00",
          "2017-07-27T00:00:00",
          "2017-07-28T00:00:00",
          "2017-07-29T00:00:00",
          "2017-07-30T00:00:00",
          "2017-07-31T00:00:00",
          "2017-08-01T00:00:00",
          "2017-08-02T00:00:00",
          "2017-08-03T00:00:00",
          "2017-08-04T00:00:00",
          "2017-08-05T00:00:00",
          "2017-08-06T00:00:00",
          "2017-08-07T00:00:00",
          "2017-08-08T00:00:00",
          "2017-08-09T00:00:00",
          "2017-08-10T00:00:00",
          "2017-08-11T00:00:00",
          "2017-08-12T00:00:00",
          "2017-08-13T00:00:00",
          "2017-08-14T00:00:00",
          "2017-08-15T00:00:00"
         ],
         "y": [
          8286.383,
          9500.17,
          6562.759,
          4023.322,
          4853.54,
          3076.720002,
          4303.69,
          5254.9220000000005,
          6379.14702,
          3954.6800000000003,
          3152.893,
          4077.57401,
          2728.924,
          4419.935001,
          6789.1,
          7995.994,
          4941.188,
          4630.621,
          5518.151,
          3947.96898,
          4622.978,
          5338.98,
          6103.664,
          6843.5689999999995,
          4627.981,
          4344.755,
          3494.219,
          4739.752,
          6604.94297,
          7626.826002,
          5616.422,
          8018.45301,
          7044.894,
          3044.831,
          4659.675,
          5122.6269999999995,
          6892.526,
          3925.8379999999997,
          3136.371,
          3457.730995,
          3012.249996,
          4843.605,
          3704.628,
          5172.998,
          3255.131,
          3694.897
         ]
        },
        {
         "marker": {
          "color": "black"
         },
         "name": "Store 27",
         "type": "bar",
         "x": [
          "2017-07-01T00:00:00",
          "2017-07-02T00:00:00",
          "2017-07-03T00:00:00",
          "2017-07-04T00:00:00",
          "2017-07-05T00:00:00",
          "2017-07-06T00:00:00",
          "2017-07-07T00:00:00",
          "2017-07-08T00:00:00",
          "2017-07-09T00:00:00",
          "2017-07-10T00:00:00",
          "2017-07-11T00:00:00",
          "2017-07-12T00:00:00",
          "2017-07-13T00:00:00",
          "2017-07-14T00:00:00",
          "2017-07-15T00:00:00",
          "2017-07-16T00:00:00",
          "2017-07-17T00:00:00",
          "2017-07-18T00:00:00",
          "2017-07-19T00:00:00",
          "2017-07-20T00:00:00",
          "2017-07-21T00:00:00",
          "2017-07-22T00:00:00",
          "2017-07-23T00:00:00",
          "2017-07-24T00:00:00",
          "2017-07-25T00:00:00",
          "2017-07-26T00:00:00",
          "2017-07-27T00:00:00",
          "2017-07-28T00:00:00",
          "2017-07-29T00:00:00",
          "2017-07-30T00:00:00",
          "2017-07-31T00:00:00",
          "2017-08-01T00:00:00",
          "2017-08-02T00:00:00",
          "2017-08-03T00:00:00",
          "2017-08-04T00:00:00",
          "2017-08-05T00:00:00",
          "2017-08-06T00:00:00",
          "2017-08-07T00:00:00",
          "2017-08-08T00:00:00",
          "2017-08-09T00:00:00",
          "2017-08-10T00:00:00",
          "2017-08-11T00:00:00",
          "2017-08-12T00:00:00",
          "2017-08-13T00:00:00",
          "2017-08-14T00:00:00",
          "2017-08-15T00:00:00"
         ],
         "y": [
          19191.468,
          25746.914,
          16688.949,
          12420.17699,
          16299.32,
          11005.93,
          12454.866003,
          15386.33398,
          23047.255996,
          16001.725,
          11116.810015,
          15166.87398,
          9818.052,
          11696.252002,
          17685.223,
          25094.717,
          15409.861,
          12893.06297,
          15265.015,
          10710.369004,
          11554.08398,
          14866.263,
          18300.862,
          21019.854,
          13775.68188,
          15449.153,
          10624.732,
          11914.659,
          17779.7,
          24531.335,
          16201.266,
          16078.957999999999,
          17000.569,
          10330.232,
          11782.27602,
          16046.296,
          22160.384,
          14759.269980000001,
          10470.514,
          12938.37399,
          10164.649996,
          16296.346016,
          14128.2769995,
          19062.53502,
          15222.067000000001,
          13377.979000000001
         ]
        },
        {
         "marker": {
          "color": "brown"
         },
         "name": "Store 28",
         "type": "bar",
         "x": [
          "2017-07-01T00:00:00",
          "2017-07-02T00:00:00",
          "2017-07-03T00:00:00",
          "2017-07-04T00:00:00",
          "2017-07-05T00:00:00",
          "2017-07-06T00:00:00",
          "2017-07-07T00:00:00",
          "2017-07-08T00:00:00",
          "2017-07-09T00:00:00",
          "2017-07-10T00:00:00",
          "2017-07-11T00:00:00",
          "2017-07-12T00:00:00",
          "2017-07-13T00:00:00",
          "2017-07-14T00:00:00",
          "2017-07-15T00:00:00",
          "2017-07-16T00:00:00",
          "2017-07-17T00:00:00",
          "2017-07-18T00:00:00",
          "2017-07-19T00:00:00",
          "2017-07-20T00:00:00",
          "2017-07-21T00:00:00",
          "2017-07-22T00:00:00",
          "2017-07-23T00:00:00",
          "2017-07-24T00:00:00",
          "2017-07-25T00:00:00",
          "2017-07-26T00:00:00",
          "2017-07-27T00:00:00",
          "2017-07-28T00:00:00",
          "2017-07-29T00:00:00",
          "2017-07-30T00:00:00",
          "2017-07-31T00:00:00",
          "2017-08-01T00:00:00",
          "2017-08-02T00:00:00",
          "2017-08-03T00:00:00",
          "2017-08-04T00:00:00",
          "2017-08-05T00:00:00",
          "2017-08-06T00:00:00",
          "2017-08-07T00:00:00",
          "2017-08-08T00:00:00",
          "2017-08-09T00:00:00",
          "2017-08-10T00:00:00",
          "2017-08-11T00:00:00",
          "2017-08-12T00:00:00",
          "2017-08-13T00:00:00",
          "2017-08-14T00:00:00",
          "2017-08-15T00:00:00"
         ],
         "y": [
          20928.613,
          30016.085000000003,
          16234.659,
          17800.297,
          11179.807,
          12073.361,
          10224.512002,
          16719.288,
          23535.48602,
          14007.448,
          16115.666000000001,
          10120.796998,
          9721.083,
          11330.09702,
          18806.221,
          24829.983,
          13684.318,
          15280.973,
          10722.316,
          10453.82497,
          9069.210000000001,
          13183.507,
          16183.395,
          18854.609,
          14555.48999,
          9085.982996,
          10352.571,
          12557.68701,
          16681.389,
          24232.528,
          15377.421,
          23462.141,
          15161.051,
          13367.486,
          11707.369999999999,
          15517.76499,
          27352.884,
          12869.045,
          13944.769,
          9048.599,
          10303.536,
          16005.918,
          21334.587,
          24170.705,
          13965.49,
          16879.198
         ]
        },
        {
         "marker": {
          "color": "cyan"
         },
         "name": "Store 29",
         "type": "bar",
         "x": [
          "2017-07-01T00:00:00",
          "2017-07-02T00:00:00",
          "2017-07-03T00:00:00",
          "2017-07-04T00:00:00",
          "2017-07-05T00:00:00",
          "2017-07-06T00:00:00",
          "2017-07-07T00:00:00",
          "2017-07-08T00:00:00",
          "2017-07-09T00:00:00",
          "2017-07-10T00:00:00",
          "2017-07-11T00:00:00",
          "2017-07-12T00:00:00",
          "2017-07-13T00:00:00",
          "2017-07-14T00:00:00",
          "2017-07-15T00:00:00",
          "2017-07-16T00:00:00",
          "2017-07-17T00:00:00",
          "2017-07-18T00:00:00",
          "2017-07-19T00:00:00",
          "2017-07-20T00:00:00",
          "2017-07-21T00:00:00",
          "2017-07-22T00:00:00",
          "2017-07-23T00:00:00",
          "2017-07-24T00:00:00",
          "2017-07-25T00:00:00",
          "2017-07-26T00:00:00",
          "2017-07-27T00:00:00",
          "2017-07-28T00:00:00",
          "2017-07-29T00:00:00",
          "2017-07-30T00:00:00",
          "2017-07-31T00:00:00",
          "2017-08-01T00:00:00",
          "2017-08-02T00:00:00",
          "2017-08-03T00:00:00",
          "2017-08-04T00:00:00",
          "2017-08-05T00:00:00",
          "2017-08-06T00:00:00",
          "2017-08-07T00:00:00",
          "2017-08-08T00:00:00",
          "2017-08-09T00:00:00",
          "2017-08-10T00:00:00",
          "2017-08-11T00:00:00",
          "2017-08-12T00:00:00",
          "2017-08-13T00:00:00",
          "2017-08-14T00:00:00",
          "2017-08-15T00:00:00"
         ],
         "y": [
          17128.861,
          23124.154,
          12898.7,
          16851.44699,
          9827.772,
          9080.345,
          9270.036,
          14341.792,
          18759.485,
          11368.04,
          12114.369999999999,
          9297.749,
          8823.910998,
          8844.838,
          13278.402004,
          21564.805,
          11584.2301,
          12984.287,
          9532.582,
          9451.25601,
          8002.055,
          11165.598005,
          12154.197,
          14771.677,
          11566.231004000001,
          9163.655,
          9848.443996,
          9677.733,
          14857.011,
          21648.655,
          13461.052,
          18440.962,
          11737.600004,
          12629.11499,
          10659.453000000001,
          14657.987000000001,
          20553.804,
          11736.353,
          13294.473,
          9438.42,
          8573.689,
          12465.43,
          12067.413,
          17199.181,
          10766.475,
          15659.655
         ]
        },
        {
         "marker": {
          "color": "magenta"
         },
         "name": "Store 30",
         "type": "bar",
         "x": [
          "2017-07-01T00:00:00",
          "2017-07-02T00:00:00",
          "2017-07-03T00:00:00",
          "2017-07-04T00:00:00",
          "2017-07-05T00:00:00",
          "2017-07-06T00:00:00",
          "2017-07-07T00:00:00",
          "2017-07-08T00:00:00",
          "2017-07-09T00:00:00",
          "2017-07-10T00:00:00",
          "2017-07-11T00:00:00",
          "2017-07-12T00:00:00",
          "2017-07-13T00:00:00",
          "2017-07-14T00:00:00",
          "2017-07-15T00:00:00",
          "2017-07-16T00:00:00",
          "2017-07-17T00:00:00",
          "2017-07-18T00:00:00",
          "2017-07-19T00:00:00",
          "2017-07-20T00:00:00",
          "2017-07-21T00:00:00",
          "2017-07-22T00:00:00",
          "2017-07-23T00:00:00",
          "2017-07-24T00:00:00",
          "2017-07-25T00:00:00",
          "2017-07-26T00:00:00",
          "2017-07-27T00:00:00",
          "2017-07-28T00:00:00",
          "2017-07-29T00:00:00",
          "2017-07-30T00:00:00",
          "2017-07-31T00:00:00",
          "2017-08-01T00:00:00",
          "2017-08-02T00:00:00",
          "2017-08-03T00:00:00",
          "2017-08-04T00:00:00",
          "2017-08-05T00:00:00",
          "2017-08-06T00:00:00",
          "2017-08-07T00:00:00",
          "2017-08-08T00:00:00",
          "2017-08-09T00:00:00",
          "2017-08-10T00:00:00",
          "2017-08-11T00:00:00",
          "2017-08-12T00:00:00",
          "2017-08-13T00:00:00",
          "2017-08-14T00:00:00",
          "2017-08-15T00:00:00"
         ],
         "y": [
          5916.166996,
          7862.293,
          6051.174998,
          7129.222994,
          4547.479,
          5052.984,
          6398.835,
          6790.83,
          5667.657002,
          15979.329,
          8731.795,
          4693.057,
          7960.58,
          5524.584,
          5764.344002,
          6523.108,
          6440.571,
          6348.431,
          5699.169978,
          5152.746,
          4846.673,
          9825.698998,
          4802.612,
          5191.265,
          6231.964996,
          4947.739,
          11637.966,
          5951.9969980000005,
          6311.99099,
          6826.3099999999995,
          6150.221,
          10509.944,
          7518.6070039999995,
          7581.166,
          4583.144,
          6010.373,
          6812.025,
          6659.054,
          6167.597,
          5320.038,
          5376.488,
          5108.853,
          5618.865,
          5848.803,
          5287.544,
          10982.769
         ]
        },
        {
         "marker": {
          "color": "blue"
         },
         "name": "Store 31",
         "type": "bar",
         "x": [
          "2017-07-01T00:00:00",
          "2017-07-02T00:00:00",
          "2017-07-03T00:00:00",
          "2017-07-04T00:00:00",
          "2017-07-05T00:00:00",
          "2017-07-06T00:00:00",
          "2017-07-07T00:00:00",
          "2017-07-08T00:00:00",
          "2017-07-09T00:00:00",
          "2017-07-10T00:00:00",
          "2017-07-11T00:00:00",
          "2017-07-12T00:00:00",
          "2017-07-13T00:00:00",
          "2017-07-14T00:00:00",
          "2017-07-15T00:00:00",
          "2017-07-16T00:00:00",
          "2017-07-17T00:00:00",
          "2017-07-18T00:00:00",
          "2017-07-19T00:00:00",
          "2017-07-20T00:00:00",
          "2017-07-21T00:00:00",
          "2017-07-22T00:00:00",
          "2017-07-23T00:00:00",
          "2017-07-24T00:00:00",
          "2017-07-25T00:00:00",
          "2017-07-26T00:00:00",
          "2017-07-27T00:00:00",
          "2017-07-28T00:00:00",
          "2017-07-29T00:00:00",
          "2017-07-30T00:00:00",
          "2017-07-31T00:00:00",
          "2017-08-01T00:00:00",
          "2017-08-02T00:00:00",
          "2017-08-03T00:00:00",
          "2017-08-04T00:00:00",
          "2017-08-05T00:00:00",
          "2017-08-06T00:00:00",
          "2017-08-07T00:00:00",
          "2017-08-08T00:00:00",
          "2017-08-09T00:00:00",
          "2017-08-10T00:00:00",
          "2017-08-11T00:00:00",
          "2017-08-12T00:00:00",
          "2017-08-13T00:00:00",
          "2017-08-14T00:00:00",
          "2017-08-15T00:00:00"
         ],
         "y": [
          20898.365,
          22108.661,
          14065.917998,
          15025.929,
          11032.96602,
          11138.324,
          11479.476999999999,
          14126.67,
          22650.676,
          12840.871000000001,
          14091.839,
          9617.117972,
          8934.942988,
          10858.368,
          14947.736,
          19580.293,
          15368.232,
          18608.351,
          10761.736996,
          11403.617,
          11326.89599,
          13206.920995,
          17269.031,
          12222.57002,
          15244.628,
          9545.869995,
          13735.935,
          12791.694,
          17991.785,
          20443.126,
          13946.659,
          21631.132999999998,
          15398.333,
          12947.146004,
          13809.856,
          16313.811020000001,
          20283.756,
          13404.024000000001,
          14287.9311,
          11636.179,
          10547.80999,
          14356.66598,
          13026.615,
          16344.36202,
          12619.223,
          15469.877
         ]
        },
        {
         "marker": {
          "color": "red"
         },
         "name": "Store 32",
         "type": "bar",
         "x": [
          "2017-07-01T00:00:00",
          "2017-07-02T00:00:00",
          "2017-07-03T00:00:00",
          "2017-07-04T00:00:00",
          "2017-07-05T00:00:00",
          "2017-07-06T00:00:00",
          "2017-07-07T00:00:00",
          "2017-07-08T00:00:00",
          "2017-07-09T00:00:00",
          "2017-07-10T00:00:00",
          "2017-07-11T00:00:00",
          "2017-07-12T00:00:00",
          "2017-07-13T00:00:00",
          "2017-07-14T00:00:00",
          "2017-07-15T00:00:00",
          "2017-07-16T00:00:00",
          "2017-07-17T00:00:00",
          "2017-07-18T00:00:00",
          "2017-07-19T00:00:00",
          "2017-07-20T00:00:00",
          "2017-07-21T00:00:00",
          "2017-07-22T00:00:00",
          "2017-07-23T00:00:00",
          "2017-07-24T00:00:00",
          "2017-07-25T00:00:00",
          "2017-07-26T00:00:00",
          "2017-07-27T00:00:00",
          "2017-07-28T00:00:00",
          "2017-07-29T00:00:00",
          "2017-07-30T00:00:00",
          "2017-07-31T00:00:00",
          "2017-08-01T00:00:00",
          "2017-08-02T00:00:00",
          "2017-08-03T00:00:00",
          "2017-08-04T00:00:00",
          "2017-08-05T00:00:00",
          "2017-08-06T00:00:00",
          "2017-08-07T00:00:00",
          "2017-08-08T00:00:00",
          "2017-08-09T00:00:00",
          "2017-08-10T00:00:00",
          "2017-08-11T00:00:00",
          "2017-08-12T00:00:00",
          "2017-08-13T00:00:00",
          "2017-08-14T00:00:00",
          "2017-08-15T00:00:00"
         ],
         "y": [
          5441.272,
          5904.963,
          4893.461,
          3871.502,
          3103.936002,
          10458.705,
          3660.909,
          10458.574,
          6970.516,
          3853.32,
          10994.123,
          4245.926,
          3469.397,
          3307.661,
          4336.829,
          5417.657,
          4731.714005,
          4397.393,
          3021.347,
          3525.12,
          3161.971,
          4081.802,
          3637.453,
          5065.496012,
          3519.832,
          3454.814002,
          5094.713,
          4608.221,
          7712.361,
          5625.634,
          5384.155,
          7240.671,
          6825.166,
          4541.332996,
          4474.727002,
          6269.491,
          5363.045995,
          5174.049,
          5308.255,
          3686.432,
          4221.423,
          4827.52,
          4738.269004,
          4556.589,
          4523.419,
          6504.912
         ]
        },
        {
         "marker": {
          "color": "green"
         },
         "name": "Store 33",
         "type": "bar",
         "x": [
          "2017-07-01T00:00:00",
          "2017-07-02T00:00:00",
          "2017-07-03T00:00:00",
          "2017-07-04T00:00:00",
          "2017-07-05T00:00:00",
          "2017-07-06T00:00:00",
          "2017-07-07T00:00:00",
          "2017-07-08T00:00:00",
          "2017-07-09T00:00:00",
          "2017-07-10T00:00:00",
          "2017-07-11T00:00:00",
          "2017-07-12T00:00:00",
          "2017-07-13T00:00:00",
          "2017-07-14T00:00:00",
          "2017-07-15T00:00:00",
          "2017-07-16T00:00:00",
          "2017-07-17T00:00:00",
          "2017-07-18T00:00:00",
          "2017-07-19T00:00:00",
          "2017-07-20T00:00:00",
          "2017-07-21T00:00:00",
          "2017-07-22T00:00:00",
          "2017-07-23T00:00:00",
          "2017-07-24T00:00:00",
          "2017-07-25T00:00:00",
          "2017-07-26T00:00:00",
          "2017-07-27T00:00:00",
          "2017-07-28T00:00:00",
          "2017-07-29T00:00:00",
          "2017-07-30T00:00:00",
          "2017-07-31T00:00:00",
          "2017-08-01T00:00:00",
          "2017-08-02T00:00:00",
          "2017-08-03T00:00:00",
          "2017-08-04T00:00:00",
          "2017-08-05T00:00:00",
          "2017-08-06T00:00:00",
          "2017-08-07T00:00:00",
          "2017-08-08T00:00:00",
          "2017-08-09T00:00:00",
          "2017-08-10T00:00:00",
          "2017-08-11T00:00:00",
          "2017-08-12T00:00:00",
          "2017-08-13T00:00:00",
          "2017-08-14T00:00:00",
          "2017-08-15T00:00:00"
         ],
         "y": [
          16132.753,
          15188.756,
          9904.524,
          11099.181,
          8274.401,
          7591.498,
          8666.428,
          11074.204,
          12681.766,
          10320.36,
          10379.258002,
          7459.273,
          7930.95299,
          9312.72999,
          10765.26902,
          12357.627,
          11319.89799,
          9489.358,
          6777.356,
          7822.284,
          11267.694,
          10841.752,
          11535.784,
          10190.9151,
          8806.089,
          7277.135,
          7190.27,
          7415.055,
          11510.042,
          12809.805,
          9888.608,
          15068.436,
          10099.106,
          8874.701000000001,
          9047.187,
          9255.129995,
          12190.273,
          10215.878,
          10635.527,
          8760.917,
          6734.846,
          8448.788,
          12741.18702,
          10721.689,
          10191.955,
          11649.571
         ]
        },
        {
         "marker": {
          "color": "purple"
         },
         "name": "Store 34",
         "type": "bar",
         "x": [
          "2017-07-01T00:00:00",
          "2017-07-02T00:00:00",
          "2017-07-03T00:00:00",
          "2017-07-04T00:00:00",
          "2017-07-05T00:00:00",
          "2017-07-06T00:00:00",
          "2017-07-07T00:00:00",
          "2017-07-08T00:00:00",
          "2017-07-09T00:00:00",
          "2017-07-10T00:00:00",
          "2017-07-11T00:00:00",
          "2017-07-12T00:00:00",
          "2017-07-13T00:00:00",
          "2017-07-14T00:00:00",
          "2017-07-15T00:00:00",
          "2017-07-16T00:00:00",
          "2017-07-17T00:00:00",
          "2017-07-18T00:00:00",
          "2017-07-19T00:00:00",
          "2017-07-20T00:00:00",
          "2017-07-21T00:00:00",
          "2017-07-22T00:00:00",
          "2017-07-23T00:00:00",
          "2017-07-24T00:00:00",
          "2017-07-25T00:00:00",
          "2017-07-26T00:00:00",
          "2017-07-27T00:00:00",
          "2017-07-28T00:00:00",
          "2017-07-29T00:00:00",
          "2017-07-30T00:00:00",
          "2017-07-31T00:00:00",
          "2017-08-01T00:00:00",
          "2017-08-02T00:00:00",
          "2017-08-03T00:00:00",
          "2017-08-04T00:00:00",
          "2017-08-05T00:00:00",
          "2017-08-06T00:00:00",
          "2017-08-07T00:00:00",
          "2017-08-08T00:00:00",
          "2017-08-09T00:00:00",
          "2017-08-10T00:00:00",
          "2017-08-11T00:00:00",
          "2017-08-12T00:00:00",
          "2017-08-13T00:00:00",
          "2017-08-14T00:00:00",
          "2017-08-15T00:00:00"
         ],
         "y": [
          14525.368,
          14092.502,
          11613.53,
          10958.672,
          8894.539,
          8885.396,
          10819.309000000001,
          12192.358,
          11502.564,
          10390.319,
          10429.328,
          8757.909,
          8543.533,
          10389.646,
          12567.408,
          12249.956001999999,
          10933.914999999999,
          9701.931,
          7978.613,
          9263.465,
          10249.114,
          11776.532009999999,
          10229.457,
          9582.564,
          8675.423,
          7757.22101,
          9302.114,
          10934.284,
          13512.76001,
          12076.058,
          12937.343,
          12628.239,
          10535.057,
          10290.57501,
          11123.954,
          12725.3,
          13451.003,
          10971.718,
          10122.864,
          9521.851999999999,
          10762.06401,
          11758.411,
          10082.835,
          11235.408,
          11752.063,
          11321.420996
         ]
        },
        {
         "marker": {
          "color": "orange"
         },
         "name": "Store 35",
         "type": "bar",
         "x": [
          "2017-07-01T00:00:00",
          "2017-07-02T00:00:00",
          "2017-07-03T00:00:00",
          "2017-07-04T00:00:00",
          "2017-07-05T00:00:00",
          "2017-07-06T00:00:00",
          "2017-07-07T00:00:00",
          "2017-07-08T00:00:00",
          "2017-07-09T00:00:00",
          "2017-07-10T00:00:00",
          "2017-07-11T00:00:00",
          "2017-07-12T00:00:00",
          "2017-07-13T00:00:00",
          "2017-07-14T00:00:00",
          "2017-07-15T00:00:00",
          "2017-07-16T00:00:00",
          "2017-07-17T00:00:00",
          "2017-07-18T00:00:00",
          "2017-07-19T00:00:00",
          "2017-07-20T00:00:00",
          "2017-07-21T00:00:00",
          "2017-07-22T00:00:00",
          "2017-07-23T00:00:00",
          "2017-07-24T00:00:00",
          "2017-07-25T00:00:00",
          "2017-07-26T00:00:00",
          "2017-07-27T00:00:00",
          "2017-07-28T00:00:00",
          "2017-07-29T00:00:00",
          "2017-07-30T00:00:00",
          "2017-07-31T00:00:00",
          "2017-08-01T00:00:00",
          "2017-08-02T00:00:00",
          "2017-08-03T00:00:00",
          "2017-08-04T00:00:00",
          "2017-08-05T00:00:00",
          "2017-08-06T00:00:00",
          "2017-08-07T00:00:00",
          "2017-08-08T00:00:00",
          "2017-08-09T00:00:00",
          "2017-08-10T00:00:00",
          "2017-08-11T00:00:00",
          "2017-08-12T00:00:00",
          "2017-08-13T00:00:00",
          "2017-08-14T00:00:00",
          "2017-08-15T00:00:00"
         ],
         "y": [
          7642.226986,
          7531.514,
          6282.730018,
          5062.56,
          3777.01501,
          4879.480002,
          3838.845,
          4954.81801,
          5695.977,
          5239.45602,
          4649.274999,
          4017.421,
          4002.054,
          5022.477,
          7005.454,
          7616.762,
          5310.857,
          4840.244,
          3765.601,
          4336.528998,
          4129.36299,
          5884.618,
          8685.909,
          5523.291,
          4227.066004,
          5318.231,
          3383.70798,
          4486.61199,
          6138.529,
          6538.943,
          6951.845,
          6088.917,
          5161.951,
          6073.544,
          4323.554,
          6518.179,
          6523.32,
          5835.268998,
          5240.08801,
          3950.782001,
          4600.743,
          7139.339,
          6849.838,
          5666.272998,
          4934.36698,
          5371.156
         ]
        },
        {
         "marker": {
          "color": "yellow"
         },
         "name": "Store 36",
         "type": "bar",
         "x": [
          "2017-07-01T00:00:00",
          "2017-07-02T00:00:00",
          "2017-07-03T00:00:00",
          "2017-07-04T00:00:00",
          "2017-07-05T00:00:00",
          "2017-07-06T00:00:00",
          "2017-07-07T00:00:00",
          "2017-07-08T00:00:00",
          "2017-07-09T00:00:00",
          "2017-07-10T00:00:00",
          "2017-07-11T00:00:00",
          "2017-07-12T00:00:00",
          "2017-07-13T00:00:00",
          "2017-07-14T00:00:00",
          "2017-07-15T00:00:00",
          "2017-07-16T00:00:00",
          "2017-07-17T00:00:00",
          "2017-07-18T00:00:00",
          "2017-07-19T00:00:00",
          "2017-07-20T00:00:00",
          "2017-07-21T00:00:00",
          "2017-07-22T00:00:00",
          "2017-07-23T00:00:00",
          "2017-07-24T00:00:00",
          "2017-07-25T00:00:00",
          "2017-07-26T00:00:00",
          "2017-07-27T00:00:00",
          "2017-07-28T00:00:00",
          "2017-07-29T00:00:00",
          "2017-07-30T00:00:00",
          "2017-07-31T00:00:00",
          "2017-08-01T00:00:00",
          "2017-08-02T00:00:00",
          "2017-08-03T00:00:00",
          "2017-08-04T00:00:00",
          "2017-08-05T00:00:00",
          "2017-08-06T00:00:00",
          "2017-08-07T00:00:00",
          "2017-08-08T00:00:00",
          "2017-08-09T00:00:00",
          "2017-08-10T00:00:00",
          "2017-08-11T00:00:00",
          "2017-08-12T00:00:00",
          "2017-08-13T00:00:00",
          "2017-08-14T00:00:00",
          "2017-08-15T00:00:00"
         ],
         "y": [
          15881.1641,
          17834.602,
          12664.002,
          14180.637,
          9794.429,
          9835.827,
          8004.837,
          11566.64,
          13826.226999999999,
          10302.723,
          13237.71501,
          9130.801,
          9076.981,
          8366.1,
          11545.03102,
          13997.515000000001,
          10602.114,
          11989.119999999999,
          8566.336996,
          10577.024,
          8521.388,
          11197.407,
          12508.462,
          11181.118,
          11586.0059,
          8855.002,
          9699.550000000001,
          12151.225,
          14882.598,
          15654.869096,
          12719.5089,
          18634.74902,
          14364.841,
          10862.074,
          12849.427,
          13760.483,
          15639.063,
          10910.271,
          15095.228,
          12010.772,
          10710.354995,
          14586.856,
          11900.079,
          13964.84,
          10446.58001,
          14986.342
         ]
        },
        {
         "marker": {
          "color": "black"
         },
         "name": "Store 37",
         "type": "bar",
         "x": [
          "2017-07-01T00:00:00",
          "2017-07-02T00:00:00",
          "2017-07-03T00:00:00",
          "2017-07-04T00:00:00",
          "2017-07-05T00:00:00",
          "2017-07-06T00:00:00",
          "2017-07-07T00:00:00",
          "2017-07-08T00:00:00",
          "2017-07-09T00:00:00",
          "2017-07-10T00:00:00",
          "2017-07-11T00:00:00",
          "2017-07-12T00:00:00",
          "2017-07-13T00:00:00",
          "2017-07-14T00:00:00",
          "2017-07-15T00:00:00",
          "2017-07-16T00:00:00",
          "2017-07-17T00:00:00",
          "2017-07-18T00:00:00",
          "2017-07-19T00:00:00",
          "2017-07-20T00:00:00",
          "2017-07-21T00:00:00",
          "2017-07-22T00:00:00",
          "2017-07-23T00:00:00",
          "2017-07-24T00:00:00",
          "2017-07-25T00:00:00",
          "2017-07-26T00:00:00",
          "2017-07-27T00:00:00",
          "2017-07-28T00:00:00",
          "2017-07-29T00:00:00",
          "2017-07-30T00:00:00",
          "2017-07-31T00:00:00",
          "2017-08-01T00:00:00",
          "2017-08-02T00:00:00",
          "2017-08-03T00:00:00",
          "2017-08-04T00:00:00",
          "2017-08-05T00:00:00",
          "2017-08-06T00:00:00",
          "2017-08-07T00:00:00",
          "2017-08-08T00:00:00",
          "2017-08-09T00:00:00",
          "2017-08-10T00:00:00",
          "2017-08-11T00:00:00",
          "2017-08-12T00:00:00",
          "2017-08-13T00:00:00",
          "2017-08-14T00:00:00",
          "2017-08-15T00:00:00"
         ],
         "y": [
          17880.136001,
          15374.0020095,
          16572.524,
          13852.982019699999,
          16500.106,
          13361.96897,
          14701.414,
          16266.150995,
          13226.51801,
          13517.224,
          12237.115,
          15111.112000000001,
          11954.717004,
          13409.9310003,
          16235.569,
          12311.187,
          15339.673999999999,
          13547.701000000001,
          16679.27011,
          13333.82098,
          15852.01,
          14706.717999999999,
          11487.848,
          13247.595010000001,
          14518.943,
          15135.868,
          12361.251995,
          14613.613,
          14399.08199,
          10374.1149,
          15331.480004,
          15106.029,
          16705.925999,
          12003.983,
          13780.61798,
          13695.861,
          9851.079,
          12317.97601,
          11357.640998,
          13815.354,
          12221.273005000001,
          9781.481004,
          9536.66899,
          7324.018,
          12149.967988999999,
          11533.554995999999
         ]
        },
        {
         "marker": {
          "color": "brown"
         },
         "name": "Store 38",
         "type": "bar",
         "x": [
          "2017-07-01T00:00:00",
          "2017-07-02T00:00:00",
          "2017-07-03T00:00:00",
          "2017-07-04T00:00:00",
          "2017-07-05T00:00:00",
          "2017-07-06T00:00:00",
          "2017-07-07T00:00:00",
          "2017-07-08T00:00:00",
          "2017-07-09T00:00:00",
          "2017-07-10T00:00:00",
          "2017-07-11T00:00:00",
          "2017-07-12T00:00:00",
          "2017-07-13T00:00:00",
          "2017-07-14T00:00:00",
          "2017-07-15T00:00:00",
          "2017-07-16T00:00:00",
          "2017-07-17T00:00:00",
          "2017-07-18T00:00:00",
          "2017-07-19T00:00:00",
          "2017-07-20T00:00:00",
          "2017-07-21T00:00:00",
          "2017-07-22T00:00:00",
          "2017-07-23T00:00:00",
          "2017-07-24T00:00:00",
          "2017-07-25T00:00:00",
          "2017-07-26T00:00:00",
          "2017-07-27T00:00:00",
          "2017-07-28T00:00:00",
          "2017-07-29T00:00:00",
          "2017-07-30T00:00:00",
          "2017-07-31T00:00:00",
          "2017-08-01T00:00:00",
          "2017-08-02T00:00:00",
          "2017-08-03T00:00:00",
          "2017-08-04T00:00:00",
          "2017-08-05T00:00:00",
          "2017-08-06T00:00:00",
          "2017-08-07T00:00:00",
          "2017-08-08T00:00:00",
          "2017-08-09T00:00:00",
          "2017-08-10T00:00:00",
          "2017-08-11T00:00:00",
          "2017-08-12T00:00:00",
          "2017-08-13T00:00:00",
          "2017-08-14T00:00:00",
          "2017-08-15T00:00:00"
         ],
         "y": [
          22396.148,
          20403.109,
          12261.493,
          11044.714992,
          13051.155996,
          10360.458,
          11463.361,
          16057.056001,
          16382.277996,
          11820.115,
          8616.078,
          12237.0129997,
          10299.007996,
          18230.863014,
          25709.31601,
          15101.502,
          10723.182995,
          12250.025,
          13331.559008,
          13931.314,
          11694.64,
          18700.443005,
          15208.812,
          12039.72502,
          9160.253999999999,
          14792.486011,
          8750.403999,
          13384.564,
          17817.701,
          18790.092003,
          13208.75,
          17483.792999999998,
          20251.114,
          9861.93,
          10913.394005,
          14909.516006,
          13178.105,
          10758.418,
          9516.927,
          12635.16,
          10358.543,
          10323.491,
          11752.036,
          11472.616,
          11193.432,
          9966.252
         ]
        },
        {
         "marker": {
          "color": "cyan"
         },
         "name": "Store 39",
         "type": "bar",
         "x": [
          "2017-07-01T00:00:00",
          "2017-07-02T00:00:00",
          "2017-07-03T00:00:00",
          "2017-07-04T00:00:00",
          "2017-07-05T00:00:00",
          "2017-07-06T00:00:00",
          "2017-07-07T00:00:00",
          "2017-07-08T00:00:00",
          "2017-07-09T00:00:00",
          "2017-07-10T00:00:00",
          "2017-07-11T00:00:00",
          "2017-07-12T00:00:00",
          "2017-07-13T00:00:00",
          "2017-07-14T00:00:00",
          "2017-07-15T00:00:00",
          "2017-07-16T00:00:00",
          "2017-07-17T00:00:00",
          "2017-07-18T00:00:00",
          "2017-07-19T00:00:00",
          "2017-07-20T00:00:00",
          "2017-07-21T00:00:00",
          "2017-07-22T00:00:00",
          "2017-07-23T00:00:00",
          "2017-07-24T00:00:00",
          "2017-07-25T00:00:00",
          "2017-07-26T00:00:00",
          "2017-07-27T00:00:00",
          "2017-07-28T00:00:00",
          "2017-07-29T00:00:00",
          "2017-07-30T00:00:00",
          "2017-07-31T00:00:00",
          "2017-08-01T00:00:00",
          "2017-08-02T00:00:00",
          "2017-08-03T00:00:00",
          "2017-08-04T00:00:00",
          "2017-08-05T00:00:00",
          "2017-08-06T00:00:00",
          "2017-08-07T00:00:00",
          "2017-08-08T00:00:00",
          "2017-08-09T00:00:00",
          "2017-08-10T00:00:00",
          "2017-08-11T00:00:00",
          "2017-08-12T00:00:00",
          "2017-08-13T00:00:00",
          "2017-08-14T00:00:00",
          "2017-08-15T00:00:00"
         ],
         "y": [
          22233.762,
          22481.65503,
          18084.582,
          17803.54,
          16525.81,
          15437.954010000001,
          15536.496996,
          20679.518,
          21252.584,
          18634.296,
          18187.443,
          16867.303,
          12531.587,
          13010.855,
          18369.481,
          19594.649,
          16872.902000000002,
          17056.64701,
          12211.205,
          16010.315,
          14074.289,
          16823.12201,
          18050.245,
          17164.721999999998,
          17269.009,
          13854.569,
          18577.305,
          18404.602020000002,
          18143.825,
          21000.914,
          21054.417,
          21289.397098,
          19553.782,
          15572.31699,
          16013.940999999999,
          18879.015,
          17724.636,
          16689.063000000002,
          17335.061999999998,
          12864.038002,
          13857.898000000001,
          11401.024,
          12284.986002000001,
          14275.097013999999,
          17918.866,
          15008.64799
         ]
        },
        {
         "marker": {
          "color": "magenta"
         },
         "name": "Store 40",
         "type": "bar",
         "x": [
          "2017-07-01T00:00:00",
          "2017-07-02T00:00:00",
          "2017-07-03T00:00:00",
          "2017-07-04T00:00:00",
          "2017-07-05T00:00:00",
          "2017-07-06T00:00:00",
          "2017-07-07T00:00:00",
          "2017-07-08T00:00:00",
          "2017-07-09T00:00:00",
          "2017-07-10T00:00:00",
          "2017-07-11T00:00:00",
          "2017-07-12T00:00:00",
          "2017-07-13T00:00:00",
          "2017-07-14T00:00:00",
          "2017-07-15T00:00:00",
          "2017-07-16T00:00:00",
          "2017-07-17T00:00:00",
          "2017-07-18T00:00:00",
          "2017-07-19T00:00:00",
          "2017-07-20T00:00:00",
          "2017-07-21T00:00:00",
          "2017-07-22T00:00:00",
          "2017-07-23T00:00:00",
          "2017-07-24T00:00:00",
          "2017-07-25T00:00:00",
          "2017-07-26T00:00:00",
          "2017-07-27T00:00:00",
          "2017-07-28T00:00:00",
          "2017-07-29T00:00:00",
          "2017-07-30T00:00:00",
          "2017-07-31T00:00:00",
          "2017-08-01T00:00:00",
          "2017-08-02T00:00:00",
          "2017-08-03T00:00:00",
          "2017-08-04T00:00:00",
          "2017-08-05T00:00:00",
          "2017-08-06T00:00:00",
          "2017-08-07T00:00:00",
          "2017-08-08T00:00:00",
          "2017-08-09T00:00:00",
          "2017-08-10T00:00:00",
          "2017-08-11T00:00:00",
          "2017-08-12T00:00:00",
          "2017-08-13T00:00:00",
          "2017-08-14T00:00:00",
          "2017-08-15T00:00:00"
         ],
         "y": [
          21582.56,
          20826.01201,
          16622.657,
          18627.965,
          14035.042,
          13983.175,
          15239.90502,
          23845.654,
          18123.801,
          18567.858,
          17327.785,
          14306.617,
          13039.15101,
          14078.713,
          18826.266,
          17427.546,
          16484.478995,
          13387.649,
          13088.542000000001,
          13802.30699,
          13222.334,
          15724.767,
          15635.22,
          13471.034,
          14092.33899,
          12365.784,
          12714.726,
          20137.764,
          28247.901,
          21446.97701,
          17240.608,
          25160.468,
          20023.814,
          13732.67599,
          19098.003,
          18945.914,
          18563.775,
          18051.214,
          16310.907,
          14127.456,
          15714.542,
          17054.248,
          21636.743000000002,
          14076.088,
          18461.44001,
          19552.935
         ]
        },
        {
         "marker": {
          "color": "blue"
         },
         "name": "Store 41",
         "type": "bar",
         "x": [
          "2017-07-01T00:00:00",
          "2017-07-02T00:00:00",
          "2017-07-03T00:00:00",
          "2017-07-04T00:00:00",
          "2017-07-05T00:00:00",
          "2017-07-06T00:00:00",
          "2017-07-07T00:00:00",
          "2017-07-08T00:00:00",
          "2017-07-09T00:00:00",
          "2017-07-10T00:00:00",
          "2017-07-11T00:00:00",
          "2017-07-12T00:00:00",
          "2017-07-13T00:00:00",
          "2017-07-14T00:00:00",
          "2017-07-15T00:00:00",
          "2017-07-16T00:00:00",
          "2017-07-17T00:00:00",
          "2017-07-18T00:00:00",
          "2017-07-19T00:00:00",
          "2017-07-20T00:00:00",
          "2017-07-21T00:00:00",
          "2017-07-22T00:00:00",
          "2017-07-23T00:00:00",
          "2017-07-24T00:00:00",
          "2017-07-25T00:00:00",
          "2017-07-26T00:00:00",
          "2017-07-27T00:00:00",
          "2017-07-28T00:00:00",
          "2017-07-29T00:00:00",
          "2017-07-30T00:00:00",
          "2017-07-31T00:00:00",
          "2017-08-01T00:00:00",
          "2017-08-02T00:00:00",
          "2017-08-03T00:00:00",
          "2017-08-04T00:00:00",
          "2017-08-05T00:00:00",
          "2017-08-06T00:00:00",
          "2017-08-07T00:00:00",
          "2017-08-08T00:00:00",
          "2017-08-09T00:00:00",
          "2017-08-10T00:00:00",
          "2017-08-11T00:00:00",
          "2017-08-12T00:00:00",
          "2017-08-13T00:00:00",
          "2017-08-14T00:00:00",
          "2017-08-15T00:00:00"
         ],
         "y": [
          16274.939998,
          21340.466,
          13476.453,
          11376.93,
          12658.85702,
          10073.913,
          10635.78,
          13607.543000000001,
          18122.0109,
          12403.667,
          10089.228,
          11618.29701,
          9594.484,
          12952.499,
          15678.632,
          24372.70697,
          13986.572,
          11408.445,
          15364.087019999999,
          13227.151,
          13330.76,
          17588.369998,
          22627.689,
          13194.93899,
          11276.699,
          15439.709,
          11200.822,
          12064.23001,
          16828.944,
          19760.96398,
          12785.71699,
          14743.466,
          19561.406,
          9692.46299,
          10276.314,
          14342.836000000001,
          18345.302,
          12004.55601,
          9590.671,
          11333.672,
          8801.912,
          13424.267,
          12168.491,
          14243.813004,
          10077.156,
          9397.724
         ]
        },
        {
         "marker": {
          "color": "red"
         },
         "name": "Store 42",
         "type": "bar",
         "x": [
          "2017-07-01T00:00:00",
          "2017-07-02T00:00:00",
          "2017-07-03T00:00:00",
          "2017-07-04T00:00:00",
          "2017-07-05T00:00:00",
          "2017-07-06T00:00:00",
          "2017-07-07T00:00:00",
          "2017-07-08T00:00:00",
          "2017-07-09T00:00:00",
          "2017-07-10T00:00:00",
          "2017-07-11T00:00:00",
          "2017-07-12T00:00:00",
          "2017-07-13T00:00:00",
          "2017-07-14T00:00:00",
          "2017-07-15T00:00:00",
          "2017-07-16T00:00:00",
          "2017-07-17T00:00:00",
          "2017-07-18T00:00:00",
          "2017-07-19T00:00:00",
          "2017-07-20T00:00:00",
          "2017-07-21T00:00:00",
          "2017-07-22T00:00:00",
          "2017-07-23T00:00:00",
          "2017-07-24T00:00:00",
          "2017-07-25T00:00:00",
          "2017-07-26T00:00:00",
          "2017-07-27T00:00:00",
          "2017-07-28T00:00:00",
          "2017-07-29T00:00:00",
          "2017-07-30T00:00:00",
          "2017-07-31T00:00:00",
          "2017-08-01T00:00:00",
          "2017-08-02T00:00:00",
          "2017-08-03T00:00:00",
          "2017-08-04T00:00:00",
          "2017-08-05T00:00:00",
          "2017-08-06T00:00:00",
          "2017-08-07T00:00:00",
          "2017-08-08T00:00:00",
          "2017-08-09T00:00:00",
          "2017-08-10T00:00:00",
          "2017-08-11T00:00:00",
          "2017-08-12T00:00:00",
          "2017-08-13T00:00:00",
          "2017-08-14T00:00:00",
          "2017-08-15T00:00:00"
         ],
         "y": [
          19539.39,
          20438.545,
          13388.280990000001,
          13152.205,
          13531.921,
          11475.358995,
          11638.051,
          16969.072,
          15457.797,
          11946.25201,
          11103.585996,
          12157.28899,
          10436.23601,
          11312.390022,
          16309.351,
          17702.197,
          11946.940098,
          10758.378,
          14216.459999,
          9979.768,
          12404.029,
          14808.45398,
          15491.29,
          13629.643,
          11458.206,
          13314.616,
          9681.674002,
          11856.402,
          15429.924001,
          14670.208,
          12338.69799,
          16989.378,
          13922.885,
          9892.551,
          11537.987000000001,
          13572.394,
          12421.93,
          11529.392,
          9468.651,
          10907.859,
          9533.291,
          10237.619,
          8915.88,
          9543.102,
          11604.32101,
          9251.76999
         ]
        },
        {
         "marker": {
          "color": "green"
         },
         "name": "Store 43",
         "type": "bar",
         "x": [
          "2017-07-01T00:00:00",
          "2017-07-02T00:00:00",
          "2017-07-03T00:00:00",
          "2017-07-04T00:00:00",
          "2017-07-05T00:00:00",
          "2017-07-06T00:00:00",
          "2017-07-07T00:00:00",
          "2017-07-08T00:00:00",
          "2017-07-09T00:00:00",
          "2017-07-10T00:00:00",
          "2017-07-11T00:00:00",
          "2017-07-12T00:00:00",
          "2017-07-13T00:00:00",
          "2017-07-14T00:00:00",
          "2017-07-15T00:00:00",
          "2017-07-16T00:00:00",
          "2017-07-17T00:00:00",
          "2017-07-18T00:00:00",
          "2017-07-19T00:00:00",
          "2017-07-20T00:00:00",
          "2017-07-21T00:00:00",
          "2017-07-22T00:00:00",
          "2017-07-23T00:00:00",
          "2017-07-24T00:00:00",
          "2017-07-25T00:00:00",
          "2017-07-26T00:00:00",
          "2017-07-27T00:00:00",
          "2017-07-28T00:00:00",
          "2017-07-29T00:00:00",
          "2017-07-30T00:00:00",
          "2017-07-31T00:00:00",
          "2017-08-01T00:00:00",
          "2017-08-02T00:00:00",
          "2017-08-03T00:00:00",
          "2017-08-04T00:00:00",
          "2017-08-05T00:00:00",
          "2017-08-06T00:00:00",
          "2017-08-07T00:00:00",
          "2017-08-08T00:00:00",
          "2017-08-09T00:00:00",
          "2017-08-10T00:00:00",
          "2017-08-11T00:00:00",
          "2017-08-12T00:00:00",
          "2017-08-13T00:00:00",
          "2017-08-14T00:00:00",
          "2017-08-15T00:00:00"
         ],
         "y": [
          23681.068,
          24735.402000000002,
          17065.013,
          17699.31199,
          13869.97199,
          14140.463,
          16679.220999999998,
          17206.262020000002,
          21304.611,
          16925.529,
          15869.31699,
          12662.716,
          12702.123,
          12254.64,
          15929.366,
          21237.884,
          15864.151,
          14299.28301,
          12070.67,
          11290.929,
          13885.206,
          18019.5329,
          16063.34699,
          19890.556,
          16784.5569,
          11908.540996,
          13345.843,
          13650.812,
          16646.862999999998,
          20281.325,
          17011.928,
          18494.204999999998,
          16501.85,
          13026.002,
          19634.702,
          14833.457,
          20145.283,
          17957.083,
          16833.697,
          13558.98,
          14396.11,
          16143.667010000001,
          14388.05,
          18870.869,
          17066.895,
          15368.844000000001
         ]
        },
        {
         "marker": {
          "color": "purple"
         },
         "name": "Store 44",
         "type": "bar",
         "x": [
          "2017-07-01T00:00:00",
          "2017-07-02T00:00:00",
          "2017-07-03T00:00:00",
          "2017-07-04T00:00:00",
          "2017-07-05T00:00:00",
          "2017-07-06T00:00:00",
          "2017-07-07T00:00:00",
          "2017-07-08T00:00:00",
          "2017-07-09T00:00:00",
          "2017-07-10T00:00:00",
          "2017-07-11T00:00:00",
          "2017-07-12T00:00:00",
          "2017-07-13T00:00:00",
          "2017-07-14T00:00:00",
          "2017-07-15T00:00:00",
          "2017-07-16T00:00:00",
          "2017-07-17T00:00:00",
          "2017-07-18T00:00:00",
          "2017-07-19T00:00:00",
          "2017-07-20T00:00:00",
          "2017-07-21T00:00:00",
          "2017-07-22T00:00:00",
          "2017-07-23T00:00:00",
          "2017-07-24T00:00:00",
          "2017-07-25T00:00:00",
          "2017-07-26T00:00:00",
          "2017-07-27T00:00:00",
          "2017-07-28T00:00:00",
          "2017-07-29T00:00:00",
          "2017-07-30T00:00:00",
          "2017-07-31T00:00:00",
          "2017-08-01T00:00:00",
          "2017-08-02T00:00:00",
          "2017-08-03T00:00:00",
          "2017-08-04T00:00:00",
          "2017-08-05T00:00:00",
          "2017-08-06T00:00:00",
          "2017-08-07T00:00:00",
          "2017-08-08T00:00:00",
          "2017-08-09T00:00:00",
          "2017-08-10T00:00:00",
          "2017-08-11T00:00:00",
          "2017-08-12T00:00:00",
          "2017-08-13T00:00:00",
          "2017-08-14T00:00:00",
          "2017-08-15T00:00:00"
         ],
         "y": [
          70219.294,
          75501.9495,
          44620.30302,
          35815.014,
          46791.723,
          30955.067,
          43925.304,
          58746.929,
          65007.8605,
          39227.293,
          32996.43,
          41741.59098,
          33239.86402,
          41852.76199,
          60461.843,
          62801.295979999995,
          43767.030996,
          35475.934,
          43996.451,
          33573.228,
          42294.16401,
          56090.44002,
          61833.06,
          40092.235,
          32471.92897,
          40687.736,
          31051.847999999998,
          41686.01198,
          60011.179,
          64503.778,
          42275.007,
          44181.359,
          49489.460999999996,
          34155.102,
          40719.911,
          52052.659999999996,
          57165.299999999996,
          36209.598,
          32037.91,
          38240.28698,
          30870.99,
          43330.5,
          41559.973,
          45604.445,
          35617.528004,
          33141.322
         ]
        },
        {
         "marker": {
          "color": "orange"
         },
         "name": "Store 45",
         "type": "bar",
         "x": [
          "2017-07-01T00:00:00",
          "2017-07-02T00:00:00",
          "2017-07-03T00:00:00",
          "2017-07-04T00:00:00",
          "2017-07-05T00:00:00",
          "2017-07-06T00:00:00",
          "2017-07-07T00:00:00",
          "2017-07-08T00:00:00",
          "2017-07-09T00:00:00",
          "2017-07-10T00:00:00",
          "2017-07-11T00:00:00",
          "2017-07-12T00:00:00",
          "2017-07-13T00:00:00",
          "2017-07-14T00:00:00",
          "2017-07-15T00:00:00",
          "2017-07-16T00:00:00",
          "2017-07-17T00:00:00",
          "2017-07-18T00:00:00",
          "2017-07-19T00:00:00",
          "2017-07-20T00:00:00",
          "2017-07-21T00:00:00",
          "2017-07-22T00:00:00",
          "2017-07-23T00:00:00",
          "2017-07-24T00:00:00",
          "2017-07-25T00:00:00",
          "2017-07-26T00:00:00",
          "2017-07-27T00:00:00",
          "2017-07-28T00:00:00",
          "2017-07-29T00:00:00",
          "2017-07-30T00:00:00",
          "2017-07-31T00:00:00",
          "2017-08-01T00:00:00",
          "2017-08-02T00:00:00",
          "2017-08-03T00:00:00",
          "2017-08-04T00:00:00",
          "2017-08-05T00:00:00",
          "2017-08-06T00:00:00",
          "2017-08-07T00:00:00",
          "2017-08-08T00:00:00",
          "2017-08-09T00:00:00",
          "2017-08-10T00:00:00",
          "2017-08-11T00:00:00",
          "2017-08-12T00:00:00",
          "2017-08-13T00:00:00",
          "2017-08-14T00:00:00",
          "2017-08-15T00:00:00"
         ],
         "y": [
          64136.721,
          72580.375,
          47733.48598,
          38067.901,
          40375.35303,
          30540.889030000002,
          40700.295,
          51661.099,
          57341.7649,
          37997.873,
          29761.381,
          33358.801005,
          26716.15199,
          37946.749,
          48276.087999999996,
          61002.770000000004,
          38258.869,
          33001.87697,
          37394.14599,
          31750.597999999998,
          40886.7331,
          46365.935,
          58534.17302,
          37596.066999999995,
          30212.617,
          34240.936,
          29066.26901,
          42135.0761,
          49595.1039,
          60201.294,
          41685.407100000004,
          40592.95601,
          46826.2019,
          32322.082000000002,
          41612.2883,
          50300.981999999996,
          53807.708095,
          36490.51,
          30485.443030000002,
          34896.351,
          28314.09,
          42991.258,
          38285.203104,
          46029.399,
          35065.714,
          31562.926
         ]
        },
        {
         "marker": {
          "color": "yellow"
         },
         "name": "Store 46",
         "type": "bar",
         "x": [
          "2017-07-01T00:00:00",
          "2017-07-02T00:00:00",
          "2017-07-03T00:00:00",
          "2017-07-04T00:00:00",
          "2017-07-05T00:00:00",
          "2017-07-06T00:00:00",
          "2017-07-07T00:00:00",
          "2017-07-08T00:00:00",
          "2017-07-09T00:00:00",
          "2017-07-10T00:00:00",
          "2017-07-11T00:00:00",
          "2017-07-12T00:00:00",
          "2017-07-13T00:00:00",
          "2017-07-14T00:00:00",
          "2017-07-15T00:00:00",
          "2017-07-16T00:00:00",
          "2017-07-17T00:00:00",
          "2017-07-18T00:00:00",
          "2017-07-19T00:00:00",
          "2017-07-20T00:00:00",
          "2017-07-21T00:00:00",
          "2017-07-22T00:00:00",
          "2017-07-23T00:00:00",
          "2017-07-24T00:00:00",
          "2017-07-25T00:00:00",
          "2017-07-26T00:00:00",
          "2017-07-27T00:00:00",
          "2017-07-28T00:00:00",
          "2017-07-29T00:00:00",
          "2017-07-30T00:00:00",
          "2017-07-31T00:00:00",
          "2017-08-01T00:00:00",
          "2017-08-02T00:00:00",
          "2017-08-03T00:00:00",
          "2017-08-04T00:00:00",
          "2017-08-05T00:00:00",
          "2017-08-06T00:00:00",
          "2017-08-07T00:00:00",
          "2017-08-08T00:00:00",
          "2017-08-09T00:00:00",
          "2017-08-10T00:00:00",
          "2017-08-11T00:00:00",
          "2017-08-12T00:00:00",
          "2017-08-13T00:00:00",
          "2017-08-14T00:00:00",
          "2017-08-15T00:00:00"
         ],
         "y": [
          53916.706,
          60313.5149,
          32502.531,
          27592.770998,
          29125.348,
          23669.456,
          28184.795000000002,
          39269.462,
          46170.959,
          26123.43899,
          20748.96704,
          23028.483,
          20117.328,
          24742.689041999998,
          37578.305,
          45185.06099,
          25975.735,
          23034.912,
          24305.758,
          23620.068,
          25621.3681,
          39104.205,
          45201.938,
          29158.222,
          21495.235004,
          22792.998,
          20636.31101,
          29745.995000000003,
          42263.543005,
          50020.775,
          30274.194,
          32705.753,
          31194.166999999998,
          24064.94,
          27210.643,
          40564.536,
          42324.5811,
          26639.533,
          20543.694,
          22147.671010000002,
          19230.733003,
          32020.674,
          28639.053,
          32935.398,
          23917.606,
          22348.41497
         ]
        },
        {
         "marker": {
          "color": "black"
         },
         "name": "Store 47",
         "type": "bar",
         "x": [
          "2017-07-01T00:00:00",
          "2017-07-02T00:00:00",
          "2017-07-03T00:00:00",
          "2017-07-04T00:00:00",
          "2017-07-05T00:00:00",
          "2017-07-06T00:00:00",
          "2017-07-07T00:00:00",
          "2017-07-08T00:00:00",
          "2017-07-09T00:00:00",
          "2017-07-10T00:00:00",
          "2017-07-11T00:00:00",
          "2017-07-12T00:00:00",
          "2017-07-13T00:00:00",
          "2017-07-14T00:00:00",
          "2017-07-15T00:00:00",
          "2017-07-16T00:00:00",
          "2017-07-17T00:00:00",
          "2017-07-18T00:00:00",
          "2017-07-19T00:00:00",
          "2017-07-20T00:00:00",
          "2017-07-21T00:00:00",
          "2017-07-22T00:00:00",
          "2017-07-23T00:00:00",
          "2017-07-24T00:00:00",
          "2017-07-25T00:00:00",
          "2017-07-26T00:00:00",
          "2017-07-27T00:00:00",
          "2017-07-28T00:00:00",
          "2017-07-29T00:00:00",
          "2017-07-30T00:00:00",
          "2017-07-31T00:00:00",
          "2017-08-01T00:00:00",
          "2017-08-02T00:00:00",
          "2017-08-03T00:00:00",
          "2017-08-04T00:00:00",
          "2017-08-05T00:00:00",
          "2017-08-06T00:00:00",
          "2017-08-07T00:00:00",
          "2017-08-08T00:00:00",
          "2017-08-09T00:00:00",
          "2017-08-10T00:00:00",
          "2017-08-11T00:00:00",
          "2017-08-12T00:00:00",
          "2017-08-13T00:00:00",
          "2017-08-14T00:00:00",
          "2017-08-15T00:00:00"
         ],
         "y": [
          57329.623799999994,
          66034.38192,
          42056.383,
          35110.354998,
          39224.51402,
          30262.174,
          35231.869,
          46020.458,
          55531.867,
          31442.833,
          29186.4178,
          31487.596998,
          26120.556,
          33536.87201,
          42999.738,
          55611.737,
          36607.756,
          30252.015,
          33281.766,
          32421.958,
          37414.90302,
          44697.303,
          53643.43708,
          34796.942,
          27372.37,
          32524.243,
          26040.431,
          36318.666,
          47380.865900000004,
          55165.075004,
          38293.834,
          40049.112,
          41343.467,
          31503.155,
          37289.365,
          49053.004,
          49954.856999999996,
          33466.666,
          28370.402000000002,
          31169.596999999998,
          26423.942,
          38072.65702,
          34385.41,
          38953.744,
          31814.268,
          31653.691
         ]
        },
        {
         "marker": {
          "color": "brown"
         },
         "name": "Store 48",
         "type": "bar",
         "x": [
          "2017-07-01T00:00:00",
          "2017-07-02T00:00:00",
          "2017-07-03T00:00:00",
          "2017-07-04T00:00:00",
          "2017-07-05T00:00:00",
          "2017-07-06T00:00:00",
          "2017-07-07T00:00:00",
          "2017-07-08T00:00:00",
          "2017-07-09T00:00:00",
          "2017-07-10T00:00:00",
          "2017-07-11T00:00:00",
          "2017-07-12T00:00:00",
          "2017-07-13T00:00:00",
          "2017-07-14T00:00:00",
          "2017-07-15T00:00:00",
          "2017-07-16T00:00:00",
          "2017-07-17T00:00:00",
          "2017-07-18T00:00:00",
          "2017-07-19T00:00:00",
          "2017-07-20T00:00:00",
          "2017-07-21T00:00:00",
          "2017-07-22T00:00:00",
          "2017-07-23T00:00:00",
          "2017-07-24T00:00:00",
          "2017-07-25T00:00:00",
          "2017-07-26T00:00:00",
          "2017-07-27T00:00:00",
          "2017-07-28T00:00:00",
          "2017-07-29T00:00:00",
          "2017-07-30T00:00:00",
          "2017-07-31T00:00:00",
          "2017-08-01T00:00:00",
          "2017-08-02T00:00:00",
          "2017-08-03T00:00:00",
          "2017-08-04T00:00:00",
          "2017-08-05T00:00:00",
          "2017-08-06T00:00:00",
          "2017-08-07T00:00:00",
          "2017-08-08T00:00:00",
          "2017-08-09T00:00:00",
          "2017-08-10T00:00:00",
          "2017-08-11T00:00:00",
          "2017-08-12T00:00:00",
          "2017-08-13T00:00:00",
          "2017-08-14T00:00:00",
          "2017-08-15T00:00:00"
         ],
         "y": [
          44261.972,
          55188.643,
          27319.1459,
          22925.875,
          23790.820004999998,
          20086.018,
          21602.387,
          33344.948,
          41082.508,
          20535.045996,
          16528.516001,
          17549.83797,
          15371.28703,
          21068.4841,
          29762.958,
          40750.98899,
          21294.352,
          19227.532,
          19060.836,
          18909.881999999998,
          24468.046,
          30599.339996,
          40842.273,
          22634.63704,
          17278.264995,
          19632.607,
          18052.134,
          23633.08601,
          33474.609,
          43716.349,
          28170.59,
          30318.161003,
          29147.954999999998,
          21770.39703,
          24123.843,
          34383.864,
          41066.644,
          23442.88804,
          19026.734,
          17328.251,
          16839.998,
          26365.391,
          24749.852,
          29164.995,
          20146.347,
          17695.05
         ]
        },
        {
         "marker": {
          "color": "cyan"
         },
         "name": "Store 49",
         "type": "bar",
         "x": [
          "2017-07-01T00:00:00",
          "2017-07-02T00:00:00",
          "2017-07-03T00:00:00",
          "2017-07-04T00:00:00",
          "2017-07-05T00:00:00",
          "2017-07-06T00:00:00",
          "2017-07-07T00:00:00",
          "2017-07-08T00:00:00",
          "2017-07-09T00:00:00",
          "2017-07-10T00:00:00",
          "2017-07-11T00:00:00",
          "2017-07-12T00:00:00",
          "2017-07-13T00:00:00",
          "2017-07-14T00:00:00",
          "2017-07-15T00:00:00",
          "2017-07-16T00:00:00",
          "2017-07-17T00:00:00",
          "2017-07-18T00:00:00",
          "2017-07-19T00:00:00",
          "2017-07-20T00:00:00",
          "2017-07-21T00:00:00",
          "2017-07-22T00:00:00",
          "2017-07-23T00:00:00",
          "2017-07-24T00:00:00",
          "2017-07-25T00:00:00",
          "2017-07-26T00:00:00",
          "2017-07-27T00:00:00",
          "2017-07-28T00:00:00",
          "2017-07-29T00:00:00",
          "2017-07-30T00:00:00",
          "2017-07-31T00:00:00",
          "2017-08-01T00:00:00",
          "2017-08-02T00:00:00",
          "2017-08-03T00:00:00",
          "2017-08-04T00:00:00",
          "2017-08-05T00:00:00",
          "2017-08-06T00:00:00",
          "2017-08-07T00:00:00",
          "2017-08-08T00:00:00",
          "2017-08-09T00:00:00",
          "2017-08-10T00:00:00",
          "2017-08-11T00:00:00",
          "2017-08-12T00:00:00",
          "2017-08-13T00:00:00",
          "2017-08-14T00:00:00",
          "2017-08-15T00:00:00"
         ],
         "y": [
          47710.123999999996,
          52755.15608,
          39798.7449,
          33627.811,
          41263.504,
          27635.191,
          37072.471099999995,
          38902.362,
          43721.30599,
          35084.452,
          27302.05499,
          33340.167,
          27362.255,
          34621.284,
          38493.32102,
          44119.11602,
          35473.021,
          27504.982,
          34227.621,
          26615.42403,
          33024.695,
          34126.714,
          40300.152,
          33466.5,
          25587.23398,
          32489.508,
          24023.588,
          33045.234,
          35886.414,
          39643.132004,
          35327.71,
          36645.744,
          38517.015,
          24918.680003999998,
          34756.526906,
          34122.0612,
          41262.303100000005,
          33569.0768,
          26479.72297,
          30925.688,
          25371.936,
          32977.57,
          30722.04604,
          32984.485,
          31229.006,
          28429.226003
         ]
        },
        {
         "marker": {
          "color": "magenta"
         },
         "name": "Store 50",
         "type": "bar",
         "x": [
          "2017-07-01T00:00:00",
          "2017-07-02T00:00:00",
          "2017-07-03T00:00:00",
          "2017-07-04T00:00:00",
          "2017-07-05T00:00:00",
          "2017-07-06T00:00:00",
          "2017-07-07T00:00:00",
          "2017-07-08T00:00:00",
          "2017-07-09T00:00:00",
          "2017-07-10T00:00:00",
          "2017-07-11T00:00:00",
          "2017-07-12T00:00:00",
          "2017-07-13T00:00:00",
          "2017-07-14T00:00:00",
          "2017-07-15T00:00:00",
          "2017-07-16T00:00:00",
          "2017-07-17T00:00:00",
          "2017-07-18T00:00:00",
          "2017-07-19T00:00:00",
          "2017-07-20T00:00:00",
          "2017-07-21T00:00:00",
          "2017-07-22T00:00:00",
          "2017-07-23T00:00:00",
          "2017-07-24T00:00:00",
          "2017-07-25T00:00:00",
          "2017-07-26T00:00:00",
          "2017-07-27T00:00:00",
          "2017-07-28T00:00:00",
          "2017-07-29T00:00:00",
          "2017-07-30T00:00:00",
          "2017-07-31T00:00:00",
          "2017-08-01T00:00:00",
          "2017-08-02T00:00:00",
          "2017-08-03T00:00:00",
          "2017-08-04T00:00:00",
          "2017-08-05T00:00:00",
          "2017-08-06T00:00:00",
          "2017-08-07T00:00:00",
          "2017-08-08T00:00:00",
          "2017-08-09T00:00:00",
          "2017-08-10T00:00:00",
          "2017-08-11T00:00:00",
          "2017-08-12T00:00:00",
          "2017-08-13T00:00:00",
          "2017-08-14T00:00:00",
          "2017-08-15T00:00:00"
         ],
         "y": [
          33927.252004,
          36201.564,
          21428.28,
          19671.04098,
          20250.545000000002,
          17712.6779995,
          20577.814,
          27444.996,
          27703.83397,
          20385.29,
          17532.351,
          18804.17,
          15339.92599,
          19834.279,
          25964.814,
          27946.379999,
          20948.613,
          18278.91,
          18865.779,
          18122.715,
          19293.22598,
          26386.0929,
          29412.921,
          20176.261004,
          18572.603,
          18063.433001,
          17047.749,
          22359.163,
          29523.784,
          28905.006,
          21258.423,
          23116.372,
          24022.111,
          18177.203,
          18630.92,
          27076.141996,
          25240.542,
          20102.521,
          16810.099,
          17504.005005,
          17233.233004,
          21339.243004,
          19413.958001,
          21221.233,
          18468.114,
          16879.121004
         ]
        },
        {
         "marker": {
          "color": "blue"
         },
         "name": "Store 51",
         "type": "bar",
         "x": [
          "2017-07-01T00:00:00",
          "2017-07-02T00:00:00",
          "2017-07-03T00:00:00",
          "2017-07-04T00:00:00",
          "2017-07-05T00:00:00",
          "2017-07-06T00:00:00",
          "2017-07-07T00:00:00",
          "2017-07-08T00:00:00",
          "2017-07-09T00:00:00",
          "2017-07-10T00:00:00",
          "2017-07-11T00:00:00",
          "2017-07-12T00:00:00",
          "2017-07-13T00:00:00",
          "2017-07-14T00:00:00",
          "2017-07-15T00:00:00",
          "2017-07-16T00:00:00",
          "2017-07-17T00:00:00",
          "2017-07-18T00:00:00",
          "2017-07-19T00:00:00",
          "2017-07-20T00:00:00",
          "2017-07-21T00:00:00",
          "2017-07-22T00:00:00",
          "2017-07-23T00:00:00",
          "2017-07-24T00:00:00",
          "2017-07-25T00:00:00",
          "2017-07-26T00:00:00",
          "2017-07-27T00:00:00",
          "2017-07-28T00:00:00",
          "2017-07-29T00:00:00",
          "2017-07-30T00:00:00",
          "2017-07-31T00:00:00",
          "2017-08-01T00:00:00",
          "2017-08-02T00:00:00",
          "2017-08-03T00:00:00",
          "2017-08-04T00:00:00",
          "2017-08-05T00:00:00",
          "2017-08-06T00:00:00",
          "2017-08-07T00:00:00",
          "2017-08-08T00:00:00",
          "2017-08-09T00:00:00",
          "2017-08-10T00:00:00",
          "2017-08-11T00:00:00",
          "2017-08-12T00:00:00",
          "2017-08-13T00:00:00",
          "2017-08-14T00:00:00",
          "2017-08-15T00:00:00"
         ],
         "y": [
          29236.599,
          35281.117,
          24558.492,
          20333.174,
          27781.381996,
          17382.456,
          27516.495,
          25726.467,
          31683.08701,
          20828.754,
          19026.70997,
          26194.840002,
          15911.969,
          26385.9752,
          25354.164,
          31024.755,
          22050.61396,
          17841.323,
          26832.68,
          17562.665,
          26286.907961,
          24646.2,
          23243.917,
          25309.881999999998,
          21278.683,
          25735.891,
          17206.981,
          25944.219,
          25381.37296,
          31740.339,
          22751.888,
          22518.486,
          28939.482,
          17757.817,
          26565.046000000002,
          27732.397,
          29140.969,
          21202.605,
          17197.115999999998,
          25054.913,
          15364.387,
          26070.018,
          19532.964,
          25713.28403,
          18932.967,
          20154.558999999997
         ]
        },
        {
         "marker": {
          "color": "red"
         },
         "name": "Store 52",
         "type": "bar",
         "x": [
          "2017-07-01T00:00:00",
          "2017-07-02T00:00:00",
          "2017-07-03T00:00:00",
          "2017-07-04T00:00:00",
          "2017-07-05T00:00:00",
          "2017-07-06T00:00:00",
          "2017-07-07T00:00:00",
          "2017-07-08T00:00:00",
          "2017-07-09T00:00:00",
          "2017-07-10T00:00:00",
          "2017-07-11T00:00:00",
          "2017-07-12T00:00:00",
          "2017-07-13T00:00:00",
          "2017-07-14T00:00:00",
          "2017-07-15T00:00:00",
          "2017-07-16T00:00:00",
          "2017-07-17T00:00:00",
          "2017-07-18T00:00:00",
          "2017-07-19T00:00:00",
          "2017-07-20T00:00:00",
          "2017-07-21T00:00:00",
          "2017-07-22T00:00:00",
          "2017-07-23T00:00:00",
          "2017-07-24T00:00:00",
          "2017-07-25T00:00:00",
          "2017-07-26T00:00:00",
          "2017-07-27T00:00:00",
          "2017-07-28T00:00:00",
          "2017-07-29T00:00:00",
          "2017-07-30T00:00:00",
          "2017-07-31T00:00:00",
          "2017-08-01T00:00:00",
          "2017-08-02T00:00:00",
          "2017-08-03T00:00:00",
          "2017-08-04T00:00:00",
          "2017-08-05T00:00:00",
          "2017-08-06T00:00:00",
          "2017-08-07T00:00:00",
          "2017-08-08T00:00:00",
          "2017-08-09T00:00:00",
          "2017-08-10T00:00:00",
          "2017-08-11T00:00:00",
          "2017-08-12T00:00:00",
          "2017-08-13T00:00:00",
          "2017-08-14T00:00:00",
          "2017-08-15T00:00:00"
         ],
         "y": [
          28387.425,
          28386.905,
          23205.533,
          17328.106,
          24979.502,
          16290.5710002,
          22566.62297,
          27395.554,
          27596.364,
          18459.977,
          15976.267,
          22284.165,
          17766.6359995,
          22574.374,
          26716.752,
          30216.529,
          22106.331,
          17041,
          23782.069,
          18952.093,
          22549.103,
          25815.778,
          29761.813998999998,
          20484.642,
          17653.922,
          23978.732,
          17526.184004,
          27263.18097,
          33950.49397,
          26874.19797,
          21818.138,
          22481.295980000003,
          28775.06,
          18792.45898,
          24466.113,
          25913.471,
          26587.565,
          20987.97997,
          16838.945,
          24461.118,
          19425.613,
          30742.706,
          22525.366,
          24232.105,
          18840.373000300002,
          18600.046
         ]
        },
        {
         "marker": {
          "color": "green"
         },
         "name": "Store 53",
         "type": "bar",
         "x": [
          "2017-07-01T00:00:00",
          "2017-07-02T00:00:00",
          "2017-07-03T00:00:00",
          "2017-07-04T00:00:00",
          "2017-07-05T00:00:00",
          "2017-07-06T00:00:00",
          "2017-07-07T00:00:00",
          "2017-07-08T00:00:00",
          "2017-07-09T00:00:00",
          "2017-07-10T00:00:00",
          "2017-07-11T00:00:00",
          "2017-07-12T00:00:00",
          "2017-07-13T00:00:00",
          "2017-07-14T00:00:00",
          "2017-07-15T00:00:00",
          "2017-07-16T00:00:00",
          "2017-07-17T00:00:00",
          "2017-07-18T00:00:00",
          "2017-07-19T00:00:00",
          "2017-07-20T00:00:00",
          "2017-07-21T00:00:00",
          "2017-07-22T00:00:00",
          "2017-07-23T00:00:00",
          "2017-07-24T00:00:00",
          "2017-07-25T00:00:00",
          "2017-07-26T00:00:00",
          "2017-07-27T00:00:00",
          "2017-07-28T00:00:00",
          "2017-07-29T00:00:00",
          "2017-07-30T00:00:00",
          "2017-07-31T00:00:00",
          "2017-08-01T00:00:00",
          "2017-08-02T00:00:00",
          "2017-08-03T00:00:00",
          "2017-08-04T00:00:00",
          "2017-08-05T00:00:00",
          "2017-08-06T00:00:00",
          "2017-08-07T00:00:00",
          "2017-08-08T00:00:00",
          "2017-08-09T00:00:00",
          "2017-08-10T00:00:00",
          "2017-08-11T00:00:00",
          "2017-08-12T00:00:00",
          "2017-08-13T00:00:00",
          "2017-08-14T00:00:00",
          "2017-08-15T00:00:00"
         ],
         "y": [
          17255.92,
          19108.595,
          11435,
          9633.921,
          12427.935,
          7675.103,
          10681.581,
          12710.193,
          16961.471,
          9643.044,
          8899.598,
          11989.148000000001,
          8525.96201,
          11736.284,
          15035.157,
          16387.04,
          10659.214,
          9895.627,
          11916.738,
          8971.985,
          12933.368999999999,
          13903.912,
          15274.16302,
          11461.163,
          8396.316,
          12397.486,
          7726.762,
          11183.506,
          14961.53703,
          17141.285,
          11274.012,
          12523.915,
          14245.9779,
          8575.192,
          11108.85799,
          12822.752,
          16034.789,
          10941.994999999999,
          8345.416,
          10818.257,
          8247.24699,
          12033.407,
          12316.1579,
          12750.176019999999,
          8530.741,
          8208.189
         ]
        },
        {
         "marker": {
          "color": "purple"
         },
         "name": "Store 54",
         "type": "bar",
         "x": [
          "2017-07-01T00:00:00",
          "2017-07-02T00:00:00",
          "2017-07-03T00:00:00",
          "2017-07-04T00:00:00",
          "2017-07-05T00:00:00",
          "2017-07-06T00:00:00",
          "2017-07-07T00:00:00",
          "2017-07-08T00:00:00",
          "2017-07-09T00:00:00",
          "2017-07-10T00:00:00",
          "2017-07-11T00:00:00",
          "2017-07-12T00:00:00",
          "2017-07-13T00:00:00",
          "2017-07-14T00:00:00",
          "2017-07-15T00:00:00",
          "2017-07-16T00:00:00",
          "2017-07-17T00:00:00",
          "2017-07-18T00:00:00",
          "2017-07-19T00:00:00",
          "2017-07-20T00:00:00",
          "2017-07-21T00:00:00",
          "2017-07-22T00:00:00",
          "2017-07-23T00:00:00",
          "2017-07-24T00:00:00",
          "2017-07-25T00:00:00",
          "2017-07-26T00:00:00",
          "2017-07-27T00:00:00",
          "2017-07-28T00:00:00",
          "2017-07-29T00:00:00",
          "2017-07-30T00:00:00",
          "2017-07-31T00:00:00",
          "2017-08-01T00:00:00",
          "2017-08-02T00:00:00",
          "2017-08-03T00:00:00",
          "2017-08-04T00:00:00",
          "2017-08-05T00:00:00",
          "2017-08-06T00:00:00",
          "2017-08-07T00:00:00",
          "2017-08-08T00:00:00",
          "2017-08-09T00:00:00",
          "2017-08-10T00:00:00",
          "2017-08-11T00:00:00",
          "2017-08-12T00:00:00",
          "2017-08-13T00:00:00",
          "2017-08-14T00:00:00",
          "2017-08-15T00:00:00"
         ],
         "y": [
          16699.736996,
          13245.737,
          8055.075,
          9979.471,
          7830.9009989999995,
          5956.227002,
          12429.158,
          9925.043998000001,
          13249.039,
          10572.819,
          9517.544,
          8042.298,
          6722.425,
          6765.057998,
          9306.72,
          16959.135,
          10736.138,
          8324.379,
          7873.941002,
          7097.149003,
          10845.986,
          9739.265,
          16841.417,
          10245.246998,
          8241.905999999999,
          6572.494,
          6911.345,
          9531.089998,
          10878.746,
          15815.709996,
          12830.713996,
          12465.413,
          8335.702,
          8639.574,
          9146.988,
          9825.032,
          18411.67,
          10459.315,
          12166.299,
          8083.764,
          9757.816,
          8513.834,
          9139.678002,
          14246.827996,
          11882.994,
          12666.858
         ]
        }
       ],
       "layout": {
        "barmode": "group",
        "template": {
         "data": {
          "bar": [
           {
            "error_x": {
             "color": "#2a3f5f"
            },
            "error_y": {
             "color": "#2a3f5f"
            },
            "marker": {
             "line": {
              "color": "white",
              "width": 0.5
             },
             "pattern": {
              "fillmode": "overlay",
              "size": 10,
              "solidity": 0.2
             }
            },
            "type": "bar"
           }
          ],
          "barpolar": [
           {
            "marker": {
             "line": {
              "color": "white",
              "width": 0.5
             },
             "pattern": {
              "fillmode": "overlay",
              "size": 10,
              "solidity": 0.2
             }
            },
            "type": "barpolar"
           }
          ],
          "carpet": [
           {
            "aaxis": {
             "endlinecolor": "#2a3f5f",
             "gridcolor": "#C8D4E3",
             "linecolor": "#C8D4E3",
             "minorgridcolor": "#C8D4E3",
             "startlinecolor": "#2a3f5f"
            },
            "baxis": {
             "endlinecolor": "#2a3f5f",
             "gridcolor": "#C8D4E3",
             "linecolor": "#C8D4E3",
             "minorgridcolor": "#C8D4E3",
             "startlinecolor": "#2a3f5f"
            },
            "type": "carpet"
           }
          ],
          "choropleth": [
           {
            "colorbar": {
             "outlinewidth": 0,
             "ticks": ""
            },
            "type": "choropleth"
           }
          ],
          "contour": [
           {
            "colorbar": {
             "outlinewidth": 0,
             "ticks": ""
            },
            "colorscale": [
             [
              0,
              "#0d0887"
             ],
             [
              0.1111111111111111,
              "#46039f"
             ],
             [
              0.2222222222222222,
              "#7201a8"
             ],
             [
              0.3333333333333333,
              "#9c179e"
             ],
             [
              0.4444444444444444,
              "#bd3786"
             ],
             [
              0.5555555555555556,
              "#d8576b"
             ],
             [
              0.6666666666666666,
              "#ed7953"
             ],
             [
              0.7777777777777778,
              "#fb9f3a"
             ],
             [
              0.8888888888888888,
              "#fdca26"
             ],
             [
              1,
              "#f0f921"
             ]
            ],
            "type": "contour"
           }
          ],
          "contourcarpet": [
           {
            "colorbar": {
             "outlinewidth": 0,
             "ticks": ""
            },
            "type": "contourcarpet"
           }
          ],
          "heatmap": [
           {
            "colorbar": {
             "outlinewidth": 0,
             "ticks": ""
            },
            "colorscale": [
             [
              0,
              "#0d0887"
             ],
             [
              0.1111111111111111,
              "#46039f"
             ],
             [
              0.2222222222222222,
              "#7201a8"
             ],
             [
              0.3333333333333333,
              "#9c179e"
             ],
             [
              0.4444444444444444,
              "#bd3786"
             ],
             [
              0.5555555555555556,
              "#d8576b"
             ],
             [
              0.6666666666666666,
              "#ed7953"
             ],
             [
              0.7777777777777778,
              "#fb9f3a"
             ],
             [
              0.8888888888888888,
              "#fdca26"
             ],
             [
              1,
              "#f0f921"
             ]
            ],
            "type": "heatmap"
           }
          ],
          "heatmapgl": [
           {
            "colorbar": {
             "outlinewidth": 0,
             "ticks": ""
            },
            "colorscale": [
             [
              0,
              "#0d0887"
             ],
             [
              0.1111111111111111,
              "#46039f"
             ],
             [
              0.2222222222222222,
              "#7201a8"
             ],
             [
              0.3333333333333333,
              "#9c179e"
             ],
             [
              0.4444444444444444,
              "#bd3786"
             ],
             [
              0.5555555555555556,
              "#d8576b"
             ],
             [
              0.6666666666666666,
              "#ed7953"
             ],
             [
              0.7777777777777778,
              "#fb9f3a"
             ],
             [
              0.8888888888888888,
              "#fdca26"
             ],
             [
              1,
              "#f0f921"
             ]
            ],
            "type": "heatmapgl"
           }
          ],
          "histogram": [
           {
            "marker": {
             "pattern": {
              "fillmode": "overlay",
              "size": 10,
              "solidity": 0.2
             }
            },
            "type": "histogram"
           }
          ],
          "histogram2d": [
           {
            "colorbar": {
             "outlinewidth": 0,
             "ticks": ""
            },
            "colorscale": [
             [
              0,
              "#0d0887"
             ],
             [
              0.1111111111111111,
              "#46039f"
             ],
             [
              0.2222222222222222,
              "#7201a8"
             ],
             [
              0.3333333333333333,
              "#9c179e"
             ],
             [
              0.4444444444444444,
              "#bd3786"
             ],
             [
              0.5555555555555556,
              "#d8576b"
             ],
             [
              0.6666666666666666,
              "#ed7953"
             ],
             [
              0.7777777777777778,
              "#fb9f3a"
             ],
             [
              0.8888888888888888,
              "#fdca26"
             ],
             [
              1,
              "#f0f921"
             ]
            ],
            "type": "histogram2d"
           }
          ],
          "histogram2dcontour": [
           {
            "colorbar": {
             "outlinewidth": 0,
             "ticks": ""
            },
            "colorscale": [
             [
              0,
              "#0d0887"
             ],
             [
              0.1111111111111111,
              "#46039f"
             ],
             [
              0.2222222222222222,
              "#7201a8"
             ],
             [
              0.3333333333333333,
              "#9c179e"
             ],
             [
              0.4444444444444444,
              "#bd3786"
             ],
             [
              0.5555555555555556,
              "#d8576b"
             ],
             [
              0.6666666666666666,
              "#ed7953"
             ],
             [
              0.7777777777777778,
              "#fb9f3a"
             ],
             [
              0.8888888888888888,
              "#fdca26"
             ],
             [
              1,
              "#f0f921"
             ]
            ],
            "type": "histogram2dcontour"
           }
          ],
          "mesh3d": [
           {
            "colorbar": {
             "outlinewidth": 0,
             "ticks": ""
            },
            "type": "mesh3d"
           }
          ],
          "parcoords": [
           {
            "line": {
             "colorbar": {
              "outlinewidth": 0,
              "ticks": ""
             }
            },
            "type": "parcoords"
           }
          ],
          "pie": [
           {
            "automargin": true,
            "type": "pie"
           }
          ],
          "scatter": [
           {
            "fillpattern": {
             "fillmode": "overlay",
             "size": 10,
             "solidity": 0.2
            },
            "type": "scatter"
           }
          ],
          "scatter3d": [
           {
            "line": {
             "colorbar": {
              "outlinewidth": 0,
              "ticks": ""
             }
            },
            "marker": {
             "colorbar": {
              "outlinewidth": 0,
              "ticks": ""
             }
            },
            "type": "scatter3d"
           }
          ],
          "scattercarpet": [
           {
            "marker": {
             "colorbar": {
              "outlinewidth": 0,
              "ticks": ""
             }
            },
            "type": "scattercarpet"
           }
          ],
          "scattergeo": [
           {
            "marker": {
             "colorbar": {
              "outlinewidth": 0,
              "ticks": ""
             }
            },
            "type": "scattergeo"
           }
          ],
          "scattergl": [
           {
            "marker": {
             "colorbar": {
              "outlinewidth": 0,
              "ticks": ""
             }
            },
            "type": "scattergl"
           }
          ],
          "scattermapbox": [
           {
            "marker": {
             "colorbar": {
              "outlinewidth": 0,
              "ticks": ""
             }
            },
            "type": "scattermapbox"
           }
          ],
          "scatterpolar": [
           {
            "marker": {
             "colorbar": {
              "outlinewidth": 0,
              "ticks": ""
             }
            },
            "type": "scatterpolar"
           }
          ],
          "scatterpolargl": [
           {
            "marker": {
             "colorbar": {
              "outlinewidth": 0,
              "ticks": ""
             }
            },
            "type": "scatterpolargl"
           }
          ],
          "scatterternary": [
           {
            "marker": {
             "colorbar": {
              "outlinewidth": 0,
              "ticks": ""
             }
            },
            "type": "scatterternary"
           }
          ],
          "surface": [
           {
            "colorbar": {
             "outlinewidth": 0,
             "ticks": ""
            },
            "colorscale": [
             [
              0,
              "#0d0887"
             ],
             [
              0.1111111111111111,
              "#46039f"
             ],
             [
              0.2222222222222222,
              "#7201a8"
             ],
             [
              0.3333333333333333,
              "#9c179e"
             ],
             [
              0.4444444444444444,
              "#bd3786"
             ],
             [
              0.5555555555555556,
              "#d8576b"
             ],
             [
              0.6666666666666666,
              "#ed7953"
             ],
             [
              0.7777777777777778,
              "#fb9f3a"
             ],
             [
              0.8888888888888888,
              "#fdca26"
             ],
             [
              1,
              "#f0f921"
             ]
            ],
            "type": "surface"
           }
          ],
          "table": [
           {
            "cells": {
             "fill": {
              "color": "#EBF0F8"
             },
             "line": {
              "color": "white"
             }
            },
            "header": {
             "fill": {
              "color": "#C8D4E3"
             },
             "line": {
              "color": "white"
             }
            },
            "type": "table"
           }
          ]
         },
         "layout": {
          "annotationdefaults": {
           "arrowcolor": "#2a3f5f",
           "arrowhead": 0,
           "arrowwidth": 1
          },
          "autotypenumbers": "strict",
          "coloraxis": {
           "colorbar": {
            "outlinewidth": 0,
            "ticks": ""
           }
          },
          "colorscale": {
           "diverging": [
            [
             0,
             "#8e0152"
            ],
            [
             0.1,
             "#c51b7d"
            ],
            [
             0.2,
             "#de77ae"
            ],
            [
             0.3,
             "#f1b6da"
            ],
            [
             0.4,
             "#fde0ef"
            ],
            [
             0.5,
             "#f7f7f7"
            ],
            [
             0.6,
             "#e6f5d0"
            ],
            [
             0.7,
             "#b8e186"
            ],
            [
             0.8,
             "#7fbc41"
            ],
            [
             0.9,
             "#4d9221"
            ],
            [
             1,
             "#276419"
            ]
           ],
           "sequential": [
            [
             0,
             "#0d0887"
            ],
            [
             0.1111111111111111,
             "#46039f"
            ],
            [
             0.2222222222222222,
             "#7201a8"
            ],
            [
             0.3333333333333333,
             "#9c179e"
            ],
            [
             0.4444444444444444,
             "#bd3786"
            ],
            [
             0.5555555555555556,
             "#d8576b"
            ],
            [
             0.6666666666666666,
             "#ed7953"
            ],
            [
             0.7777777777777778,
             "#fb9f3a"
            ],
            [
             0.8888888888888888,
             "#fdca26"
            ],
            [
             1,
             "#f0f921"
            ]
           ],
           "sequentialminus": [
            [
             0,
             "#0d0887"
            ],
            [
             0.1111111111111111,
             "#46039f"
            ],
            [
             0.2222222222222222,
             "#7201a8"
            ],
            [
             0.3333333333333333,
             "#9c179e"
            ],
            [
             0.4444444444444444,
             "#bd3786"
            ],
            [
             0.5555555555555556,
             "#d8576b"
            ],
            [
             0.6666666666666666,
             "#ed7953"
            ],
            [
             0.7777777777777778,
             "#fb9f3a"
            ],
            [
             0.8888888888888888,
             "#fdca26"
            ],
            [
             1,
             "#f0f921"
            ]
           ]
          },
          "colorway": [
           "#636efa",
           "#EF553B",
           "#00cc96",
           "#ab63fa",
           "#FFA15A",
           "#19d3f3",
           "#FF6692",
           "#B6E880",
           "#FF97FF",
           "#FECB52"
          ],
          "font": {
           "color": "#2a3f5f"
          },
          "geo": {
           "bgcolor": "white",
           "lakecolor": "white",
           "landcolor": "white",
           "showlakes": true,
           "showland": true,
           "subunitcolor": "#C8D4E3"
          },
          "hoverlabel": {
           "align": "left"
          },
          "hovermode": "closest",
          "mapbox": {
           "style": "light"
          },
          "paper_bgcolor": "white",
          "plot_bgcolor": "white",
          "polar": {
           "angularaxis": {
            "gridcolor": "#EBF0F8",
            "linecolor": "#EBF0F8",
            "ticks": ""
           },
           "bgcolor": "white",
           "radialaxis": {
            "gridcolor": "#EBF0F8",
            "linecolor": "#EBF0F8",
            "ticks": ""
           }
          },
          "scene": {
           "xaxis": {
            "backgroundcolor": "white",
            "gridcolor": "#DFE8F3",
            "gridwidth": 2,
            "linecolor": "#EBF0F8",
            "showbackground": true,
            "ticks": "",
            "zerolinecolor": "#EBF0F8"
           },
           "yaxis": {
            "backgroundcolor": "white",
            "gridcolor": "#DFE8F3",
            "gridwidth": 2,
            "linecolor": "#EBF0F8",
            "showbackground": true,
            "ticks": "",
            "zerolinecolor": "#EBF0F8"
           },
           "zaxis": {
            "backgroundcolor": "white",
            "gridcolor": "#DFE8F3",
            "gridwidth": 2,
            "linecolor": "#EBF0F8",
            "showbackground": true,
            "ticks": "",
            "zerolinecolor": "#EBF0F8"
           }
          },
          "shapedefaults": {
           "line": {
            "color": "#2a3f5f"
           }
          },
          "ternary": {
           "aaxis": {
            "gridcolor": "#DFE8F3",
            "linecolor": "#A2B1C6",
            "ticks": ""
           },
           "baxis": {
            "gridcolor": "#DFE8F3",
            "linecolor": "#A2B1C6",
            "ticks": ""
           },
           "bgcolor": "white",
           "caxis": {
            "gridcolor": "#DFE8F3",
            "linecolor": "#A2B1C6",
            "ticks": ""
           }
          },
          "title": {
           "x": 0.05
          },
          "xaxis": {
           "automargin": true,
           "gridcolor": "#EBF0F8",
           "linecolor": "#EBF0F8",
           "ticks": "",
           "title": {
            "standoff": 15
           },
           "zerolinecolor": "#EBF0F8",
           "zerolinewidth": 2
          },
          "yaxis": {
           "automargin": true,
           "gridcolor": "#EBF0F8",
           "linecolor": "#EBF0F8",
           "ticks": "",
           "title": {
            "standoff": 15
           },
           "zerolinecolor": "#EBF0F8",
           "zerolinewidth": 2
          }
         }
        },
        "title": {
         "text": "Store Sales in August 2017"
        },
        "xaxis": {
         "title": {
          "text": "Store Number"
         }
        },
        "yaxis": {
         "title": {
          "text": "Total Sales"
         }
        }
       }
      }
     },
     "metadata": {},
     "output_type": "display_data"
    }
   ],
   "source": [
    "predict = pd.read_csv(\"./test_2017.csv\")\n",
    "predict['date'] = pd.to_datetime(predict['date'])\n",
    "\n",
    "test_2017 = train_all[(train_all.date >= '2017-07-01') & (train_all.date <= '2017-08-31')]\n",
    "test_2017['date'] = pd.to_datetime(test_2017['date'])\n",
    "date_sales_sum = predict.groupby('date')['sales'].sum().reset_index()\n",
    "\n",
    "\n",
    "# 일별 판매량 계산\n",
    "test_2017_grouped = test_2017.groupby(test_2017['date'])['sales'].sum().reset_index()\n",
    "\n",
    "# store_nbr 별 판매량 계산\n",
    "store_sales_2017 = test_2017.groupby(['store_nbr', test_2017['date']])['sales'].sum().reset_index()\n",
    "\n",
    "# 첫 번째 그래프: 일별 판매량 라인 그래프\n",
    "fig1 = go.Figure()\n",
    "fig1.add_trace(go.Scatter(x=test_2017_grouped['date'], y=test_2017_grouped['sales'],\n",
    "                          mode='lines+markers', name='Daily Sales August 2017',\n",
    "                          line=dict(color='green')))\n",
    "# 새로운 데이터를 기존 그래프에 추가\n",
    "fig1.add_trace(go.Scatter(\n",
    "    x=date_sales_sum['date'],\n",
    "    y=date_sales_sum['sales'],\n",
    "    mode='lines+markers',\n",
    "    name='New Sales Data',\n",
    "    line=dict(color='magenta')  # 새로운 라인의 색상 지정\n",
    "))\n",
    "\n",
    "fig1.update_layout(\n",
    "    title='Daily Sales in August 2017',\n",
    "    xaxis_title='Day',\n",
    "    yaxis_title='Total Sales',\n",
    "    template='plotly_white'\n",
    ")\n",
    "\n",
    "# 두 번째 그래프: store_nbr 별 판매량 바 차트\n",
    "fig2 = go.Figure()\n",
    "\n",
    "# 매장별로 다른 색상의 바를 생성\n",
    "colors = ['blue', 'red', 'green', 'purple', 'orange', 'yellow', 'black', 'brown', 'cyan', 'magenta']\n",
    "for i, store in enumerate(store_sales_2017['store_nbr'].unique()):\n",
    "    store_data = store_sales_2017[store_sales_2017['store_nbr'] == store]\n",
    "    fig2.add_trace(go.Bar(x=store_data['date'], y=store_data['sales'],\n",
    "                          name=f'Store {store}', marker_color=colors[i % len(colors)]))\n",
    "\n",
    "fig2.update_layout(\n",
    "    title='Store Sales in August 2017',\n",
    "    xaxis_title='Store Number',\n",
    "    yaxis_title='Total Sales',\n",
    "    template='plotly_white',\n",
    "    barmode='group'  # 그룹으로 묶어 표시\n",
    ")\n",
    "\n",
    "# 그래프 출력\n",
    "fig1.show()\n",
    "fig2.show()"
   ]
  },
  {
   "cell_type": "code",
   "execution_count": 282,
   "metadata": {},
   "outputs": [
    {
     "data": {
      "image/png": "[encoded data removed]",
      "text/plain": [
       "<Figure size 1400x700 with 1 Axes>"
      ]
     },
     "metadata": {},
     "output_type": "display_data"
    }
   ],
   "source": [
    "# 날짜별 store_nbr을 groupby 해서 해당 날짜의 sales 합계 계산\n",
    "train_2017_grouped = train_2017.groupby('month')['transactions'].sum().reset_index()\n",
    "train_2016_grouped = train_2016.groupby('month')['transactions'].sum().reset_index()\n",
    "train_2015_grouped = train_2015.groupby('month')['transactions'].sum().reset_index()\n",
    "train_2014_grouped = train_2014.groupby('month')['transactions'].sum().reset_index()\n",
    "train_2013_grouped = train_2013.groupby('month')['transactions'].sum().reset_index()\n",
    "\n",
    "# 날짜별 sales 합계를 나타내는 라인 그래프 그리기\n",
    "plt.figure(figsize=(14, 7))\n",
    "\n",
    "plt.plot(train_2017_grouped['month'], train_2017_grouped['transactions'], label='transactions 2017', color='green')\n",
    "plt.plot(train_2016_grouped['month'], train_2016_grouped['transactions'], label='transactions 2016', color='blue')\n",
    "plt.plot(train_2015_grouped['month'], train_2015_grouped['transactions'], label='transactions 2015', color='red')\n",
    "plt.plot(train_2014_grouped['month'], train_2014_grouped['transactions'], label='transactions 2014', color='orange')\n",
    "plt.plot(train_2013_grouped['month'], train_2013_grouped['transactions'], label='transactions 2013', color='purple')\n",
    "\n",
    "plt.xlabel('Month-Day')\n",
    "plt.ylabel('Sales')\n",
    "plt.title('Daily transactions Sum Grouped by Month and Day (2013-2017)')\n",
    "plt.legend()\n",
    "plt.grid(True)\n",
    "plt.show()"
   ]
  },
  {
   "cell_type": "code",
   "execution_count": 283,
   "metadata": {},
   "outputs": [],
   "source": [
    "\n",
    "train_2017.to_csv(\"train_2017.csv\", index=False)\n",
    "train_2016.to_csv(\"train_2016.csv\", index=False)\n",
    "train_2015.to_csv(\"train_2015.csv\", index=False)\n",
    "train_2014.to_csv(\"train_2014.csv\", index=False)\n",
    "train_2013.to_csv(\"train_2013.csv\", index=False)"
   ]
  },
  {
   "cell_type": "markdown",
   "metadata": {},
   "source": [
    "### Feature Select"
   ]
  },
  {
   "cell_type": "code",
   "execution_count": 304,
   "metadata": {},
   "outputs": [],
   "source": [
    "train = pd.read_csv(\"train_2016.csv\")\n",
    "train['date'] = pd.to_datetime(train['date'])"
   ]
  },
  {
   "cell_type": "code",
   "execution_count": 305,
   "metadata": {},
   "outputs": [
    {
     "name": "stdout",
     "output_type": "stream",
     "text": [
      "<class 'pandas.core.frame.DataFrame'>\n",
      "RangeIndex: 530508 entries, 0 to 530507\n",
      "Data columns (total 19 columns):\n",
      " #   Column                   Non-Null Count   Dtype         \n",
      "---  ------                   --------------   -----         \n",
      " 0   id                       530508 non-null  int64         \n",
      " 1   date                     530508 non-null  datetime64[ns]\n",
      " 2   store_nbr                530508 non-null  int64         \n",
      " 3   family                   530508 non-null  object        \n",
      " 4   sales                    530508 non-null  float64       \n",
      " 5   onpromotion              530508 non-null  int64         \n",
      " 6   weekday                  530508 non-null  int64         \n",
      " 7   year                     530508 non-null  int64         \n",
      " 8   month                    530508 non-null  int64         \n",
      " 9   day                      530508 non-null  int64         \n",
      " 10  transactions             530508 non-null  float64       \n",
      " 11  is_holiday               530508 non-null  int64         \n",
      " 12  type                     530508 non-null  object        \n",
      " 13  cluster                  530508 non-null  int64         \n",
      " 14  dcoilwtico_interpolated  530508 non-null  float64       \n",
      " 15  Rolling_Mean_Sales_14d   530508 non-null  float64       \n",
      " 16  Rolling_Std_Sales_14d    530508 non-null  float64       \n",
      " 17  Rolling_Mean_Sales_28d   530508 non-null  float64       \n",
      " 18  Rolling_Std_Sales_28d    530508 non-null  float64       \n",
      "dtypes: datetime64[ns](1), float64(7), int64(9), object(2)\n",
      "memory usage: 76.9+ MB\n"
     ]
    }
   ],
   "source": [
    "train.info()"
   ]
  },
  {
   "cell_type": "code",
   "execution_count": 306,
   "metadata": {},
   "outputs": [
    {
     "data": {
      "image/png": "[encoded data removed]",
      "text/plain": [
       "<Figure size 1600x1400 with 2 Axes>"
      ]
     },
     "metadata": {},
     "output_type": "display_data"
    },
    {
     "name": "stdout",
     "output_type": "stream",
     "text": [
      "Correlation with sales:\n",
      " sales                      1.000\n",
      "onpromotion                0.523\n",
      "transactions               0.224\n",
      "Rolling_Mean_Sales_14d     0.193\n",
      "Rolling_Std_Sales_14d      0.192\n",
      "Rolling_Mean_Sales_28d     0.178\n",
      "store_nbr                  0.058\n",
      "cluster                    0.041\n",
      "weekday                    0.041\n",
      "Rolling_Std_Sales_28d      0.027\n",
      "month                      0.013\n",
      "id                         0.012\n",
      "dcoilwtico_interpolated    0.009\n",
      "day                       -0.014\n",
      "year                         NaN\n",
      "is_holiday                   NaN\n",
      "Name: sales, dtype: float64\n"
     ]
    }
   ],
   "source": [
    "import pandas as pd\n",
    "import numpy as np\n",
    "import matplotlib.pyplot as plt\n",
    "import seaborn as sns\n",
    "from sklearn.preprocessing import StandardScaler\n",
    "\n",
    "# 수치형 데이터 열만 추출\n",
    "numeric_features = train.select_dtypes(include=[np.number]).columns.tolist()\n",
    "\n",
    "# StandardScaler를 사용하여 데이터 정규화\n",
    "scaler = StandardScaler()\n",
    "train[numeric_features] = scaler.fit_transform(train[numeric_features])\n",
    "\n",
    "# 모든 feature와 sales 간의 상관관계 계산\n",
    "correlation_matrix = train[numeric_features].corr()\n",
    "\n",
    "\n",
    "# 히트맵 그리기\n",
    "plt.figure(figsize=(16, 14))\n",
    "sns.heatmap(correlation_matrix, annot=True, fmt=\".2f\", cmap='coolwarm', linewidths=0.5)\n",
    "plt.title('Correlation Matrix Heatmap (Normalized)')\n",
    "plt.show()\n",
    "\n",
    "# Feature Selection - 상관관계 기반 선택\n",
    "sales_correlation = correlation_matrix['sales'].sort_values(ascending=False)\n",
    "print(\"Correlation with sales:\\n\", sales_correlation)"
   ]
  },
  {
   "cell_type": "code",
   "execution_count": 307,
   "metadata": {},
   "outputs": [],
   "source": [
    "# 피처 선택을 위한 데이터 전처리\n",
    "X = pd.get_dummies(train, columns=['store_nbr', 'family', 'weekday', 'type', 'cluster'], drop_first=True)\n",
    "\n",
    "# 데이터 타입 최적화\n",
    "for col in X.select_dtypes(include=['float64']).columns:\n",
    "    X[col] = X[col].astype('float32')\n",
    "for col in X.select_dtypes(include=['int64']).columns:\n",
    "    X[col] = X[col].astype('int8')"
   ]
  },
  {
   "cell_type": "code",
   "execution_count": 308,
   "metadata": {},
   "outputs": [
    {
     "data": {
      "text/plain": [
       "Index(['id', 'date', 'sales', 'onpromotion', 'year', 'month', 'day',\n",
       "       'transactions', 'is_holiday', 'dcoilwtico_interpolated',\n",
       "       ...\n",
       "       'cluster_-0.10106571396190629', 'cluster_0.11498999944160879',\n",
       "       'cluster_0.33104571284512385', 'cluster_0.547101426248639',\n",
       "       'cluster_0.763157139652154', 'cluster_0.9792128530556691',\n",
       "       'cluster_1.1952685664591842', 'cluster_1.4113242798626993',\n",
       "       'cluster_1.6273799932662143', 'cluster_1.8434357066697296'],\n",
       "      dtype='object', length=124)"
      ]
     },
     "execution_count": 308,
     "metadata": {},
     "output_type": "execute_result"
    }
   ],
   "source": [
    "X.columns"
   ]
  },
  {
   "cell_type": "code",
   "execution_count": 309,
   "metadata": {},
   "outputs": [
    {
     "name": "stdout",
     "output_type": "stream",
     "text": [
      "Feature ranking:\n",
      "1. feature family_GROCERY I (0.294546304028062)\n",
      "2. feature transactions (0.23238083721269162)\n",
      "3. feature family_BEVERAGES (0.15109186241646486)\n",
      "4. feature family_PRODUCE (0.07755323346129615)\n",
      "5. feature Rolling_Mean_Sales_28d (0.048922316259388414)\n",
      "6. feature Rolling_Mean_Sales_14d (0.04515868156967019)\n",
      "7. feature family_CLEANING (0.018152270917801562)\n",
      "8. feature onpromotion (0.01123774642427521)\n",
      "9. feature family_DAIRY (0.009941446813719135)\n",
      "10. feature id (0.008646644952421586)\n",
      "11. feature cluster_1.1952685664591842 (0.008243701747678942)\n",
      "12. feature day (0.007216750129189803)\n",
      "13. feature weekday_1.495264079510258 (0.006595331729691313)\n",
      "14. feature dcoilwtico_interpolated (0.005724239224673427)\n",
      "15. feature type_D (0.005404433896103116)\n",
      "16. feature Rolling_Std_Sales_28d (0.005033772102565946)\n",
      "17. feature cluster_-0.10106571396190629 (0.0040574549231016215)\n",
      "18. feature Rolling_Std_Sales_14d (0.004018215550054603)\n",
      "19. feature type_B (0.0034892786021780845)\n",
      "20. feature type_C (0.002856028599421781)\n",
      "21. feature weekday_-0.004883536029687557 (0.002553113673583148)\n",
      "22. feature store_nbr_1.2701039900853413 (0.002452670638251364)\n",
      "23. feature store_nbr_1.5261024853909717 (0.0024033960278408094)\n",
      "24. feature family_BREAD/BAKERY (0.0023901707216914237)\n",
      "25. feature cluster_1.8434357066697296 (0.002269530695455923)\n",
      "26. feature store_nbr_-1.5458794582765947 (0.002238700548450485)\n",
      "27. feature month (0.0021308180062496293)\n",
      "28. feature store_nbr_0.43810888034204193 (0.002020445306025412)\n",
      "29. feature store_nbr_1.3981032377381564 (0.001959864527403854)\n",
      "30. feature cluster_0.547101426248639 (0.001755407119543955)\n",
      "31. feature family_POULTRY (0.0013570781215322969)\n",
      "32. feature weekday_-0.5049327412096694 (0.001346628627813837)\n",
      "33. feature cluster_-0.5331771407689365 (0.0013121644424273955)\n",
      "34. feature weekday_-1.0049819463896512 (0.0011899159816117363)\n",
      "35. feature family_MEATS (0.001120016472532172)\n",
      "36. feature weekday_0.9952148743302761 (0.0011176164488711435)\n",
      "37. feature store_nbr_1.142104742432526 (0.0010034440768304854)\n",
      "38. feature weekday_0.4951656691502943 (0.0009285363037335412)\n",
      "39. feature type_E (0.0008865018422010767)\n",
      "40. feature store_nbr_-0.45788585322766484 (0.000832663516565191)\n",
      "41. feature store_nbr_0.7581069994740801 (0.0008045098273790566)\n",
      "42. feature store_nbr_-1.6098790821030022 (0.0007146606372249667)\n",
      "43. feature store_nbr_-1.2258813391445564 (0.0007083093714757631)\n",
      "44. feature store_nbr_-1.3538805867973718 (0.0006779836036917036)\n",
      "45. feature cluster_-1.1813442809794816 (0.0006144385768690202)\n",
      "46. feature cluster_-1.397399994382997 (0.0006014073304608998)\n",
      "47. feature store_nbr_-1.0338824676653335 (0.000550661841100765)\n",
      "48. feature family_DELI (0.0005361452264872764)\n",
      "49. feature family_HOME CARE (0.000487736179520216)\n",
      "50. feature cluster_0.33104571284512385 (0.00048290263755017976)\n",
      "51. feature store_nbr_-0.20188735792203436 (0.00045520751081224044)\n",
      "52. feature family_FROZEN FOODS (0.0004473211379674726)\n",
      "53. feature cluster_-0.31712142736542137 (0.0004378385085761159)\n",
      "54. feature cluster_-0.9652885675759666 (0.0004192694887691163)\n",
      "55. feature store_nbr_-0.1378877340956267 (0.0004085222693520244)\n",
      "56. feature cluster_0.9792128530556691 (0.00039417862041692207)\n",
      "57. feature store_nbr_-1.289880962970964 (0.0003645909245846202)\n",
      "58. feature family_PERSONAL CARE (0.00035587537747947304)\n",
      "59. feature family_EGGS (0.000352267450593586)\n",
      "60. feature store_nbr_-0.777883972359703 (0.0003477717337041646)\n",
      "61. feature store_nbr_1.0781051186061184 (0.0003310944032431701)\n",
      "62. feature cluster_-0.7492328541724516 (0.00032104975288676325)\n",
      "63. feature store_nbr_0.8221066233004878 (0.0003156088932987925)\n",
      "64. feature store_nbr_1.6541017330437868 (0.00029852737396164473)\n",
      "65. feature cluster_1.4113242798626993 (0.0002830176762967064)\n",
      "66. feature store_nbr_0.3741092565156343 (0.0002554684849791863)\n",
      "67. feature cluster_0.763157139652154 (0.0002516801787234154)\n",
      "68. feature family_HOME AND KITCHEN II (0.00023843277179232155)\n",
      "69. feature store_nbr_-0.8418835961861106 (0.0002316779186716498)\n",
      "70. feature store_nbr_-0.3938862294012572 (0.00022256386121375364)\n",
      "71. feature store_nbr_1.2061043662589335 (0.00021348165180643168)\n",
      "72. feature store_nbr_1.3341036139117488 (0.00017381906208578229)\n",
      "73. feature store_nbr_0.8861062471268953 (0.00017140166558011628)\n",
      "74. feature family_PREPARED FOODS (0.00017077314176860167)\n",
      "75. feature store_nbr_1.0141054947797106 (0.00016126436284969999)\n",
      "76. feature store_nbr_-0.6498847247068877 (0.0001556935621619595)\n",
      "77. feature family_LIQUOR,WINE,BEER (0.0001494564797057376)\n",
      "78. feature store_nbr_0.05411113738359617 (0.000143675855407949)\n",
      "79. feature family_HOME AND KITCHEN I (0.00014028139743174484)\n",
      "80. feature store_nbr_1.462102861564564 (0.00013743241441532567)\n",
      "81. feature store_nbr_-0.07388811026921908 (0.00013351247453222546)\n",
      "82. feature store_nbr_-1.1618817153181489 (0.00013048864535093976)\n",
      "83. feature store_nbr_-0.265886981748442 (0.00011934744801970209)\n",
      "84. feature store_nbr_0.5021085041684495 (0.00010978392770876791)\n",
      "85. feature store_nbr_-0.5218854770540725 (0.00010835805159916473)\n",
      "86. feature store_nbr_-1.097882091491741 (0.00010358002620846574)\n",
      "87. feature store_nbr_-0.5858851008804801 (0.00010027897724235765)\n",
      "88. feature store_nbr_0.6941073756476724 (9.580926177937928e-05)\n",
      "89. feature cluster_1.6273799932662143 (9.140241339245493e-05)\n",
      "90. feature store_nbr_-0.9058832200125183 (8.740112300680324e-05)\n",
      "91. feature store_nbr_-1.4178802106237793 (8.48256247094566e-05)\n",
      "92. feature store_nbr_0.24611000886281906 (8.283758640436455e-05)\n",
      "93. feature store_nbr_1.7181013568701946 (8.003562057773189e-05)\n",
      "94. feature store_nbr_0.950105870953303 (7.520050561112094e-05)\n",
      "95. feature cluster_0.11498999944160879 (7.45249604570272e-05)\n",
      "96. feature store_nbr_0.5661081279948572 (5.68516190383496e-05)\n",
      "97. feature store_nbr_-0.9698828438389259 (5.214807418105334e-05)\n",
      "98. feature store_nbr_0.1181107612100038 (4.126770754132808e-05)\n",
      "99. feature store_nbr_-0.7138843485332954 (4.0430809913146495e-05)\n",
      "100. feature family_CELEBRATION (3.48848775725787e-05)\n",
      "101. feature store_nbr_-0.009888486442811456 (3.242116070814775e-05)\n",
      "102. feature family_LAWN AND GARDEN (2.8817941610912867e-05)\n",
      "103. feature store_nbr_-1.481879834450187 (2.8225354220340422e-05)\n",
      "104. feature store_nbr_0.3101096326892267 (2.7134042260650103e-05)\n",
      "105. feature store_nbr_0.18211038503641144 (2.4018271610723268e-05)\n",
      "106. feature store_nbr_0.6301077518212649 (2.3934009132564278e-05)\n",
      "107. feature family_GROCERY II (2.051953586606085e-05)\n",
      "108. feature family_LINGERIE (8.429787469702942e-06)\n",
      "109. feature family_SCHOOL AND OFFICE SUPPLIES (8.179279635691819e-06)\n",
      "110. feature family_SEAFOOD (7.651508470732363e-06)\n",
      "111. feature store_nbr_-0.3298866055748496 (7.522819204142257e-06)\n",
      "112. feature family_PLAYERS AND ELECTRONICS (4.223894629046309e-06)\n",
      "113. feature family_LADIESWEAR (3.2662759344232714e-06)\n",
      "114. feature family_BEAUTY (2.3949053745159095e-06)\n",
      "115. feature family_PET SUPPLIES (1.9546687196769947e-06)\n",
      "116. feature family_MAGAZINES (5.020076474459527e-07)\n",
      "117. feature family_HARDWARE (2.904179053976053e-07)\n",
      "118. feature family_HOME APPLIANCES (1.9311609499274653e-07)\n",
      "119. feature family_BOOKS (6.610395498865327e-08)\n",
      "120. feature family_BABY CARE (5.234334294152471e-08)\n",
      "121. feature is_holiday (0.0)\n",
      "122. feature year (0.0)\n"
     ]
    }
   ],
   "source": [
    "from sklearn.ensemble import RandomForestRegressor\n",
    "from sklearn.feature_selection import RFE\n",
    "from sklearn.linear_model import LassoCV\n",
    "# Feature Selection - 모델 기반 방법\n",
    "# 1. Random Forest Feature Importance\n",
    "y = X['sales']\n",
    "X = X.drop(columns=['sales', 'date'])\n",
    "\n",
    "rf_model = RandomForestRegressor()\n",
    "rf_model.fit(X, y)\n",
    "importances = rf_model.feature_importances_\n",
    "indices = np.argsort(importances)[::-1]\n",
    "\n",
    "print(\"Feature ranking:\")\n",
    "for f in range(X.shape[1]):\n",
    "    print(f\"{f + 1}. feature {X.columns[indices[f]]} ({importances[indices[f]]})\")"
   ]
  },
  {
   "cell_type": "markdown",
   "metadata": {},
   "source": [
    "## test.csv 파일 정리하기"
   ]
  },
  {
   "cell_type": "code",
   "execution_count": 310,
   "metadata": {},
   "outputs": [],
   "source": [
    "test = pd.read_csv(\"../data/test.csv\")\n",
    "test['date'] = pd.to_datetime(test['date'])"
   ]
  }
 ],
 "metadata": {
  "kernelspec": {
   "display_name": "base",
   "language": "python",
   "name": "python3"
  },
  "language_info": {
   "codemirror_mode": {
    "name": "ipython",
    "version": 3
   },
   "file_extension": ".py",
   "mimetype": "text/x-python",
   "name": "python",
   "nbconvert_exporter": "python",
   "pygments_lexer": "ipython3",
   "version": "3.11.8"
  }
 },
 "nbformat": 4,
 "nbformat_minor": 2
}
